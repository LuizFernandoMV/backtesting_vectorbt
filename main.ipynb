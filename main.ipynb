{
 "cells": [
  {
   "cell_type": "code",
   "execution_count": 1,
   "metadata": {},
   "outputs": [],
   "source": [
    "import pandas as pd\n",
    "import yfinance as yf\n",
    "import plotly.graph_objs as go\n",
    "import numpy as np\n",
    "import vectorbt as vbt"
   ]
  },
  {
   "cell_type": "markdown",
   "metadata": {},
   "source": [
    "Utilizaremos a base de dados disponivel no kaggle (https://www.kaggle.com/code/shtrausslearning/news-sentiment-based-trading-strategy/notebook), que contem uma base de dados com as colunas \"Datetime\" \"headline\" \"Ticker\" e \"sentiment\".\n",
    "###### \"Datetime\" - Data da noticia;\n",
    "###### \"headline\" - Titulo;\n",
    "###### \"Ticker\" - Ticker vinculado a noticia;\n",
    "###### \"sentiment\" - Sentimento da noticia, sendo 1 positivo e 0 negativo;"
   ]
  },
  {
   "cell_type": "code",
   "execution_count": 2,
   "metadata": {},
   "outputs": [],
   "source": [
    "#Lendo dados das noticias com sentimento\n",
    "Data_w_sentiment = pd.read_csv('https://raw.githubusercontent.com/tatsath/fin-ml/master/Chapter%2010%20-%20Natural%20Language%20Processing/Case%20Study%201%20-%20NLP%20and%20Sentiments%20Analysis%20based%20Trading%20Strategy/Data/LabelledNewsData.csv', sep=',', header=0, encoding = \"ISO-8859-1\")\n",
    "Data_w_sentiment['datetime'] = pd.to_datetime(Data_w_sentiment['datetime'])\n",
    "\n",
    "#Filtrando apenas os dados da American Express entre janeiro e dezembro de 2019\n",
    "data_inicio = '2019-01-01'\n",
    "data_fim = '2019-12-31'\n",
    "\n",
    "data_filtrado = Data_w_sentiment[(Data_w_sentiment['datetime'] >= data_inicio) & (Data_w_sentiment['datetime'] <= data_fim)]\n",
    "noticias_mercado = data_filtrado[data_filtrado['ticker'] == 'DOW']"
   ]
  },
  {
   "cell_type": "markdown",
   "metadata": {},
   "source": [
    "###### Utilizando a biblioteca Yahoo Finance para realizar o download dos dados historicos do ticker DOW"
   ]
  },
  {
   "cell_type": "code",
   "execution_count": null,
   "metadata": {},
   "outputs": [
    {
     "data": {
      "text/html": [
       "<div>\n",
       "<style scoped>\n",
       "    .dataframe tbody tr th:only-of-type {\n",
       "        vertical-align: middle;\n",
       "    }\n",
       "\n",
       "    .dataframe tbody tr th {\n",
       "        vertical-align: top;\n",
       "    }\n",
       "\n",
       "    .dataframe thead th {\n",
       "        text-align: right;\n",
       "    }\n",
       "</style>\n",
       "<table border=\"1\" class=\"dataframe\">\n",
       "  <thead>\n",
       "    <tr style=\"text-align: right;\">\n",
       "      <th></th>\n",
       "      <th>Date</th>\n",
       "      <th>Open</th>\n",
       "      <th>High</th>\n",
       "      <th>Low</th>\n",
       "      <th>Close</th>\n",
       "      <th>Volume</th>\n",
       "      <th>Dividends</th>\n",
       "      <th>Stock Splits</th>\n",
       "      <th>ticker</th>\n",
       "    </tr>\n",
       "  </thead>\n",
       "  <tbody>\n",
       "    <tr>\n",
       "      <th>0</th>\n",
       "      <td>2019-03-20 00:00:00-04:00</td>\n",
       "      <td>38.857560</td>\n",
       "      <td>39.410037</td>\n",
       "      <td>36.463492</td>\n",
       "      <td>36.684483</td>\n",
       "      <td>2350800</td>\n",
       "      <td>0.0</td>\n",
       "      <td>0.0</td>\n",
       "      <td>DOW</td>\n",
       "    </tr>\n",
       "    <tr>\n",
       "      <th>1</th>\n",
       "      <td>2019-03-21 00:00:00-04:00</td>\n",
       "      <td>36.824449</td>\n",
       "      <td>36.831814</td>\n",
       "      <td>35.505869</td>\n",
       "      <td>36.080444</td>\n",
       "      <td>1764700</td>\n",
       "      <td>0.0</td>\n",
       "      <td>0.0</td>\n",
       "      <td>DOW</td>\n",
       "    </tr>\n",
       "    <tr>\n",
       "      <th>2</th>\n",
       "      <td>2019-03-22 00:00:00-04:00</td>\n",
       "      <td>35.947834</td>\n",
       "      <td>36.794967</td>\n",
       "      <td>35.476388</td>\n",
       "      <td>35.800507</td>\n",
       "      <td>844700</td>\n",
       "      <td>0.0</td>\n",
       "      <td>0.0</td>\n",
       "      <td>DOW</td>\n",
       "    </tr>\n",
       "    <tr>\n",
       "      <th>3</th>\n",
       "      <td>2019-03-25 00:00:00-04:00</td>\n",
       "      <td>35.800513</td>\n",
       "      <td>36.389825</td>\n",
       "      <td>35.358533</td>\n",
       "      <td>36.205666</td>\n",
       "      <td>440900</td>\n",
       "      <td>0.0</td>\n",
       "      <td>0.0</td>\n",
       "      <td>DOW</td>\n",
       "    </tr>\n",
       "    <tr>\n",
       "      <th>4</th>\n",
       "      <td>2019-03-26 00:00:00-04:00</td>\n",
       "      <td>36.095177</td>\n",
       "      <td>36.647654</td>\n",
       "      <td>35.491135</td>\n",
       "      <td>35.984680</td>\n",
       "      <td>504700</td>\n",
       "      <td>0.0</td>\n",
       "      <td>0.0</td>\n",
       "      <td>DOW</td>\n",
       "    </tr>\n",
       "  </tbody>\n",
       "</table>\n",
       "</div>"
      ],
      "text/plain": [
       "                       Date       Open       High        Low      Close  \\\n",
       "0 2019-03-20 00:00:00-04:00  38.857560  39.410037  36.463492  36.684483   \n",
       "1 2019-03-21 00:00:00-04:00  36.824449  36.831814  35.505869  36.080444   \n",
       "2 2019-03-22 00:00:00-04:00  35.947834  36.794967  35.476388  35.800507   \n",
       "3 2019-03-25 00:00:00-04:00  35.800513  36.389825  35.358533  36.205666   \n",
       "4 2019-03-26 00:00:00-04:00  36.095177  36.647654  35.491135  35.984680   \n",
       "\n",
       "    Volume  Dividends  Stock Splits ticker  \n",
       "0  2350800        0.0           0.0    DOW  \n",
       "1  1764700        0.0           0.0    DOW  \n",
       "2   844700        0.0           0.0    DOW  \n",
       "3   440900        0.0           0.0    DOW  \n",
       "4   504700        0.0           0.0    DOW  "
      ]
     },
     "execution_count": 3,
     "metadata": {},
     "output_type": "execute_result"
    }
   ],
   "source": [
    "#Realizando download da base de dados do yahoo finance\n",
    "\n",
    "tickers = ['DOW'] #Define uma lista de tickers, que neste caso contém apenas o ticker 'DOW';\n",
    "\n",
    "start = '2019-01-01'#Define as datas de início e término para o período dos dados históricos que serão baixados.\n",
    "end = '2020-01-10'\n",
    "\n",
    "valores_ticker_return = pd.DataFrame() #Cria um DataFrame vazio chamado \n",
    "\n",
    "#itera sobre cada ticker na lista tickers. Neste caso contem apenas o ticker da American Express\n",
    "for ticker in tickers:\n",
    "    ticker_yf = yf.Ticker(ticker)\n",
    "\n",
    "    data_temp = ticker_yf.history(start=start, end=end).reset_index()\n",
    "    data_temp['ticker'] = ticker\n",
    "\n",
    "    if valores_ticker_return.empty:\n",
    "        valores_ticker_return = data_temp\n",
    "    else:\n",
    "        valores_ticker_return = pd.concat([valores_ticker_return, data_temp], ignore_index=True)\n",
    "\n",
    "valores_ticker_return.head()"
   ]
  },
  {
   "cell_type": "markdown",
   "metadata": {},
   "source": [
    "###### Deixando as bases de dados com o mesmo formato de data, para um melhor filtro, em seguida ordenando pela data."
   ]
  },
  {
   "cell_type": "code",
   "execution_count": 4,
   "metadata": {},
   "outputs": [
    {
     "name": "stderr",
     "output_type": "stream",
     "text": [
      "C:\\Users\\ferna\\AppData\\Local\\Temp\\ipykernel_37556\\4258989901.py:2: SettingWithCopyWarning: \n",
      "A value is trying to be set on a copy of a slice from a DataFrame.\n",
      "Try using .loc[row_indexer,col_indexer] = value instead\n",
      "\n",
      "See the caveats in the documentation: https://pandas.pydata.org/pandas-docs/stable/user_guide/indexing.html#returning-a-view-versus-a-copy\n",
      "  noticias_mercado['datetime'] = pd.to_datetime(noticias_mercado['datetime'], utc= True)\n",
      "C:\\Users\\ferna\\AppData\\Local\\Temp\\ipykernel_37556\\4258989901.py:7: SettingWithCopyWarning: \n",
      "A value is trying to be set on a copy of a slice from a DataFrame\n",
      "\n",
      "See the caveats in the documentation: https://pandas.pydata.org/pandas-docs/stable/user_guide/indexing.html#returning-a-view-versus-a-copy\n",
      "  noticias_mercado.sort_values('datetime', inplace=True)\n"
     ]
    }
   ],
   "source": [
    "valores_mercado = valores_ticker_return\n",
    "noticias_mercado['datetime'] = pd.to_datetime(noticias_mercado['datetime'], utc= True)\n",
    "valores_mercado['Date'] = pd.to_datetime(valores_mercado['Date'], utc=True)\n",
    "\n",
    "#ordenando as bases pela data\n",
    "valores_mercado.sort_values('Date', inplace=True)\n",
    "noticias_mercado.sort_values('datetime', inplace=True)"
   ]
  },
  {
   "cell_type": "markdown",
   "metadata": {},
   "source": [
    "###### Criando a coluna de fechamento em percentual, sendo o percentual calculado em relação ao primeiro valor do mercado."
   ]
  },
  {
   "cell_type": "code",
   "execution_count": 5,
   "metadata": {},
   "outputs": [],
   "source": [
    "# Calculando close em percentual com relação ao primeiro valor\n",
    "primeiro_valor = valores_mercado['Close'].iloc[0]\n",
    "valores_mercado['Close_pct'] = (valores_mercado['Close'] / primeiro_valor)"
   ]
  },
  {
   "cell_type": "markdown",
   "metadata": {},
   "source": [
    "###### Criando uma nova base de dados, juntando as bases valores_dow, correspondente aos valores de fechamento e a base noticias_axp, correspondendo as noticias e seus sentimentos."
   ]
  },
  {
   "cell_type": "code",
   "execution_count": 6,
   "metadata": {},
   "outputs": [],
   "source": [
    "# Juntando as bases\n",
    "noticias_precificadas = pd.merge_asof(valores_mercado, noticias_mercado, left_on='Date', right_on='datetime', by='ticker', tolerance=pd.Timedelta('24 hours'))\n",
    "\n",
    "# Renomeando as colunas\n",
    "noticias_precificadas.rename(columns={'headline': 'headline_same_day', 'sentiment': 'sentiment_same_day'}, inplace=True)\n",
    "\n",
    "noticias_precificadas['sentiment_same_day'].replace({10: 1, 0: -1}, inplace=True)# Ajustando os sentimentos 10 = 1; 0 = -1\n",
    "\n",
    "noticias_precificadas['sentiment_same_day'].fillna(value=0, inplace=True)# Substituindo os valores ausentes por 0\n",
    "\n",
    "noticias_precificadas['sentiment_same_day']= noticias_precificadas['sentiment_same_day'].astype(int)\n"
   ]
  },
  {
   "cell_type": "markdown",
   "metadata": {},
   "source": [
    "###### Criando uma nova coluna para melhor exibição das noticias"
   ]
  },
  {
   "cell_type": "code",
   "execution_count": 7,
   "metadata": {},
   "outputs": [],
   "source": [
    "# Exibição 1\n",
    "\n",
    "noticias_precificadas['sentimento_grafico'] = ''\n",
    "\n",
    "noticias_precificadas.loc[noticias_precificadas['headline_same_day'].notnull(), 'sentimento_grafico'] = noticias_precificadas['sentiment_same_day']\n",
    "\n",
    "# Exibição 2\n",
    "\n",
    "noticias_precificadas['teste_1'] = 0\n",
    "\n",
    "previous_sentiment = 0  # Valor inicial para o primeiro dia\n",
    "\n",
    "for index, row in noticias_precificadas.iterrows():\n",
    "    if row['sentiment_same_day'] == 1: #Se o sentimento for um define a linha como 1\n",
    "        noticias_precificadas.at[index, 'teste_1'] = 1\n",
    "        previous_sentiment = 1\n",
    "        \n",
    "    elif row['sentiment_same_day'] == -1: #Se o sentimento for um define a linha como -1\n",
    "        noticias_precificadas.at[index, 'teste_1'] = -1\n",
    "        previous_sentiment = -1\n",
    "        \n",
    "    else:\n",
    "        noticias_precificadas.at[index, 'teste_1'] = previous_sentiment #Se o sentimento for 0, mantem o valor do dia anterior (1 ou -1)\n",
    "\n",
    "noticias_precificadas.at[noticias_precificadas.index[-1], 'sentiment_same_day'] = -1\n",
    "noticias_precificadas.at[noticias_precificadas.index[-1], 'teste_1'] = -1"
   ]
  },
  {
   "cell_type": "code",
   "execution_count": 8,
   "metadata": {},
   "outputs": [],
   "source": [
    "#Criando a coluna de capital\n",
    "#Capital = venda-compra/compra \n",
    "noticias_precificadas['capital'] = 0.0\n",
    "\n",
    "var = noticias_precificadas['teste_1'] == 1\n",
    "noticias_precificadas.loc[var, 'capital'] = ((noticias_precificadas.loc[var, 'Close'] - noticias_precificadas.loc[var, 'Close'].shift(1))) / noticias_precificadas.loc[var, 'Close'].shift(1)\n"
   ]
  },
  {
   "cell_type": "code",
   "execution_count": 9,
   "metadata": {},
   "outputs": [],
   "source": [
    "# Calcula a série de retorno composto usando np.cumprod\n",
    "noticias_precificadas['retorno_composto'] = (1 + noticias_precificadas['capital']).cumprod() - 1\n",
    "\n",
    "\n",
    "# Substituindo os valores NaN (resultantes do primeiro dia) por 1\n",
    "noticias_precificadas['retorno_composto'].fillna(0, inplace=True)\n"
   ]
  },
  {
   "cell_type": "markdown",
   "metadata": {},
   "source": [
    "##### Criando a coluna ganho, metodo que utilizaremos no mercado\n",
    "\n",
    "O valor de ganho é definido da seguinte forma, caso a noticia no dia é boa (+1), então entraremos no mercado. Caso a noticia seja ruim (-1), sairemos do mercado. Por ultimo, caso não tenhamos noticias boas ou ruins, ou seja neutro, manteremos a ação anterior.\n",
    "\n",
    "Ganho é calculado em percentual ao primeiro valor de entrada no mercado."
   ]
  },
  {
   "cell_type": "code",
   "execution_count": 10,
   "metadata": {},
   "outputs": [
    {
     "name": "stdout",
     "output_type": "stream",
     "text": [
      "35.800506591796875\n"
     ]
    },
    {
     "data": {
      "text/html": [
       "<div>\n",
       "<style scoped>\n",
       "    .dataframe tbody tr th:only-of-type {\n",
       "        vertical-align: middle;\n",
       "    }\n",
       "\n",
       "    .dataframe tbody tr th {\n",
       "        vertical-align: top;\n",
       "    }\n",
       "\n",
       "    .dataframe thead th {\n",
       "        text-align: right;\n",
       "    }\n",
       "</style>\n",
       "<table border=\"1\" class=\"dataframe\">\n",
       "  <thead>\n",
       "    <tr style=\"text-align: right;\">\n",
       "      <th></th>\n",
       "      <th>Date</th>\n",
       "      <th>Open</th>\n",
       "      <th>High</th>\n",
       "      <th>Low</th>\n",
       "      <th>Close</th>\n",
       "      <th>Volume</th>\n",
       "      <th>Dividends</th>\n",
       "      <th>Stock Splits</th>\n",
       "      <th>ticker</th>\n",
       "      <th>Close_pct</th>\n",
       "      <th>datetime</th>\n",
       "      <th>headline_same_day</th>\n",
       "      <th>sentiment_same_day</th>\n",
       "      <th>sentimento_grafico</th>\n",
       "      <th>teste_1</th>\n",
       "      <th>capital</th>\n",
       "      <th>retorno_composto</th>\n",
       "      <th>ganho</th>\n",
       "    </tr>\n",
       "  </thead>\n",
       "  <tbody>\n",
       "    <tr>\n",
       "      <th>0</th>\n",
       "      <td>2019-03-20 04:00:00+00:00</td>\n",
       "      <td>38.857560</td>\n",
       "      <td>39.410037</td>\n",
       "      <td>36.463492</td>\n",
       "      <td>36.684483</td>\n",
       "      <td>2350800</td>\n",
       "      <td>0.0</td>\n",
       "      <td>0.0</td>\n",
       "      <td>DOW</td>\n",
       "      <td>1.000000</td>\n",
       "      <td>NaT</td>\n",
       "      <td>NaN</td>\n",
       "      <td>0</td>\n",
       "      <td></td>\n",
       "      <td>0</td>\n",
       "      <td>0.000000</td>\n",
       "      <td>0.000000</td>\n",
       "      <td>1.000000</td>\n",
       "    </tr>\n",
       "    <tr>\n",
       "      <th>1</th>\n",
       "      <td>2019-03-21 04:00:00+00:00</td>\n",
       "      <td>36.824449</td>\n",
       "      <td>36.831814</td>\n",
       "      <td>35.505869</td>\n",
       "      <td>36.080444</td>\n",
       "      <td>1764700</td>\n",
       "      <td>0.0</td>\n",
       "      <td>0.0</td>\n",
       "      <td>DOW</td>\n",
       "      <td>0.983534</td>\n",
       "      <td>NaT</td>\n",
       "      <td>NaN</td>\n",
       "      <td>0</td>\n",
       "      <td></td>\n",
       "      <td>0</td>\n",
       "      <td>0.000000</td>\n",
       "      <td>0.000000</td>\n",
       "      <td>1.000000</td>\n",
       "    </tr>\n",
       "    <tr>\n",
       "      <th>2</th>\n",
       "      <td>2019-03-22 04:00:00+00:00</td>\n",
       "      <td>35.947834</td>\n",
       "      <td>36.794967</td>\n",
       "      <td>35.476388</td>\n",
       "      <td>35.800507</td>\n",
       "      <td>844700</td>\n",
       "      <td>0.0</td>\n",
       "      <td>0.0</td>\n",
       "      <td>DOW</td>\n",
       "      <td>0.975903</td>\n",
       "      <td>2019-03-21 12:17:00+00:00</td>\n",
       "      <td>$SPY Understanding, where we stand is key, har...</td>\n",
       "      <td>1</td>\n",
       "      <td>1</td>\n",
       "      <td>1</td>\n",
       "      <td>NaN</td>\n",
       "      <td>0.000000</td>\n",
       "      <td>1.000000</td>\n",
       "    </tr>\n",
       "    <tr>\n",
       "      <th>3</th>\n",
       "      <td>2019-03-25 04:00:00+00:00</td>\n",
       "      <td>35.800513</td>\n",
       "      <td>36.389825</td>\n",
       "      <td>35.358533</td>\n",
       "      <td>36.205666</td>\n",
       "      <td>440900</td>\n",
       "      <td>0.0</td>\n",
       "      <td>0.0</td>\n",
       "      <td>DOW</td>\n",
       "      <td>0.986948</td>\n",
       "      <td>NaT</td>\n",
       "      <td>NaN</td>\n",
       "      <td>0</td>\n",
       "      <td></td>\n",
       "      <td>1</td>\n",
       "      <td>0.011317</td>\n",
       "      <td>0.011317</td>\n",
       "      <td>1.011317</td>\n",
       "    </tr>\n",
       "    <tr>\n",
       "      <th>4</th>\n",
       "      <td>2019-03-26 04:00:00+00:00</td>\n",
       "      <td>36.095177</td>\n",
       "      <td>36.647654</td>\n",
       "      <td>35.491135</td>\n",
       "      <td>35.984680</td>\n",
       "      <td>504700</td>\n",
       "      <td>0.0</td>\n",
       "      <td>0.0</td>\n",
       "      <td>DOW</td>\n",
       "      <td>0.980924</td>\n",
       "      <td>NaT</td>\n",
       "      <td>NaN</td>\n",
       "      <td>0</td>\n",
       "      <td></td>\n",
       "      <td>1</td>\n",
       "      <td>-0.006104</td>\n",
       "      <td>0.005144</td>\n",
       "      <td>1.005144</td>\n",
       "    </tr>\n",
       "  </tbody>\n",
       "</table>\n",
       "</div>"
      ],
      "text/plain": [
       "                       Date       Open       High        Low      Close  \\\n",
       "0 2019-03-20 04:00:00+00:00  38.857560  39.410037  36.463492  36.684483   \n",
       "1 2019-03-21 04:00:00+00:00  36.824449  36.831814  35.505869  36.080444   \n",
       "2 2019-03-22 04:00:00+00:00  35.947834  36.794967  35.476388  35.800507   \n",
       "3 2019-03-25 04:00:00+00:00  35.800513  36.389825  35.358533  36.205666   \n",
       "4 2019-03-26 04:00:00+00:00  36.095177  36.647654  35.491135  35.984680   \n",
       "\n",
       "    Volume  Dividends  Stock Splits ticker  Close_pct  \\\n",
       "0  2350800        0.0           0.0    DOW   1.000000   \n",
       "1  1764700        0.0           0.0    DOW   0.983534   \n",
       "2   844700        0.0           0.0    DOW   0.975903   \n",
       "3   440900        0.0           0.0    DOW   0.986948   \n",
       "4   504700        0.0           0.0    DOW   0.980924   \n",
       "\n",
       "                   datetime  \\\n",
       "0                       NaT   \n",
       "1                       NaT   \n",
       "2 2019-03-21 12:17:00+00:00   \n",
       "3                       NaT   \n",
       "4                       NaT   \n",
       "\n",
       "                                   headline_same_day  sentiment_same_day  \\\n",
       "0                                                NaN                   0   \n",
       "1                                                NaN                   0   \n",
       "2  $SPY Understanding, where we stand is key, har...                   1   \n",
       "3                                                NaN                   0   \n",
       "4                                                NaN                   0   \n",
       "\n",
       "  sentimento_grafico  teste_1   capital  retorno_composto     ganho  \n",
       "0                           0  0.000000          0.000000  1.000000  \n",
       "1                           0  0.000000          0.000000  1.000000  \n",
       "2                  1        1       NaN          0.000000  1.000000  \n",
       "3                           1  0.011317          0.011317  1.011317  \n",
       "4                           1 -0.006104          0.005144  1.005144  "
      ]
     },
     "execution_count": 10,
     "metadata": {},
     "output_type": "execute_result"
    }
   ],
   "source": [
    "# Encontre o índice onde o sentiment_same_day é 1 pela primeira vez\n",
    "first_positive_index = noticias_precificadas[noticias_precificadas['teste_1'] == 1].index[0]\n",
    "\n",
    "# Este valor é usado como o ponto de referência para calcular as mudanças percentuais nos preços subsequentes.\n",
    "reference_value = noticias_precificadas.loc[first_positive_index, 'Close']\n",
    "\n",
    "print(reference_value)\n",
    "\n",
    "noticias_precificadas['ganho'] = 1.0\n",
    "ganho_da_ultima_trading = 1.0\n",
    "\n",
    "for idx in range(1, len(noticias_precificadas)):\n",
    "\n",
    "    if noticias_precificadas.loc[idx, 'teste_1'] == 1 and noticias_precificadas.loc[idx - 1, 'teste_1'] == 1:\n",
    "        ganho_parcial = (noticias_precificadas.loc[idx, 'Close'] - reference_value) / reference_value      \n",
    "        noticias_precificadas.loc[idx, 'ganho'] = ganho_parcial + ganho_da_ultima_trading\n",
    "\n",
    "    elif noticias_precificadas.loc[idx, 'teste_1'] == -1 and noticias_precificadas.loc[idx - 1, 'teste_1'] == 1:\n",
    "        ganho_parcial = (noticias_precificadas.loc[idx, 'Close'] - reference_value) / reference_value\n",
    "        noticias_precificadas.loc[idx, 'ganho'] = ganho_parcial + ganho_da_ultima_trading\n",
    "        \n",
    "    elif noticias_precificadas.loc[idx, 'teste_1'] == -1 and noticias_precificadas.loc[idx - 1, 'teste_1'] == -1:\n",
    "        noticias_precificadas.loc[idx, 'ganho'] = noticias_precificadas.loc[idx - 1, 'ganho'] \n",
    "        ganho_da_ultima_trading = noticias_precificadas.loc[idx, 'ganho']\n",
    "    \n",
    "    # Atualizar o reference_value quando ocorrer uma nova compra\n",
    "    elif noticias_precificadas.loc[idx, 'teste_1'] == 1 and noticias_precificadas.loc[idx - 1, 'teste_1'] == -1:\n",
    "        reference_value = noticias_precificadas.loc[idx, 'Close']\n",
    "        noticias_precificadas.loc[idx, 'ganho'] = ganho_da_ultima_trading\n",
    "\n",
    "noticias_precificadas.to_csv('valores_dow_com_sentimento_trading.csv', index=False)\n",
    "noticias_precificadas.head()"
   ]
  },
  {
   "cell_type": "markdown",
   "metadata": {},
   "source": [
    "###### Grafico do ganho"
   ]
  },
  {
   "cell_type": "code",
   "execution_count": 11,
   "metadata": {},
   "outputs": [
    {
     "data": {
      "application/vnd.plotly.v1+json": {
       "config": {
        "plotlyServerURL": "https://plot.ly"
       },
       "data": [
        {
         "line": {
          "color": "blue",
          "width": 1.4
         },
         "mode": "lines",
         "name": "Trading",
         "type": "scatter",
         "x": [
          "2019-03-20T04:00:00+00:00",
          "2019-03-21T04:00:00+00:00",
          "2019-03-22T04:00:00+00:00",
          "2019-03-25T04:00:00+00:00",
          "2019-03-26T04:00:00+00:00",
          "2019-03-27T04:00:00+00:00",
          "2019-03-28T04:00:00+00:00",
          "2019-03-29T04:00:00+00:00",
          "2019-04-01T04:00:00+00:00",
          "2019-04-02T04:00:00+00:00",
          "2019-04-03T04:00:00+00:00",
          "2019-04-04T04:00:00+00:00",
          "2019-04-05T04:00:00+00:00",
          "2019-04-08T04:00:00+00:00",
          "2019-04-09T04:00:00+00:00",
          "2019-04-10T04:00:00+00:00",
          "2019-04-11T04:00:00+00:00",
          "2019-04-12T04:00:00+00:00",
          "2019-04-15T04:00:00+00:00",
          "2019-04-16T04:00:00+00:00",
          "2019-04-17T04:00:00+00:00",
          "2019-04-18T04:00:00+00:00",
          "2019-04-22T04:00:00+00:00",
          "2019-04-23T04:00:00+00:00",
          "2019-04-24T04:00:00+00:00",
          "2019-04-25T04:00:00+00:00",
          "2019-04-26T04:00:00+00:00",
          "2019-04-29T04:00:00+00:00",
          "2019-04-30T04:00:00+00:00",
          "2019-05-01T04:00:00+00:00",
          "2019-05-02T04:00:00+00:00",
          "2019-05-03T04:00:00+00:00",
          "2019-05-06T04:00:00+00:00",
          "2019-05-07T04:00:00+00:00",
          "2019-05-08T04:00:00+00:00",
          "2019-05-09T04:00:00+00:00",
          "2019-05-10T04:00:00+00:00",
          "2019-05-13T04:00:00+00:00",
          "2019-05-14T04:00:00+00:00",
          "2019-05-15T04:00:00+00:00",
          "2019-05-16T04:00:00+00:00",
          "2019-05-17T04:00:00+00:00",
          "2019-05-20T04:00:00+00:00",
          "2019-05-21T04:00:00+00:00",
          "2019-05-22T04:00:00+00:00",
          "2019-05-23T04:00:00+00:00",
          "2019-05-24T04:00:00+00:00",
          "2019-05-28T04:00:00+00:00",
          "2019-05-29T04:00:00+00:00",
          "2019-05-30T04:00:00+00:00",
          "2019-05-31T04:00:00+00:00",
          "2019-06-03T04:00:00+00:00",
          "2019-06-04T04:00:00+00:00",
          "2019-06-05T04:00:00+00:00",
          "2019-06-06T04:00:00+00:00",
          "2019-06-07T04:00:00+00:00",
          "2019-06-10T04:00:00+00:00",
          "2019-06-11T04:00:00+00:00",
          "2019-06-12T04:00:00+00:00",
          "2019-06-13T04:00:00+00:00",
          "2019-06-14T04:00:00+00:00",
          "2019-06-17T04:00:00+00:00",
          "2019-06-18T04:00:00+00:00",
          "2019-06-19T04:00:00+00:00",
          "2019-06-20T04:00:00+00:00",
          "2019-06-21T04:00:00+00:00",
          "2019-06-24T04:00:00+00:00",
          "2019-06-25T04:00:00+00:00",
          "2019-06-26T04:00:00+00:00",
          "2019-06-27T04:00:00+00:00",
          "2019-06-28T04:00:00+00:00",
          "2019-07-01T04:00:00+00:00",
          "2019-07-02T04:00:00+00:00",
          "2019-07-03T04:00:00+00:00",
          "2019-07-05T04:00:00+00:00",
          "2019-07-08T04:00:00+00:00",
          "2019-07-09T04:00:00+00:00",
          "2019-07-10T04:00:00+00:00",
          "2019-07-11T04:00:00+00:00",
          "2019-07-12T04:00:00+00:00",
          "2019-07-15T04:00:00+00:00",
          "2019-07-16T04:00:00+00:00",
          "2019-07-17T04:00:00+00:00",
          "2019-07-18T04:00:00+00:00",
          "2019-07-19T04:00:00+00:00",
          "2019-07-22T04:00:00+00:00",
          "2019-07-23T04:00:00+00:00",
          "2019-07-24T04:00:00+00:00",
          "2019-07-25T04:00:00+00:00",
          "2019-07-26T04:00:00+00:00",
          "2019-07-29T04:00:00+00:00",
          "2019-07-30T04:00:00+00:00",
          "2019-07-31T04:00:00+00:00",
          "2019-08-01T04:00:00+00:00",
          "2019-08-02T04:00:00+00:00",
          "2019-08-05T04:00:00+00:00",
          "2019-08-06T04:00:00+00:00",
          "2019-08-07T04:00:00+00:00",
          "2019-08-08T04:00:00+00:00",
          "2019-08-09T04:00:00+00:00",
          "2019-08-12T04:00:00+00:00",
          "2019-08-13T04:00:00+00:00",
          "2019-08-14T04:00:00+00:00",
          "2019-08-15T04:00:00+00:00",
          "2019-08-16T04:00:00+00:00",
          "2019-08-19T04:00:00+00:00",
          "2019-08-20T04:00:00+00:00",
          "2019-08-21T04:00:00+00:00",
          "2019-08-22T04:00:00+00:00",
          "2019-08-23T04:00:00+00:00",
          "2019-08-26T04:00:00+00:00",
          "2019-08-27T04:00:00+00:00",
          "2019-08-28T04:00:00+00:00",
          "2019-08-29T04:00:00+00:00",
          "2019-08-30T04:00:00+00:00",
          "2019-09-03T04:00:00+00:00",
          "2019-09-04T04:00:00+00:00",
          "2019-09-05T04:00:00+00:00",
          "2019-09-06T04:00:00+00:00",
          "2019-09-09T04:00:00+00:00",
          "2019-09-10T04:00:00+00:00",
          "2019-09-11T04:00:00+00:00",
          "2019-09-12T04:00:00+00:00",
          "2019-09-13T04:00:00+00:00",
          "2019-09-16T04:00:00+00:00",
          "2019-09-17T04:00:00+00:00",
          "2019-09-18T04:00:00+00:00",
          "2019-09-19T04:00:00+00:00",
          "2019-09-20T04:00:00+00:00",
          "2019-09-23T04:00:00+00:00",
          "2019-09-24T04:00:00+00:00",
          "2019-09-25T04:00:00+00:00",
          "2019-09-26T04:00:00+00:00",
          "2019-09-27T04:00:00+00:00",
          "2019-09-30T04:00:00+00:00",
          "2019-10-01T04:00:00+00:00",
          "2019-10-02T04:00:00+00:00",
          "2019-10-03T04:00:00+00:00",
          "2019-10-04T04:00:00+00:00",
          "2019-10-07T04:00:00+00:00",
          "2019-10-08T04:00:00+00:00",
          "2019-10-09T04:00:00+00:00",
          "2019-10-10T04:00:00+00:00",
          "2019-10-11T04:00:00+00:00",
          "2019-10-14T04:00:00+00:00",
          "2019-10-15T04:00:00+00:00",
          "2019-10-16T04:00:00+00:00",
          "2019-10-17T04:00:00+00:00",
          "2019-10-18T04:00:00+00:00",
          "2019-10-21T04:00:00+00:00",
          "2019-10-22T04:00:00+00:00",
          "2019-10-23T04:00:00+00:00",
          "2019-10-24T04:00:00+00:00",
          "2019-10-25T04:00:00+00:00",
          "2019-10-28T04:00:00+00:00",
          "2019-10-29T04:00:00+00:00",
          "2019-10-30T04:00:00+00:00",
          "2019-10-31T04:00:00+00:00",
          "2019-11-01T04:00:00+00:00",
          "2019-11-04T05:00:00+00:00",
          "2019-11-05T05:00:00+00:00",
          "2019-11-06T05:00:00+00:00",
          "2019-11-07T05:00:00+00:00",
          "2019-11-08T05:00:00+00:00",
          "2019-11-11T05:00:00+00:00",
          "2019-11-12T05:00:00+00:00",
          "2019-11-13T05:00:00+00:00",
          "2019-11-14T05:00:00+00:00",
          "2019-11-15T05:00:00+00:00",
          "2019-11-18T05:00:00+00:00",
          "2019-11-19T05:00:00+00:00",
          "2019-11-20T05:00:00+00:00",
          "2019-11-21T05:00:00+00:00",
          "2019-11-22T05:00:00+00:00",
          "2019-11-25T05:00:00+00:00",
          "2019-11-26T05:00:00+00:00",
          "2019-11-27T05:00:00+00:00",
          "2019-11-29T05:00:00+00:00",
          "2019-12-02T05:00:00+00:00",
          "2019-12-03T05:00:00+00:00",
          "2019-12-04T05:00:00+00:00",
          "2019-12-05T05:00:00+00:00",
          "2019-12-06T05:00:00+00:00",
          "2019-12-09T05:00:00+00:00",
          "2019-12-10T05:00:00+00:00",
          "2019-12-11T05:00:00+00:00",
          "2019-12-12T05:00:00+00:00",
          "2019-12-13T05:00:00+00:00",
          "2019-12-16T05:00:00+00:00",
          "2019-12-17T05:00:00+00:00",
          "2019-12-18T05:00:00+00:00",
          "2019-12-19T05:00:00+00:00",
          "2019-12-20T05:00:00+00:00",
          "2019-12-23T05:00:00+00:00",
          "2019-12-24T05:00:00+00:00",
          "2019-12-26T05:00:00+00:00",
          "2019-12-27T05:00:00+00:00",
          "2019-12-30T05:00:00+00:00",
          "2019-12-31T05:00:00+00:00",
          "2020-01-02T05:00:00+00:00",
          "2020-01-03T05:00:00+00:00",
          "2020-01-06T05:00:00+00:00",
          "2020-01-07T05:00:00+00:00",
          "2020-01-08T05:00:00+00:00",
          "2020-01-09T05:00:00+00:00"
         ],
         "y": [
          1,
          1,
          1,
          1.0113171302630357,
          1.0051444407221481,
          1.0308645132472545,
          1.0462966633166,
          1.062346188894316,
          1.1008234728001016,
          1.1574079520181808,
          1.1703709197168894,
          1.2286013429249236,
          1.1777782537202361,
          1.1759265534122516,
          1.1578192515456764,
          1.1462965780731746,
          1.1294244534404672,
          1.1995889562027804,
          1.1888895211109605,
          1.203704082563372,
          1.2000004688388397,
          1.2000004688388397,
          1.2000004688388397,
          1.2000004688388397,
          1.2000004688388397,
          1.2000004688388397,
          1.2000004688388397,
          1.2000004688388397,
          1.2000004688388397,
          1.2000004688388397,
          1.2000004688388397,
          1.2000004688388397,
          1.2000004688388397,
          1.2000004688388397,
          1.2000004688388397,
          1.2000004688388397,
          1.2000004688388397,
          1.2000004688388397,
          1.2000004688388397,
          1.2000004688388397,
          1.2000004688388397,
          1.2000004688388397,
          1.2000004688388397,
          1.2000004688388397,
          1.2000004688388397,
          1.2000004688388397,
          1.2000004688388397,
          1.1869923433784815,
          1.190041048775969,
          1.1995270327305056,
          1.1642642525343232,
          1.189010077970915,
          1.229634432627398,
          1.2380894457768807,
          1.252937004191718,
          1.2578856640559772,
          1.2644847192467548,
          1.2731458213024442,
          1.2731458213024442,
          1.2731458213024442,
          1.2731458213024442,
          1.2731458213024442,
          1.2731458213024442,
          1.2731458213024442,
          1.2731458213024442,
          1.2731458213024442,
          1.2731458213024442,
          1.2731458213024442,
          1.2731458213024442,
          1.2731458213024442,
          1.2731458213024442,
          1.2731458213024442,
          1.2731458213024442,
          1.2731458213024442,
          1.2731458213024442,
          1.2571247324290153,
          1.2439427373849046,
          1.2374534392097687,
          1.2421177387227815,
          1.2812577545537212,
          1.3059990060550157,
          1.3059990060550157,
          1.3059990060550157,
          1.3059990060550157,
          1.3059990060550157,
          1.3059990060550157,
          1.3059990060550157,
          1.3059990060550157,
          1.2677339880209215,
          1.2362888974482318,
          1.2362888974482318,
          1.2362888974482318,
          1.2362888974482318,
          1.2362888974482318,
          1.2362888974482318,
          1.2362888974482318,
          1.2362888974482318,
          1.2362888974482318,
          1.2362888974482318,
          1.2362888974482318,
          1.2362888974482318,
          1.2362888974482318,
          1.2362888974482318,
          1.2362888974482318,
          1.2362888974482318,
          1.2362888974482318,
          1.2362888974482318,
          1.2362888974482318,
          1.2362888974482318,
          1.2362888974482318,
          1.2362888974482318,
          1.2362888974482318,
          1.2362888974482318,
          1.2362888974482318,
          1.2362888974482318,
          1.2362888974482318,
          1.2362888974482318,
          1.2362888974482318,
          1.2362888974482318,
          1.2362888974482318,
          1.2362888974482318,
          1.2362888974482318,
          1.2362888974482318,
          1.2362888974482318,
          1.2362888974482318,
          1.2362888974482318,
          1.2362888974482318,
          1.2362888974482318,
          1.2362888974482318,
          1.2362888974482318,
          1.2362888974482318,
          1.2362888974482318,
          1.2362888974482318,
          1.2362888974482318,
          1.2362888974482318,
          1.2362888974482318,
          1.2362888974482318,
          1.2362888974482318,
          1.2362888974482318,
          1.2362888974482318,
          1.2362888974482318,
          1.2362888974482318,
          1.2362888974482318,
          1.2362888974482318,
          1.2297114420013826,
          1.2377742598910475,
          1.2360766115143105,
          1.2507169913665965,
          1.253899895670377,
          1.2360766115143105,
          1.2297114420013826,
          1.2297114420013826,
          1.2297114420013826,
          1.2297114420013826,
          1.2297114420013826,
          1.2297114420013826,
          1.2297114420013826,
          1.2297114420013826,
          1.2297114420013826,
          1.2297114420013826,
          1.2297114420013826,
          1.2297114420013826,
          1.2297114420013826,
          1.2297114420013826,
          1.2297114420013826,
          1.2297114420013826,
          1.2297114420013826,
          1.2297114420013826,
          1.2297114420013826,
          1.2297114420013826,
          1.2297114420013826,
          1.2297114420013826,
          1.2297114420013826,
          1.2297114420013826,
          1.2297114420013826,
          1.2297114420013826,
          1.2297114420013826,
          1.2297114420013826,
          1.2297114420013826,
          1.2297114420013826,
          1.238588408976131,
          1.2331850003455411,
          1.2567282938527562,
          1.2576928363928221,
          1.2549912755537085,
          1.2544123969884091,
          1.2804641323949923,
          1.2578859553325676,
          1.2750609150659773,
          1.2845163780028754,
          1.2766043361713428,
          1.281814912814549,
          1.2835520267643843,
          1.2897268589952946,
          1.2891480760807825,
          1.2953233865656297,
          1.2877972000104383,
          1.2783414501211778,
          1.2858674453747945,
          1.2669557542946992,
          1.2412898741644574,
          1.2372375329057865,
          1.2368515819786579,
          1.2472724483127084,
          1.2368515819786579
         ]
        }
       ],
       "layout": {
        "hovermode": "x",
        "legend": {
         "orientation": "h",
         "x": 1,
         "xanchor": "right",
         "y": 1.02,
         "yanchor": "bottom"
        },
        "paper_bgcolor": "white",
        "plot_bgcolor": "white",
        "template": {
         "data": {
          "bar": [
           {
            "error_x": {
             "color": "#2a3f5f"
            },
            "error_y": {
             "color": "#2a3f5f"
            },
            "marker": {
             "line": {
              "color": "#E5ECF6",
              "width": 0.5
             },
             "pattern": {
              "fillmode": "overlay",
              "size": 10,
              "solidity": 0.2
             }
            },
            "type": "bar"
           }
          ],
          "barpolar": [
           {
            "marker": {
             "line": {
              "color": "#E5ECF6",
              "width": 0.5
             },
             "pattern": {
              "fillmode": "overlay",
              "size": 10,
              "solidity": 0.2
             }
            },
            "type": "barpolar"
           }
          ],
          "carpet": [
           {
            "aaxis": {
             "endlinecolor": "#2a3f5f",
             "gridcolor": "white",
             "linecolor": "white",
             "minorgridcolor": "white",
             "startlinecolor": "#2a3f5f"
            },
            "baxis": {
             "endlinecolor": "#2a3f5f",
             "gridcolor": "white",
             "linecolor": "white",
             "minorgridcolor": "white",
             "startlinecolor": "#2a3f5f"
            },
            "type": "carpet"
           }
          ],
          "choropleth": [
           {
            "colorbar": {
             "outlinewidth": 0,
             "ticks": ""
            },
            "type": "choropleth"
           }
          ],
          "contour": [
           {
            "colorbar": {
             "outlinewidth": 0,
             "ticks": ""
            },
            "colorscale": [
             [
              0,
              "#0d0887"
             ],
             [
              0.1111111111111111,
              "#46039f"
             ],
             [
              0.2222222222222222,
              "#7201a8"
             ],
             [
              0.3333333333333333,
              "#9c179e"
             ],
             [
              0.4444444444444444,
              "#bd3786"
             ],
             [
              0.5555555555555556,
              "#d8576b"
             ],
             [
              0.6666666666666666,
              "#ed7953"
             ],
             [
              0.7777777777777778,
              "#fb9f3a"
             ],
             [
              0.8888888888888888,
              "#fdca26"
             ],
             [
              1,
              "#f0f921"
             ]
            ],
            "type": "contour"
           }
          ],
          "contourcarpet": [
           {
            "colorbar": {
             "outlinewidth": 0,
             "ticks": ""
            },
            "type": "contourcarpet"
           }
          ],
          "heatmap": [
           {
            "colorbar": {
             "outlinewidth": 0,
             "ticks": ""
            },
            "colorscale": [
             [
              0,
              "#0d0887"
             ],
             [
              0.1111111111111111,
              "#46039f"
             ],
             [
              0.2222222222222222,
              "#7201a8"
             ],
             [
              0.3333333333333333,
              "#9c179e"
             ],
             [
              0.4444444444444444,
              "#bd3786"
             ],
             [
              0.5555555555555556,
              "#d8576b"
             ],
             [
              0.6666666666666666,
              "#ed7953"
             ],
             [
              0.7777777777777778,
              "#fb9f3a"
             ],
             [
              0.8888888888888888,
              "#fdca26"
             ],
             [
              1,
              "#f0f921"
             ]
            ],
            "type": "heatmap"
           }
          ],
          "heatmapgl": [
           {
            "colorbar": {
             "outlinewidth": 0,
             "ticks": ""
            },
            "colorscale": [
             [
              0,
              "#0d0887"
             ],
             [
              0.1111111111111111,
              "#46039f"
             ],
             [
              0.2222222222222222,
              "#7201a8"
             ],
             [
              0.3333333333333333,
              "#9c179e"
             ],
             [
              0.4444444444444444,
              "#bd3786"
             ],
             [
              0.5555555555555556,
              "#d8576b"
             ],
             [
              0.6666666666666666,
              "#ed7953"
             ],
             [
              0.7777777777777778,
              "#fb9f3a"
             ],
             [
              0.8888888888888888,
              "#fdca26"
             ],
             [
              1,
              "#f0f921"
             ]
            ],
            "type": "heatmapgl"
           }
          ],
          "histogram": [
           {
            "marker": {
             "pattern": {
              "fillmode": "overlay",
              "size": 10,
              "solidity": 0.2
             }
            },
            "type": "histogram"
           }
          ],
          "histogram2d": [
           {
            "colorbar": {
             "outlinewidth": 0,
             "ticks": ""
            },
            "colorscale": [
             [
              0,
              "#0d0887"
             ],
             [
              0.1111111111111111,
              "#46039f"
             ],
             [
              0.2222222222222222,
              "#7201a8"
             ],
             [
              0.3333333333333333,
              "#9c179e"
             ],
             [
              0.4444444444444444,
              "#bd3786"
             ],
             [
              0.5555555555555556,
              "#d8576b"
             ],
             [
              0.6666666666666666,
              "#ed7953"
             ],
             [
              0.7777777777777778,
              "#fb9f3a"
             ],
             [
              0.8888888888888888,
              "#fdca26"
             ],
             [
              1,
              "#f0f921"
             ]
            ],
            "type": "histogram2d"
           }
          ],
          "histogram2dcontour": [
           {
            "colorbar": {
             "outlinewidth": 0,
             "ticks": ""
            },
            "colorscale": [
             [
              0,
              "#0d0887"
             ],
             [
              0.1111111111111111,
              "#46039f"
             ],
             [
              0.2222222222222222,
              "#7201a8"
             ],
             [
              0.3333333333333333,
              "#9c179e"
             ],
             [
              0.4444444444444444,
              "#bd3786"
             ],
             [
              0.5555555555555556,
              "#d8576b"
             ],
             [
              0.6666666666666666,
              "#ed7953"
             ],
             [
              0.7777777777777778,
              "#fb9f3a"
             ],
             [
              0.8888888888888888,
              "#fdca26"
             ],
             [
              1,
              "#f0f921"
             ]
            ],
            "type": "histogram2dcontour"
           }
          ],
          "mesh3d": [
           {
            "colorbar": {
             "outlinewidth": 0,
             "ticks": ""
            },
            "type": "mesh3d"
           }
          ],
          "parcoords": [
           {
            "line": {
             "colorbar": {
              "outlinewidth": 0,
              "ticks": ""
             }
            },
            "type": "parcoords"
           }
          ],
          "pie": [
           {
            "automargin": true,
            "type": "pie"
           }
          ],
          "scatter": [
           {
            "fillpattern": {
             "fillmode": "overlay",
             "size": 10,
             "solidity": 0.2
            },
            "type": "scatter"
           }
          ],
          "scatter3d": [
           {
            "line": {
             "colorbar": {
              "outlinewidth": 0,
              "ticks": ""
             }
            },
            "marker": {
             "colorbar": {
              "outlinewidth": 0,
              "ticks": ""
             }
            },
            "type": "scatter3d"
           }
          ],
          "scattercarpet": [
           {
            "marker": {
             "colorbar": {
              "outlinewidth": 0,
              "ticks": ""
             }
            },
            "type": "scattercarpet"
           }
          ],
          "scattergeo": [
           {
            "marker": {
             "colorbar": {
              "outlinewidth": 0,
              "ticks": ""
             }
            },
            "type": "scattergeo"
           }
          ],
          "scattergl": [
           {
            "marker": {
             "colorbar": {
              "outlinewidth": 0,
              "ticks": ""
             }
            },
            "type": "scattergl"
           }
          ],
          "scattermapbox": [
           {
            "marker": {
             "colorbar": {
              "outlinewidth": 0,
              "ticks": ""
             }
            },
            "type": "scattermapbox"
           }
          ],
          "scatterpolar": [
           {
            "marker": {
             "colorbar": {
              "outlinewidth": 0,
              "ticks": ""
             }
            },
            "type": "scatterpolar"
           }
          ],
          "scatterpolargl": [
           {
            "marker": {
             "colorbar": {
              "outlinewidth": 0,
              "ticks": ""
             }
            },
            "type": "scatterpolargl"
           }
          ],
          "scatterternary": [
           {
            "marker": {
             "colorbar": {
              "outlinewidth": 0,
              "ticks": ""
             }
            },
            "type": "scatterternary"
           }
          ],
          "surface": [
           {
            "colorbar": {
             "outlinewidth": 0,
             "ticks": ""
            },
            "colorscale": [
             [
              0,
              "#0d0887"
             ],
             [
              0.1111111111111111,
              "#46039f"
             ],
             [
              0.2222222222222222,
              "#7201a8"
             ],
             [
              0.3333333333333333,
              "#9c179e"
             ],
             [
              0.4444444444444444,
              "#bd3786"
             ],
             [
              0.5555555555555556,
              "#d8576b"
             ],
             [
              0.6666666666666666,
              "#ed7953"
             ],
             [
              0.7777777777777778,
              "#fb9f3a"
             ],
             [
              0.8888888888888888,
              "#fdca26"
             ],
             [
              1,
              "#f0f921"
             ]
            ],
            "type": "surface"
           }
          ],
          "table": [
           {
            "cells": {
             "fill": {
              "color": "#EBF0F8"
             },
             "line": {
              "color": "white"
             }
            },
            "header": {
             "fill": {
              "color": "#C8D4E3"
             },
             "line": {
              "color": "white"
             }
            },
            "type": "table"
           }
          ]
         },
         "layout": {
          "annotationdefaults": {
           "arrowcolor": "#2a3f5f",
           "arrowhead": 0,
           "arrowwidth": 1
          },
          "autotypenumbers": "strict",
          "coloraxis": {
           "colorbar": {
            "outlinewidth": 0,
            "ticks": ""
           }
          },
          "colorscale": {
           "diverging": [
            [
             0,
             "#8e0152"
            ],
            [
             0.1,
             "#c51b7d"
            ],
            [
             0.2,
             "#de77ae"
            ],
            [
             0.3,
             "#f1b6da"
            ],
            [
             0.4,
             "#fde0ef"
            ],
            [
             0.5,
             "#f7f7f7"
            ],
            [
             0.6,
             "#e6f5d0"
            ],
            [
             0.7,
             "#b8e186"
            ],
            [
             0.8,
             "#7fbc41"
            ],
            [
             0.9,
             "#4d9221"
            ],
            [
             1,
             "#276419"
            ]
           ],
           "sequential": [
            [
             0,
             "#0d0887"
            ],
            [
             0.1111111111111111,
             "#46039f"
            ],
            [
             0.2222222222222222,
             "#7201a8"
            ],
            [
             0.3333333333333333,
             "#9c179e"
            ],
            [
             0.4444444444444444,
             "#bd3786"
            ],
            [
             0.5555555555555556,
             "#d8576b"
            ],
            [
             0.6666666666666666,
             "#ed7953"
            ],
            [
             0.7777777777777778,
             "#fb9f3a"
            ],
            [
             0.8888888888888888,
             "#fdca26"
            ],
            [
             1,
             "#f0f921"
            ]
           ],
           "sequentialminus": [
            [
             0,
             "#0d0887"
            ],
            [
             0.1111111111111111,
             "#46039f"
            ],
            [
             0.2222222222222222,
             "#7201a8"
            ],
            [
             0.3333333333333333,
             "#9c179e"
            ],
            [
             0.4444444444444444,
             "#bd3786"
            ],
            [
             0.5555555555555556,
             "#d8576b"
            ],
            [
             0.6666666666666666,
             "#ed7953"
            ],
            [
             0.7777777777777778,
             "#fb9f3a"
            ],
            [
             0.8888888888888888,
             "#fdca26"
            ],
            [
             1,
             "#f0f921"
            ]
           ]
          },
          "colorway": [
           "#636efa",
           "#EF553B",
           "#00cc96",
           "#ab63fa",
           "#FFA15A",
           "#19d3f3",
           "#FF6692",
           "#B6E880",
           "#FF97FF",
           "#FECB52"
          ],
          "font": {
           "color": "#2a3f5f"
          },
          "geo": {
           "bgcolor": "white",
           "lakecolor": "white",
           "landcolor": "#E5ECF6",
           "showlakes": true,
           "showland": true,
           "subunitcolor": "white"
          },
          "hoverlabel": {
           "align": "left"
          },
          "hovermode": "closest",
          "mapbox": {
           "style": "light"
          },
          "paper_bgcolor": "white",
          "plot_bgcolor": "#E5ECF6",
          "polar": {
           "angularaxis": {
            "gridcolor": "white",
            "linecolor": "white",
            "ticks": ""
           },
           "bgcolor": "#E5ECF6",
           "radialaxis": {
            "gridcolor": "white",
            "linecolor": "white",
            "ticks": ""
           }
          },
          "scene": {
           "xaxis": {
            "backgroundcolor": "#E5ECF6",
            "gridcolor": "white",
            "gridwidth": 2,
            "linecolor": "white",
            "showbackground": true,
            "ticks": "",
            "zerolinecolor": "white"
           },
           "yaxis": {
            "backgroundcolor": "#E5ECF6",
            "gridcolor": "white",
            "gridwidth": 2,
            "linecolor": "white",
            "showbackground": true,
            "ticks": "",
            "zerolinecolor": "white"
           },
           "zaxis": {
            "backgroundcolor": "#E5ECF6",
            "gridcolor": "white",
            "gridwidth": 2,
            "linecolor": "white",
            "showbackground": true,
            "ticks": "",
            "zerolinecolor": "white"
           }
          },
          "shapedefaults": {
           "line": {
            "color": "#2a3f5f"
           }
          },
          "ternary": {
           "aaxis": {
            "gridcolor": "white",
            "linecolor": "white",
            "ticks": ""
           },
           "baxis": {
            "gridcolor": "white",
            "linecolor": "white",
            "ticks": ""
           },
           "bgcolor": "#E5ECF6",
           "caxis": {
            "gridcolor": "white",
            "linecolor": "white",
            "ticks": ""
           }
          },
          "title": {
           "x": 0.05
          },
          "xaxis": {
           "automargin": true,
           "gridcolor": "white",
           "linecolor": "white",
           "ticks": "",
           "title": {
            "standoff": 15
           },
           "zerolinecolor": "white",
           "zerolinewidth": 2
          },
          "yaxis": {
           "automargin": true,
           "gridcolor": "white",
           "linecolor": "white",
           "ticks": "",
           "title": {
            "standoff": 15
           },
           "zerolinecolor": "white",
           "zerolinewidth": 2
          }
         }
        },
        "xaxis": {
         "showspikes": true,
         "spikecolor": "black",
         "spikedash": "solid",
         "spikemode": "across",
         "spikesnap": "cursor",
         "spikethickness": 1,
         "title": {
          "text": ""
         }
        },
        "yaxis": {
         "gridcolor": "lightgrey",
         "tickfont": {
          "size": 12
         },
         "title": {
          "text": "[Percentual]"
         }
        }
       }
      }
     },
     "metadata": {},
     "output_type": "display_data"
    }
   ],
   "source": [
    "fig = go.Figure()\n",
    "\n",
    "fig.add_trace(go.Scatter(x=noticias_precificadas['Date'], \n",
    "                         y=noticias_precificadas['ganho'], \n",
    "                         mode='lines', \n",
    "                         name='Trading',\n",
    "                         line=dict(color='blue', width=1.4)))  # Ajuste da cor e largura da linha\n",
    "\n",
    "fig.update_layout(\n",
    "    xaxis=dict(title='', showspikes=True),  \n",
    "    yaxis=dict(title='[Percentual]', gridcolor='lightgrey', tickfont=dict(size=12)),\n",
    "    hovermode='x',\n",
    "    plot_bgcolor='white',\n",
    "    paper_bgcolor='white',\n",
    "    legend=dict(orientation=\"h\", yanchor=\"bottom\", y=1.02, xanchor=\"right\", x=1),\n",
    ")\n",
    "\n",
    "# Adicionar linha vertical para exibir os valores da data selecionada\n",
    "fig.update_layout(\n",
    "    xaxis=dict(\n",
    "        showspikes=True,\n",
    "        spikemode='across',\n",
    "        spikesnap='cursor',\n",
    "        spikethickness=1,\n",
    "        spikedash='solid',\n",
    "        spikecolor='black'\n",
    "    )\n",
    ")\n",
    "\n",
    "fig.show()"
   ]
  },
  {
   "cell_type": "code",
   "execution_count": 12,
   "metadata": {},
   "outputs": [
    {
     "data": {
      "application/vnd.plotly.v1+json": {
       "config": {
        "plotlyServerURL": "https://plot.ly"
       },
       "data": [
        {
         "line": {
          "color": "black",
          "width": 1.4
         },
         "mode": "lines",
         "name": "Buy and hold",
         "type": "scatter",
         "x": [
          "2019-03-20T04:00:00+00:00",
          "2019-03-21T04:00:00+00:00",
          "2019-03-22T04:00:00+00:00",
          "2019-03-25T04:00:00+00:00",
          "2019-03-26T04:00:00+00:00",
          "2019-03-27T04:00:00+00:00",
          "2019-03-28T04:00:00+00:00",
          "2019-03-29T04:00:00+00:00",
          "2019-04-01T04:00:00+00:00",
          "2019-04-02T04:00:00+00:00",
          "2019-04-03T04:00:00+00:00",
          "2019-04-04T04:00:00+00:00",
          "2019-04-05T04:00:00+00:00",
          "2019-04-08T04:00:00+00:00",
          "2019-04-09T04:00:00+00:00",
          "2019-04-10T04:00:00+00:00",
          "2019-04-11T04:00:00+00:00",
          "2019-04-12T04:00:00+00:00",
          "2019-04-15T04:00:00+00:00",
          "2019-04-16T04:00:00+00:00",
          "2019-04-17T04:00:00+00:00",
          "2019-04-18T04:00:00+00:00",
          "2019-04-22T04:00:00+00:00",
          "2019-04-23T04:00:00+00:00",
          "2019-04-24T04:00:00+00:00",
          "2019-04-25T04:00:00+00:00",
          "2019-04-26T04:00:00+00:00",
          "2019-04-29T04:00:00+00:00",
          "2019-04-30T04:00:00+00:00",
          "2019-05-01T04:00:00+00:00",
          "2019-05-02T04:00:00+00:00",
          "2019-05-03T04:00:00+00:00",
          "2019-05-06T04:00:00+00:00",
          "2019-05-07T04:00:00+00:00",
          "2019-05-08T04:00:00+00:00",
          "2019-05-09T04:00:00+00:00",
          "2019-05-10T04:00:00+00:00",
          "2019-05-13T04:00:00+00:00",
          "2019-05-14T04:00:00+00:00",
          "2019-05-15T04:00:00+00:00",
          "2019-05-16T04:00:00+00:00",
          "2019-05-17T04:00:00+00:00",
          "2019-05-20T04:00:00+00:00",
          "2019-05-21T04:00:00+00:00",
          "2019-05-22T04:00:00+00:00",
          "2019-05-23T04:00:00+00:00",
          "2019-05-24T04:00:00+00:00",
          "2019-05-28T04:00:00+00:00",
          "2019-05-29T04:00:00+00:00",
          "2019-05-30T04:00:00+00:00",
          "2019-05-31T04:00:00+00:00",
          "2019-06-03T04:00:00+00:00",
          "2019-06-04T04:00:00+00:00",
          "2019-06-05T04:00:00+00:00",
          "2019-06-06T04:00:00+00:00",
          "2019-06-07T04:00:00+00:00",
          "2019-06-10T04:00:00+00:00",
          "2019-06-11T04:00:00+00:00",
          "2019-06-12T04:00:00+00:00",
          "2019-06-13T04:00:00+00:00",
          "2019-06-14T04:00:00+00:00",
          "2019-06-17T04:00:00+00:00",
          "2019-06-18T04:00:00+00:00",
          "2019-06-19T04:00:00+00:00",
          "2019-06-20T04:00:00+00:00",
          "2019-06-21T04:00:00+00:00",
          "2019-06-24T04:00:00+00:00",
          "2019-06-25T04:00:00+00:00",
          "2019-06-26T04:00:00+00:00",
          "2019-06-27T04:00:00+00:00",
          "2019-06-28T04:00:00+00:00",
          "2019-07-01T04:00:00+00:00",
          "2019-07-02T04:00:00+00:00",
          "2019-07-03T04:00:00+00:00",
          "2019-07-05T04:00:00+00:00",
          "2019-07-08T04:00:00+00:00",
          "2019-07-09T04:00:00+00:00",
          "2019-07-10T04:00:00+00:00",
          "2019-07-11T04:00:00+00:00",
          "2019-07-12T04:00:00+00:00",
          "2019-07-15T04:00:00+00:00",
          "2019-07-16T04:00:00+00:00",
          "2019-07-17T04:00:00+00:00",
          "2019-07-18T04:00:00+00:00",
          "2019-07-19T04:00:00+00:00",
          "2019-07-22T04:00:00+00:00",
          "2019-07-23T04:00:00+00:00",
          "2019-07-24T04:00:00+00:00",
          "2019-07-25T04:00:00+00:00",
          "2019-07-26T04:00:00+00:00",
          "2019-07-29T04:00:00+00:00",
          "2019-07-30T04:00:00+00:00",
          "2019-07-31T04:00:00+00:00",
          "2019-08-01T04:00:00+00:00",
          "2019-08-02T04:00:00+00:00",
          "2019-08-05T04:00:00+00:00",
          "2019-08-06T04:00:00+00:00",
          "2019-08-07T04:00:00+00:00",
          "2019-08-08T04:00:00+00:00",
          "2019-08-09T04:00:00+00:00",
          "2019-08-12T04:00:00+00:00",
          "2019-08-13T04:00:00+00:00",
          "2019-08-14T04:00:00+00:00",
          "2019-08-15T04:00:00+00:00",
          "2019-08-16T04:00:00+00:00",
          "2019-08-19T04:00:00+00:00",
          "2019-08-20T04:00:00+00:00",
          "2019-08-21T04:00:00+00:00",
          "2019-08-22T04:00:00+00:00",
          "2019-08-23T04:00:00+00:00",
          "2019-08-26T04:00:00+00:00",
          "2019-08-27T04:00:00+00:00",
          "2019-08-28T04:00:00+00:00",
          "2019-08-29T04:00:00+00:00",
          "2019-08-30T04:00:00+00:00",
          "2019-09-03T04:00:00+00:00",
          "2019-09-04T04:00:00+00:00",
          "2019-09-05T04:00:00+00:00",
          "2019-09-06T04:00:00+00:00",
          "2019-09-09T04:00:00+00:00",
          "2019-09-10T04:00:00+00:00",
          "2019-09-11T04:00:00+00:00",
          "2019-09-12T04:00:00+00:00",
          "2019-09-13T04:00:00+00:00",
          "2019-09-16T04:00:00+00:00",
          "2019-09-17T04:00:00+00:00",
          "2019-09-18T04:00:00+00:00",
          "2019-09-19T04:00:00+00:00",
          "2019-09-20T04:00:00+00:00",
          "2019-09-23T04:00:00+00:00",
          "2019-09-24T04:00:00+00:00",
          "2019-09-25T04:00:00+00:00",
          "2019-09-26T04:00:00+00:00",
          "2019-09-27T04:00:00+00:00",
          "2019-09-30T04:00:00+00:00",
          "2019-10-01T04:00:00+00:00",
          "2019-10-02T04:00:00+00:00",
          "2019-10-03T04:00:00+00:00",
          "2019-10-04T04:00:00+00:00",
          "2019-10-07T04:00:00+00:00",
          "2019-10-08T04:00:00+00:00",
          "2019-10-09T04:00:00+00:00",
          "2019-10-10T04:00:00+00:00",
          "2019-10-11T04:00:00+00:00",
          "2019-10-14T04:00:00+00:00",
          "2019-10-15T04:00:00+00:00",
          "2019-10-16T04:00:00+00:00",
          "2019-10-17T04:00:00+00:00",
          "2019-10-18T04:00:00+00:00",
          "2019-10-21T04:00:00+00:00",
          "2019-10-22T04:00:00+00:00",
          "2019-10-23T04:00:00+00:00",
          "2019-10-24T04:00:00+00:00",
          "2019-10-25T04:00:00+00:00",
          "2019-10-28T04:00:00+00:00",
          "2019-10-29T04:00:00+00:00",
          "2019-10-30T04:00:00+00:00",
          "2019-10-31T04:00:00+00:00",
          "2019-11-01T04:00:00+00:00",
          "2019-11-04T05:00:00+00:00",
          "2019-11-05T05:00:00+00:00",
          "2019-11-06T05:00:00+00:00",
          "2019-11-07T05:00:00+00:00",
          "2019-11-08T05:00:00+00:00",
          "2019-11-11T05:00:00+00:00",
          "2019-11-12T05:00:00+00:00",
          "2019-11-13T05:00:00+00:00",
          "2019-11-14T05:00:00+00:00",
          "2019-11-15T05:00:00+00:00",
          "2019-11-18T05:00:00+00:00",
          "2019-11-19T05:00:00+00:00",
          "2019-11-20T05:00:00+00:00",
          "2019-11-21T05:00:00+00:00",
          "2019-11-22T05:00:00+00:00",
          "2019-11-25T05:00:00+00:00",
          "2019-11-26T05:00:00+00:00",
          "2019-11-27T05:00:00+00:00",
          "2019-11-29T05:00:00+00:00",
          "2019-12-02T05:00:00+00:00",
          "2019-12-03T05:00:00+00:00",
          "2019-12-04T05:00:00+00:00",
          "2019-12-05T05:00:00+00:00",
          "2019-12-06T05:00:00+00:00",
          "2019-12-09T05:00:00+00:00",
          "2019-12-10T05:00:00+00:00",
          "2019-12-11T05:00:00+00:00",
          "2019-12-12T05:00:00+00:00",
          "2019-12-13T05:00:00+00:00",
          "2019-12-16T05:00:00+00:00",
          "2019-12-17T05:00:00+00:00",
          "2019-12-18T05:00:00+00:00",
          "2019-12-19T05:00:00+00:00",
          "2019-12-20T05:00:00+00:00",
          "2019-12-23T05:00:00+00:00",
          "2019-12-24T05:00:00+00:00",
          "2019-12-26T05:00:00+00:00",
          "2019-12-27T05:00:00+00:00",
          "2019-12-30T05:00:00+00:00",
          "2019-12-31T05:00:00+00:00",
          "2020-01-02T05:00:00+00:00",
          "2020-01-03T05:00:00+00:00",
          "2020-01-06T05:00:00+00:00",
          "2020-01-07T05:00:00+00:00",
          "2020-01-08T05:00:00+00:00",
          "2020-01-09T05:00:00+00:00"
         ],
         "y": [
          1,
          0.9835342303847601,
          0.9759032724293792,
          0.9869476968875853,
          0.9809237489649426,
          1.0060240519093149,
          1.0210843376626104,
          1.0367471221948426,
          1.074297229472693,
          1.1295182079103285,
          1.1421688105078949,
          1.1989960710715628,
          1.1493976520017382,
          1.1475905716116177,
          1.1299195964651603,
          1.1186745817162107,
          1.102209020074315,
          1.1706827879284367,
          1.160241174209184,
          1.1746987532101985,
          1.171084384456613,
          1.160040375945096,
          1.1624497471408084,
          1.157429686551934,
          1.1240963428199335,
          1.1110444556542076,
          1.109437653594814,
          1.1144580261437051,
          1.1391567325599012,
          1.1271085247545993,
          1.0582331603723014,
          1.0702812641909312,
          1.0734940364163406,
          1.0632533249478482,
          1.0538152866023467,
          1.062851312472983,
          1.0656626961435607,
          1.0230925282768357,
          1.0538152866023467,
          1.0632533249478482,
          1.0638555117667678,
          1.0200806583021866,
          1.0056224553811388,
          1.0166666718660002,
          1.0082329368009562,
          0.978112365294365,
          0.987951792194698,
          0.9751003913330436,
          0.978112365294365,
          0.9874840601429796,
          0.9526461332503936,
          0.9770938158398115,
          1.017228719829437,
          1.025581865223498,
          1.0402505371691522,
          1.045139574551009,
          1.0516591229535293,
          1.0602158742518288,
          1.0693841711695495,
          1.0773295848217725,
          1.0420841341606928,
          1.005412194329877,
          1.0107092754135887,
          0.9880951898157116,
          0.9968557549915943,
          0.9852429393829452,
          1.0100983537142012,
          1.012339266500891,
          1.027822778010188,
          1.0371944728588027,
          1.0045974587529065,
          1.021914463267072,
          1.0064310557444474,
          1.0050049825214002,
          1.0045974587529065,
          0.9885027135842054,
          0.9752601148615985,
          0.968740982405767,
          0.9734267258434021,
          1.0127466862827126,
          1.0376016846672795,
          1.0659205830907064,
          1.05125180715838,
          1.0543078714687295,
          1.0496221280310944,
          1.0365834471727429,
          1.072032503738061,
          1.0754958838435595,
          1.0343420144526916,
          1.0005229489746759,
          0.9789274128313522,
          0.986058194893277,
          0.9868728264835752,
          0.9544796262552622,
          0.929013082251274,
          0.9121036015056022,
          0.9051767373079327,
          0.9145484321565474,
          0.9532573669097979,
          0.9502013025994485,
          0.9308468872161593,
          0.9544796262552622,
          0.8980463711926969,
          0.8837850150421921,
          0.9068064164352183,
          0.929013082251274,
          0.8793028775087954,
          0.8817478121464128,
          0.8566887399175822,
          0.8293887029087256,
          0.8316297196820878,
          0.8387605017440125,
          0.8662639366837631,
          0.877656976460641,
          0.8830427581757702,
          0.8658498617549186,
          0.8811782771425752,
          0.8981638761323238,
          0.8956780747325177,
          0.9207420863282795,
          0.9594775376829503,
          0.9710775629309143,
          0.9729418359907648,
          0.9984201304887155,
          1.015198692014042,
          0.9942773014668256,
          0.9841273703631953,
          0.9868202092274238,
          0.9986274799131545,
          0.9924131323936474,
          0.9652776023002684,
          0.987648879018474,
          0.9783275137192217,
          0.9750131465150375,
          0.987027246691846,
          0.9522277948679874,
          0.9306849799674876,
          0.9385564590957506,
          0.9391777794623619,
          0.9356564787804277,
          0.908313703249282,
          0.9116279664667939,
          0.9304779425030653,
          0.9762560992082767,
          0.9698348182110196,
          0.9777061933526103,
          0.97604885377051,
          0.9903416138960301,
          0.9934489436357921,
          0.97604885377051,
          0.9698348182110196,
          0.9783275137192217,
          1.0247270947777165,
          1.0456483813382607,
          1.0607696032814866,
          1.0665698758721491,
          1.0570409531751135,
          1.0458551068426662,
          1.0835551629018811,
          1.1220833688187852,
          1.1227050011454132,
          1.124362028767497,
          1.1558475293338604,
          1.159782904944639,
          1.1560545667982827,
          1.1425906844371572,
          1.111519258799638,
          1.1175262568947064,
          1.1363762329309777,
          1.125190594571875,
          1.1059262316467422,
          1.0910120471679385,
          1.1160762667370447,
          1.1227050011454132,
          1.1434190422681905,
          1.146940446936797,
          1.1387583596185644,
          1.1196670305160328,
          1.1152615311600742,
          1.0871491502677084,
          1.0967997373712606,
          1.090925426269966,
          1.1165204978008378,
          1.1175690994036676,
          1.1146320998330286,
          1.1140027724926551,
          1.1423248945029214,
          1.1177790484949126,
          1.136450791374971,
          1.1467302898722076,
          1.1381287203181742,
          1.1437933942882408,
          1.1456818962427224,
          1.152394859855602,
          1.151765636501901,
          1.1584791200481417,
          1.1502970327299091,
          1.1400172222726557,
          1.148199101617544,
          1.1276392727296929,
          1.0997366329552274,
          1.0953311335992688,
          1.0949115473767959,
          1.1062405833569122,
          1.0949115473767959
         ]
        },
        {
         "line": {
          "color": "blue",
          "width": 1.4
         },
         "mode": "lines",
         "name": "Estratégia",
         "type": "scatter",
         "x": [
          "2019-03-20T04:00:00+00:00",
          "2019-03-21T04:00:00+00:00",
          "2019-03-22T04:00:00+00:00",
          "2019-03-25T04:00:00+00:00",
          "2019-03-26T04:00:00+00:00",
          "2019-03-27T04:00:00+00:00",
          "2019-03-28T04:00:00+00:00",
          "2019-03-29T04:00:00+00:00",
          "2019-04-01T04:00:00+00:00",
          "2019-04-02T04:00:00+00:00",
          "2019-04-03T04:00:00+00:00",
          "2019-04-04T04:00:00+00:00",
          "2019-04-05T04:00:00+00:00",
          "2019-04-08T04:00:00+00:00",
          "2019-04-09T04:00:00+00:00",
          "2019-04-10T04:00:00+00:00",
          "2019-04-11T04:00:00+00:00",
          "2019-04-12T04:00:00+00:00",
          "2019-04-15T04:00:00+00:00",
          "2019-04-16T04:00:00+00:00",
          "2019-04-17T04:00:00+00:00",
          "2019-04-18T04:00:00+00:00",
          "2019-04-22T04:00:00+00:00",
          "2019-04-23T04:00:00+00:00",
          "2019-04-24T04:00:00+00:00",
          "2019-04-25T04:00:00+00:00",
          "2019-04-26T04:00:00+00:00",
          "2019-04-29T04:00:00+00:00",
          "2019-04-30T04:00:00+00:00",
          "2019-05-01T04:00:00+00:00",
          "2019-05-02T04:00:00+00:00",
          "2019-05-03T04:00:00+00:00",
          "2019-05-06T04:00:00+00:00",
          "2019-05-07T04:00:00+00:00",
          "2019-05-08T04:00:00+00:00",
          "2019-05-09T04:00:00+00:00",
          "2019-05-10T04:00:00+00:00",
          "2019-05-13T04:00:00+00:00",
          "2019-05-14T04:00:00+00:00",
          "2019-05-15T04:00:00+00:00",
          "2019-05-16T04:00:00+00:00",
          "2019-05-17T04:00:00+00:00",
          "2019-05-20T04:00:00+00:00",
          "2019-05-21T04:00:00+00:00",
          "2019-05-22T04:00:00+00:00",
          "2019-05-23T04:00:00+00:00",
          "2019-05-24T04:00:00+00:00",
          "2019-05-28T04:00:00+00:00",
          "2019-05-29T04:00:00+00:00",
          "2019-05-30T04:00:00+00:00",
          "2019-05-31T04:00:00+00:00",
          "2019-06-03T04:00:00+00:00",
          "2019-06-04T04:00:00+00:00",
          "2019-06-05T04:00:00+00:00",
          "2019-06-06T04:00:00+00:00",
          "2019-06-07T04:00:00+00:00",
          "2019-06-10T04:00:00+00:00",
          "2019-06-11T04:00:00+00:00",
          "2019-06-12T04:00:00+00:00",
          "2019-06-13T04:00:00+00:00",
          "2019-06-14T04:00:00+00:00",
          "2019-06-17T04:00:00+00:00",
          "2019-06-18T04:00:00+00:00",
          "2019-06-19T04:00:00+00:00",
          "2019-06-20T04:00:00+00:00",
          "2019-06-21T04:00:00+00:00",
          "2019-06-24T04:00:00+00:00",
          "2019-06-25T04:00:00+00:00",
          "2019-06-26T04:00:00+00:00",
          "2019-06-27T04:00:00+00:00",
          "2019-06-28T04:00:00+00:00",
          "2019-07-01T04:00:00+00:00",
          "2019-07-02T04:00:00+00:00",
          "2019-07-03T04:00:00+00:00",
          "2019-07-05T04:00:00+00:00",
          "2019-07-08T04:00:00+00:00",
          "2019-07-09T04:00:00+00:00",
          "2019-07-10T04:00:00+00:00",
          "2019-07-11T04:00:00+00:00",
          "2019-07-12T04:00:00+00:00",
          "2019-07-15T04:00:00+00:00",
          "2019-07-16T04:00:00+00:00",
          "2019-07-17T04:00:00+00:00",
          "2019-07-18T04:00:00+00:00",
          "2019-07-19T04:00:00+00:00",
          "2019-07-22T04:00:00+00:00",
          "2019-07-23T04:00:00+00:00",
          "2019-07-24T04:00:00+00:00",
          "2019-07-25T04:00:00+00:00",
          "2019-07-26T04:00:00+00:00",
          "2019-07-29T04:00:00+00:00",
          "2019-07-30T04:00:00+00:00",
          "2019-07-31T04:00:00+00:00",
          "2019-08-01T04:00:00+00:00",
          "2019-08-02T04:00:00+00:00",
          "2019-08-05T04:00:00+00:00",
          "2019-08-06T04:00:00+00:00",
          "2019-08-07T04:00:00+00:00",
          "2019-08-08T04:00:00+00:00",
          "2019-08-09T04:00:00+00:00",
          "2019-08-12T04:00:00+00:00",
          "2019-08-13T04:00:00+00:00",
          "2019-08-14T04:00:00+00:00",
          "2019-08-15T04:00:00+00:00",
          "2019-08-16T04:00:00+00:00",
          "2019-08-19T04:00:00+00:00",
          "2019-08-20T04:00:00+00:00",
          "2019-08-21T04:00:00+00:00",
          "2019-08-22T04:00:00+00:00",
          "2019-08-23T04:00:00+00:00",
          "2019-08-26T04:00:00+00:00",
          "2019-08-27T04:00:00+00:00",
          "2019-08-28T04:00:00+00:00",
          "2019-08-29T04:00:00+00:00",
          "2019-08-30T04:00:00+00:00",
          "2019-09-03T04:00:00+00:00",
          "2019-09-04T04:00:00+00:00",
          "2019-09-05T04:00:00+00:00",
          "2019-09-06T04:00:00+00:00",
          "2019-09-09T04:00:00+00:00",
          "2019-09-10T04:00:00+00:00",
          "2019-09-11T04:00:00+00:00",
          "2019-09-12T04:00:00+00:00",
          "2019-09-13T04:00:00+00:00",
          "2019-09-16T04:00:00+00:00",
          "2019-09-17T04:00:00+00:00",
          "2019-09-18T04:00:00+00:00",
          "2019-09-19T04:00:00+00:00",
          "2019-09-20T04:00:00+00:00",
          "2019-09-23T04:00:00+00:00",
          "2019-09-24T04:00:00+00:00",
          "2019-09-25T04:00:00+00:00",
          "2019-09-26T04:00:00+00:00",
          "2019-09-27T04:00:00+00:00",
          "2019-09-30T04:00:00+00:00",
          "2019-10-01T04:00:00+00:00",
          "2019-10-02T04:00:00+00:00",
          "2019-10-03T04:00:00+00:00",
          "2019-10-04T04:00:00+00:00",
          "2019-10-07T04:00:00+00:00",
          "2019-10-08T04:00:00+00:00",
          "2019-10-09T04:00:00+00:00",
          "2019-10-10T04:00:00+00:00",
          "2019-10-11T04:00:00+00:00",
          "2019-10-14T04:00:00+00:00",
          "2019-10-15T04:00:00+00:00",
          "2019-10-16T04:00:00+00:00",
          "2019-10-17T04:00:00+00:00",
          "2019-10-18T04:00:00+00:00",
          "2019-10-21T04:00:00+00:00",
          "2019-10-22T04:00:00+00:00",
          "2019-10-23T04:00:00+00:00",
          "2019-10-24T04:00:00+00:00",
          "2019-10-25T04:00:00+00:00",
          "2019-10-28T04:00:00+00:00",
          "2019-10-29T04:00:00+00:00",
          "2019-10-30T04:00:00+00:00",
          "2019-10-31T04:00:00+00:00",
          "2019-11-01T04:00:00+00:00",
          "2019-11-04T05:00:00+00:00",
          "2019-11-05T05:00:00+00:00",
          "2019-11-06T05:00:00+00:00",
          "2019-11-07T05:00:00+00:00",
          "2019-11-08T05:00:00+00:00",
          "2019-11-11T05:00:00+00:00",
          "2019-11-12T05:00:00+00:00",
          "2019-11-13T05:00:00+00:00",
          "2019-11-14T05:00:00+00:00",
          "2019-11-15T05:00:00+00:00",
          "2019-11-18T05:00:00+00:00",
          "2019-11-19T05:00:00+00:00",
          "2019-11-20T05:00:00+00:00",
          "2019-11-21T05:00:00+00:00",
          "2019-11-22T05:00:00+00:00",
          "2019-11-25T05:00:00+00:00",
          "2019-11-26T05:00:00+00:00",
          "2019-11-27T05:00:00+00:00",
          "2019-11-29T05:00:00+00:00",
          "2019-12-02T05:00:00+00:00",
          "2019-12-03T05:00:00+00:00",
          "2019-12-04T05:00:00+00:00",
          "2019-12-05T05:00:00+00:00",
          "2019-12-06T05:00:00+00:00",
          "2019-12-09T05:00:00+00:00",
          "2019-12-10T05:00:00+00:00",
          "2019-12-11T05:00:00+00:00",
          "2019-12-12T05:00:00+00:00",
          "2019-12-13T05:00:00+00:00",
          "2019-12-16T05:00:00+00:00",
          "2019-12-17T05:00:00+00:00",
          "2019-12-18T05:00:00+00:00",
          "2019-12-19T05:00:00+00:00",
          "2019-12-20T05:00:00+00:00",
          "2019-12-23T05:00:00+00:00",
          "2019-12-24T05:00:00+00:00",
          "2019-12-26T05:00:00+00:00",
          "2019-12-27T05:00:00+00:00",
          "2019-12-30T05:00:00+00:00",
          "2019-12-31T05:00:00+00:00",
          "2020-01-02T05:00:00+00:00",
          "2020-01-03T05:00:00+00:00",
          "2020-01-06T05:00:00+00:00",
          "2020-01-07T05:00:00+00:00",
          "2020-01-08T05:00:00+00:00",
          "2020-01-09T05:00:00+00:00"
         ],
         "y": [
          1,
          1,
          1,
          1.0113171302630357,
          1.0051444407221481,
          1.0308645132472545,
          1.0462966633166,
          1.062346188894316,
          1.1008234728001016,
          1.1574079520181808,
          1.1703709197168894,
          1.2286013429249236,
          1.1777782537202361,
          1.1759265534122516,
          1.1578192515456764,
          1.1462965780731746,
          1.1294244534404672,
          1.1995889562027804,
          1.1888895211109605,
          1.203704082563372,
          1.2000004688388397,
          1.2000004688388397,
          1.2000004688388397,
          1.2000004688388397,
          1.2000004688388397,
          1.2000004688388397,
          1.2000004688388397,
          1.2000004688388397,
          1.2000004688388397,
          1.2000004688388397,
          1.2000004688388397,
          1.2000004688388397,
          1.2000004688388397,
          1.2000004688388397,
          1.2000004688388397,
          1.2000004688388397,
          1.2000004688388397,
          1.2000004688388397,
          1.2000004688388397,
          1.2000004688388397,
          1.2000004688388397,
          1.2000004688388397,
          1.2000004688388397,
          1.2000004688388397,
          1.2000004688388397,
          1.2000004688388397,
          1.2000004688388397,
          1.1869923433784815,
          1.190041048775969,
          1.1995270327305056,
          1.1642642525343232,
          1.189010077970915,
          1.229634432627398,
          1.2380894457768807,
          1.252937004191718,
          1.2578856640559772,
          1.2644847192467548,
          1.2731458213024442,
          1.2731458213024442,
          1.2731458213024442,
          1.2731458213024442,
          1.2731458213024442,
          1.2731458213024442,
          1.2731458213024442,
          1.2731458213024442,
          1.2731458213024442,
          1.2731458213024442,
          1.2731458213024442,
          1.2731458213024442,
          1.2731458213024442,
          1.2731458213024442,
          1.2731458213024442,
          1.2731458213024442,
          1.2731458213024442,
          1.2731458213024442,
          1.2571247324290153,
          1.2439427373849046,
          1.2374534392097687,
          1.2421177387227815,
          1.2812577545537212,
          1.3059990060550157,
          1.3059990060550157,
          1.3059990060550157,
          1.3059990060550157,
          1.3059990060550157,
          1.3059990060550157,
          1.3059990060550157,
          1.3059990060550157,
          1.2677339880209215,
          1.2362888974482318,
          1.2362888974482318,
          1.2362888974482318,
          1.2362888974482318,
          1.2362888974482318,
          1.2362888974482318,
          1.2362888974482318,
          1.2362888974482318,
          1.2362888974482318,
          1.2362888974482318,
          1.2362888974482318,
          1.2362888974482318,
          1.2362888974482318,
          1.2362888974482318,
          1.2362888974482318,
          1.2362888974482318,
          1.2362888974482318,
          1.2362888974482318,
          1.2362888974482318,
          1.2362888974482318,
          1.2362888974482318,
          1.2362888974482318,
          1.2362888974482318,
          1.2362888974482318,
          1.2362888974482318,
          1.2362888974482318,
          1.2362888974482318,
          1.2362888974482318,
          1.2362888974482318,
          1.2362888974482318,
          1.2362888974482318,
          1.2362888974482318,
          1.2362888974482318,
          1.2362888974482318,
          1.2362888974482318,
          1.2362888974482318,
          1.2362888974482318,
          1.2362888974482318,
          1.2362888974482318,
          1.2362888974482318,
          1.2362888974482318,
          1.2362888974482318,
          1.2362888974482318,
          1.2362888974482318,
          1.2362888974482318,
          1.2362888974482318,
          1.2362888974482318,
          1.2362888974482318,
          1.2362888974482318,
          1.2362888974482318,
          1.2362888974482318,
          1.2362888974482318,
          1.2362888974482318,
          1.2362888974482318,
          1.2362888974482318,
          1.2297114420013826,
          1.2377742598910475,
          1.2360766115143105,
          1.2507169913665965,
          1.253899895670377,
          1.2360766115143105,
          1.2297114420013826,
          1.2297114420013826,
          1.2297114420013826,
          1.2297114420013826,
          1.2297114420013826,
          1.2297114420013826,
          1.2297114420013826,
          1.2297114420013826,
          1.2297114420013826,
          1.2297114420013826,
          1.2297114420013826,
          1.2297114420013826,
          1.2297114420013826,
          1.2297114420013826,
          1.2297114420013826,
          1.2297114420013826,
          1.2297114420013826,
          1.2297114420013826,
          1.2297114420013826,
          1.2297114420013826,
          1.2297114420013826,
          1.2297114420013826,
          1.2297114420013826,
          1.2297114420013826,
          1.2297114420013826,
          1.2297114420013826,
          1.2297114420013826,
          1.2297114420013826,
          1.2297114420013826,
          1.2297114420013826,
          1.238588408976131,
          1.2331850003455411,
          1.2567282938527562,
          1.2576928363928221,
          1.2549912755537085,
          1.2544123969884091,
          1.2804641323949923,
          1.2578859553325676,
          1.2750609150659773,
          1.2845163780028754,
          1.2766043361713428,
          1.281814912814549,
          1.2835520267643843,
          1.2897268589952946,
          1.2891480760807825,
          1.2953233865656297,
          1.2877972000104383,
          1.2783414501211778,
          1.2858674453747945,
          1.2669557542946992,
          1.2412898741644574,
          1.2372375329057865,
          1.2368515819786579,
          1.2472724483127084,
          1.2368515819786579
         ]
        }
       ],
       "layout": {
        "hovermode": "x",
        "legend": {
         "orientation": "h",
         "x": 1,
         "xanchor": "right",
         "y": 1.02,
         "yanchor": "bottom"
        },
        "paper_bgcolor": "white",
        "plot_bgcolor": "white",
        "template": {
         "data": {
          "bar": [
           {
            "error_x": {
             "color": "#2a3f5f"
            },
            "error_y": {
             "color": "#2a3f5f"
            },
            "marker": {
             "line": {
              "color": "#E5ECF6",
              "width": 0.5
             },
             "pattern": {
              "fillmode": "overlay",
              "size": 10,
              "solidity": 0.2
             }
            },
            "type": "bar"
           }
          ],
          "barpolar": [
           {
            "marker": {
             "line": {
              "color": "#E5ECF6",
              "width": 0.5
             },
             "pattern": {
              "fillmode": "overlay",
              "size": 10,
              "solidity": 0.2
             }
            },
            "type": "barpolar"
           }
          ],
          "carpet": [
           {
            "aaxis": {
             "endlinecolor": "#2a3f5f",
             "gridcolor": "white",
             "linecolor": "white",
             "minorgridcolor": "white",
             "startlinecolor": "#2a3f5f"
            },
            "baxis": {
             "endlinecolor": "#2a3f5f",
             "gridcolor": "white",
             "linecolor": "white",
             "minorgridcolor": "white",
             "startlinecolor": "#2a3f5f"
            },
            "type": "carpet"
           }
          ],
          "choropleth": [
           {
            "colorbar": {
             "outlinewidth": 0,
             "ticks": ""
            },
            "type": "choropleth"
           }
          ],
          "contour": [
           {
            "colorbar": {
             "outlinewidth": 0,
             "ticks": ""
            },
            "colorscale": [
             [
              0,
              "#0d0887"
             ],
             [
              0.1111111111111111,
              "#46039f"
             ],
             [
              0.2222222222222222,
              "#7201a8"
             ],
             [
              0.3333333333333333,
              "#9c179e"
             ],
             [
              0.4444444444444444,
              "#bd3786"
             ],
             [
              0.5555555555555556,
              "#d8576b"
             ],
             [
              0.6666666666666666,
              "#ed7953"
             ],
             [
              0.7777777777777778,
              "#fb9f3a"
             ],
             [
              0.8888888888888888,
              "#fdca26"
             ],
             [
              1,
              "#f0f921"
             ]
            ],
            "type": "contour"
           }
          ],
          "contourcarpet": [
           {
            "colorbar": {
             "outlinewidth": 0,
             "ticks": ""
            },
            "type": "contourcarpet"
           }
          ],
          "heatmap": [
           {
            "colorbar": {
             "outlinewidth": 0,
             "ticks": ""
            },
            "colorscale": [
             [
              0,
              "#0d0887"
             ],
             [
              0.1111111111111111,
              "#46039f"
             ],
             [
              0.2222222222222222,
              "#7201a8"
             ],
             [
              0.3333333333333333,
              "#9c179e"
             ],
             [
              0.4444444444444444,
              "#bd3786"
             ],
             [
              0.5555555555555556,
              "#d8576b"
             ],
             [
              0.6666666666666666,
              "#ed7953"
             ],
             [
              0.7777777777777778,
              "#fb9f3a"
             ],
             [
              0.8888888888888888,
              "#fdca26"
             ],
             [
              1,
              "#f0f921"
             ]
            ],
            "type": "heatmap"
           }
          ],
          "heatmapgl": [
           {
            "colorbar": {
             "outlinewidth": 0,
             "ticks": ""
            },
            "colorscale": [
             [
              0,
              "#0d0887"
             ],
             [
              0.1111111111111111,
              "#46039f"
             ],
             [
              0.2222222222222222,
              "#7201a8"
             ],
             [
              0.3333333333333333,
              "#9c179e"
             ],
             [
              0.4444444444444444,
              "#bd3786"
             ],
             [
              0.5555555555555556,
              "#d8576b"
             ],
             [
              0.6666666666666666,
              "#ed7953"
             ],
             [
              0.7777777777777778,
              "#fb9f3a"
             ],
             [
              0.8888888888888888,
              "#fdca26"
             ],
             [
              1,
              "#f0f921"
             ]
            ],
            "type": "heatmapgl"
           }
          ],
          "histogram": [
           {
            "marker": {
             "pattern": {
              "fillmode": "overlay",
              "size": 10,
              "solidity": 0.2
             }
            },
            "type": "histogram"
           }
          ],
          "histogram2d": [
           {
            "colorbar": {
             "outlinewidth": 0,
             "ticks": ""
            },
            "colorscale": [
             [
              0,
              "#0d0887"
             ],
             [
              0.1111111111111111,
              "#46039f"
             ],
             [
              0.2222222222222222,
              "#7201a8"
             ],
             [
              0.3333333333333333,
              "#9c179e"
             ],
             [
              0.4444444444444444,
              "#bd3786"
             ],
             [
              0.5555555555555556,
              "#d8576b"
             ],
             [
              0.6666666666666666,
              "#ed7953"
             ],
             [
              0.7777777777777778,
              "#fb9f3a"
             ],
             [
              0.8888888888888888,
              "#fdca26"
             ],
             [
              1,
              "#f0f921"
             ]
            ],
            "type": "histogram2d"
           }
          ],
          "histogram2dcontour": [
           {
            "colorbar": {
             "outlinewidth": 0,
             "ticks": ""
            },
            "colorscale": [
             [
              0,
              "#0d0887"
             ],
             [
              0.1111111111111111,
              "#46039f"
             ],
             [
              0.2222222222222222,
              "#7201a8"
             ],
             [
              0.3333333333333333,
              "#9c179e"
             ],
             [
              0.4444444444444444,
              "#bd3786"
             ],
             [
              0.5555555555555556,
              "#d8576b"
             ],
             [
              0.6666666666666666,
              "#ed7953"
             ],
             [
              0.7777777777777778,
              "#fb9f3a"
             ],
             [
              0.8888888888888888,
              "#fdca26"
             ],
             [
              1,
              "#f0f921"
             ]
            ],
            "type": "histogram2dcontour"
           }
          ],
          "mesh3d": [
           {
            "colorbar": {
             "outlinewidth": 0,
             "ticks": ""
            },
            "type": "mesh3d"
           }
          ],
          "parcoords": [
           {
            "line": {
             "colorbar": {
              "outlinewidth": 0,
              "ticks": ""
             }
            },
            "type": "parcoords"
           }
          ],
          "pie": [
           {
            "automargin": true,
            "type": "pie"
           }
          ],
          "scatter": [
           {
            "fillpattern": {
             "fillmode": "overlay",
             "size": 10,
             "solidity": 0.2
            },
            "type": "scatter"
           }
          ],
          "scatter3d": [
           {
            "line": {
             "colorbar": {
              "outlinewidth": 0,
              "ticks": ""
             }
            },
            "marker": {
             "colorbar": {
              "outlinewidth": 0,
              "ticks": ""
             }
            },
            "type": "scatter3d"
           }
          ],
          "scattercarpet": [
           {
            "marker": {
             "colorbar": {
              "outlinewidth": 0,
              "ticks": ""
             }
            },
            "type": "scattercarpet"
           }
          ],
          "scattergeo": [
           {
            "marker": {
             "colorbar": {
              "outlinewidth": 0,
              "ticks": ""
             }
            },
            "type": "scattergeo"
           }
          ],
          "scattergl": [
           {
            "marker": {
             "colorbar": {
              "outlinewidth": 0,
              "ticks": ""
             }
            },
            "type": "scattergl"
           }
          ],
          "scattermapbox": [
           {
            "marker": {
             "colorbar": {
              "outlinewidth": 0,
              "ticks": ""
             }
            },
            "type": "scattermapbox"
           }
          ],
          "scatterpolar": [
           {
            "marker": {
             "colorbar": {
              "outlinewidth": 0,
              "ticks": ""
             }
            },
            "type": "scatterpolar"
           }
          ],
          "scatterpolargl": [
           {
            "marker": {
             "colorbar": {
              "outlinewidth": 0,
              "ticks": ""
             }
            },
            "type": "scatterpolargl"
           }
          ],
          "scatterternary": [
           {
            "marker": {
             "colorbar": {
              "outlinewidth": 0,
              "ticks": ""
             }
            },
            "type": "scatterternary"
           }
          ],
          "surface": [
           {
            "colorbar": {
             "outlinewidth": 0,
             "ticks": ""
            },
            "colorscale": [
             [
              0,
              "#0d0887"
             ],
             [
              0.1111111111111111,
              "#46039f"
             ],
             [
              0.2222222222222222,
              "#7201a8"
             ],
             [
              0.3333333333333333,
              "#9c179e"
             ],
             [
              0.4444444444444444,
              "#bd3786"
             ],
             [
              0.5555555555555556,
              "#d8576b"
             ],
             [
              0.6666666666666666,
              "#ed7953"
             ],
             [
              0.7777777777777778,
              "#fb9f3a"
             ],
             [
              0.8888888888888888,
              "#fdca26"
             ],
             [
              1,
              "#f0f921"
             ]
            ],
            "type": "surface"
           }
          ],
          "table": [
           {
            "cells": {
             "fill": {
              "color": "#EBF0F8"
             },
             "line": {
              "color": "white"
             }
            },
            "header": {
             "fill": {
              "color": "#C8D4E3"
             },
             "line": {
              "color": "white"
             }
            },
            "type": "table"
           }
          ]
         },
         "layout": {
          "annotationdefaults": {
           "arrowcolor": "#2a3f5f",
           "arrowhead": 0,
           "arrowwidth": 1
          },
          "autotypenumbers": "strict",
          "coloraxis": {
           "colorbar": {
            "outlinewidth": 0,
            "ticks": ""
           }
          },
          "colorscale": {
           "diverging": [
            [
             0,
             "#8e0152"
            ],
            [
             0.1,
             "#c51b7d"
            ],
            [
             0.2,
             "#de77ae"
            ],
            [
             0.3,
             "#f1b6da"
            ],
            [
             0.4,
             "#fde0ef"
            ],
            [
             0.5,
             "#f7f7f7"
            ],
            [
             0.6,
             "#e6f5d0"
            ],
            [
             0.7,
             "#b8e186"
            ],
            [
             0.8,
             "#7fbc41"
            ],
            [
             0.9,
             "#4d9221"
            ],
            [
             1,
             "#276419"
            ]
           ],
           "sequential": [
            [
             0,
             "#0d0887"
            ],
            [
             0.1111111111111111,
             "#46039f"
            ],
            [
             0.2222222222222222,
             "#7201a8"
            ],
            [
             0.3333333333333333,
             "#9c179e"
            ],
            [
             0.4444444444444444,
             "#bd3786"
            ],
            [
             0.5555555555555556,
             "#d8576b"
            ],
            [
             0.6666666666666666,
             "#ed7953"
            ],
            [
             0.7777777777777778,
             "#fb9f3a"
            ],
            [
             0.8888888888888888,
             "#fdca26"
            ],
            [
             1,
             "#f0f921"
            ]
           ],
           "sequentialminus": [
            [
             0,
             "#0d0887"
            ],
            [
             0.1111111111111111,
             "#46039f"
            ],
            [
             0.2222222222222222,
             "#7201a8"
            ],
            [
             0.3333333333333333,
             "#9c179e"
            ],
            [
             0.4444444444444444,
             "#bd3786"
            ],
            [
             0.5555555555555556,
             "#d8576b"
            ],
            [
             0.6666666666666666,
             "#ed7953"
            ],
            [
             0.7777777777777778,
             "#fb9f3a"
            ],
            [
             0.8888888888888888,
             "#fdca26"
            ],
            [
             1,
             "#f0f921"
            ]
           ]
          },
          "colorway": [
           "#636efa",
           "#EF553B",
           "#00cc96",
           "#ab63fa",
           "#FFA15A",
           "#19d3f3",
           "#FF6692",
           "#B6E880",
           "#FF97FF",
           "#FECB52"
          ],
          "font": {
           "color": "#2a3f5f"
          },
          "geo": {
           "bgcolor": "white",
           "lakecolor": "white",
           "landcolor": "#E5ECF6",
           "showlakes": true,
           "showland": true,
           "subunitcolor": "white"
          },
          "hoverlabel": {
           "align": "left"
          },
          "hovermode": "closest",
          "mapbox": {
           "style": "light"
          },
          "paper_bgcolor": "white",
          "plot_bgcolor": "#E5ECF6",
          "polar": {
           "angularaxis": {
            "gridcolor": "white",
            "linecolor": "white",
            "ticks": ""
           },
           "bgcolor": "#E5ECF6",
           "radialaxis": {
            "gridcolor": "white",
            "linecolor": "white",
            "ticks": ""
           }
          },
          "scene": {
           "xaxis": {
            "backgroundcolor": "#E5ECF6",
            "gridcolor": "white",
            "gridwidth": 2,
            "linecolor": "white",
            "showbackground": true,
            "ticks": "",
            "zerolinecolor": "white"
           },
           "yaxis": {
            "backgroundcolor": "#E5ECF6",
            "gridcolor": "white",
            "gridwidth": 2,
            "linecolor": "white",
            "showbackground": true,
            "ticks": "",
            "zerolinecolor": "white"
           },
           "zaxis": {
            "backgroundcolor": "#E5ECF6",
            "gridcolor": "white",
            "gridwidth": 2,
            "linecolor": "white",
            "showbackground": true,
            "ticks": "",
            "zerolinecolor": "white"
           }
          },
          "shapedefaults": {
           "line": {
            "color": "#2a3f5f"
           }
          },
          "ternary": {
           "aaxis": {
            "gridcolor": "white",
            "linecolor": "white",
            "ticks": ""
           },
           "baxis": {
            "gridcolor": "white",
            "linecolor": "white",
            "ticks": ""
           },
           "bgcolor": "#E5ECF6",
           "caxis": {
            "gridcolor": "white",
            "linecolor": "white",
            "ticks": ""
           }
          },
          "title": {
           "x": 0.05
          },
          "xaxis": {
           "automargin": true,
           "gridcolor": "white",
           "linecolor": "white",
           "ticks": "",
           "title": {
            "standoff": 15
           },
           "zerolinecolor": "white",
           "zerolinewidth": 2
          },
          "yaxis": {
           "automargin": true,
           "gridcolor": "white",
           "linecolor": "white",
           "ticks": "",
           "title": {
            "standoff": 15
           },
           "zerolinecolor": "white",
           "zerolinewidth": 2
          }
         }
        },
        "title": {
         "text": "Estratégia x Variação de mercado"
        },
        "xaxis": {
         "showspikes": true,
         "spikecolor": "black",
         "spikedash": "solid",
         "spikemode": "across",
         "spikesnap": "cursor",
         "spikethickness": 1,
         "title": {
          "text": ""
         }
        },
        "yaxis": {
         "gridcolor": "lightgrey",
         "tickfont": {
          "size": 12
         },
         "title": {
          "text": "[Percentual]"
         }
        }
       }
      }
     },
     "metadata": {},
     "output_type": "display_data"
    },
    {
     "data": {
      "application/vnd.plotly.v1+json": {
       "config": {
        "plotlyServerURL": "https://plot.ly"
       },
       "data": [
        {
         "line": {
          "color": "black",
          "width": 1.2
         },
         "mode": "lines",
         "name": "Sentimento da notícia",
         "type": "scatter",
         "x": [
          "2019-03-20T04:00:00+00:00",
          "2019-03-21T04:00:00+00:00",
          "2019-03-22T04:00:00+00:00",
          "2019-03-25T04:00:00+00:00",
          "2019-03-26T04:00:00+00:00",
          "2019-03-27T04:00:00+00:00",
          "2019-03-28T04:00:00+00:00",
          "2019-03-29T04:00:00+00:00",
          "2019-04-01T04:00:00+00:00",
          "2019-04-02T04:00:00+00:00",
          "2019-04-03T04:00:00+00:00",
          "2019-04-04T04:00:00+00:00",
          "2019-04-05T04:00:00+00:00",
          "2019-04-08T04:00:00+00:00",
          "2019-04-09T04:00:00+00:00",
          "2019-04-10T04:00:00+00:00",
          "2019-04-11T04:00:00+00:00",
          "2019-04-12T04:00:00+00:00",
          "2019-04-15T04:00:00+00:00",
          "2019-04-16T04:00:00+00:00",
          "2019-04-17T04:00:00+00:00",
          "2019-04-18T04:00:00+00:00",
          "2019-04-22T04:00:00+00:00",
          "2019-04-23T04:00:00+00:00",
          "2019-04-24T04:00:00+00:00",
          "2019-04-25T04:00:00+00:00",
          "2019-04-26T04:00:00+00:00",
          "2019-04-29T04:00:00+00:00",
          "2019-04-30T04:00:00+00:00",
          "2019-05-01T04:00:00+00:00",
          "2019-05-02T04:00:00+00:00",
          "2019-05-03T04:00:00+00:00",
          "2019-05-06T04:00:00+00:00",
          "2019-05-07T04:00:00+00:00",
          "2019-05-08T04:00:00+00:00",
          "2019-05-09T04:00:00+00:00",
          "2019-05-10T04:00:00+00:00",
          "2019-05-13T04:00:00+00:00",
          "2019-05-14T04:00:00+00:00",
          "2019-05-15T04:00:00+00:00",
          "2019-05-16T04:00:00+00:00",
          "2019-05-17T04:00:00+00:00",
          "2019-05-20T04:00:00+00:00",
          "2019-05-21T04:00:00+00:00",
          "2019-05-22T04:00:00+00:00",
          "2019-05-23T04:00:00+00:00",
          "2019-05-24T04:00:00+00:00",
          "2019-05-28T04:00:00+00:00",
          "2019-05-29T04:00:00+00:00",
          "2019-05-30T04:00:00+00:00",
          "2019-05-31T04:00:00+00:00",
          "2019-06-03T04:00:00+00:00",
          "2019-06-04T04:00:00+00:00",
          "2019-06-05T04:00:00+00:00",
          "2019-06-06T04:00:00+00:00",
          "2019-06-07T04:00:00+00:00",
          "2019-06-10T04:00:00+00:00",
          "2019-06-11T04:00:00+00:00",
          "2019-06-12T04:00:00+00:00",
          "2019-06-13T04:00:00+00:00",
          "2019-06-14T04:00:00+00:00",
          "2019-06-17T04:00:00+00:00",
          "2019-06-18T04:00:00+00:00",
          "2019-06-19T04:00:00+00:00",
          "2019-06-20T04:00:00+00:00",
          "2019-06-21T04:00:00+00:00",
          "2019-06-24T04:00:00+00:00",
          "2019-06-25T04:00:00+00:00",
          "2019-06-26T04:00:00+00:00",
          "2019-06-27T04:00:00+00:00",
          "2019-06-28T04:00:00+00:00",
          "2019-07-01T04:00:00+00:00",
          "2019-07-02T04:00:00+00:00",
          "2019-07-03T04:00:00+00:00",
          "2019-07-05T04:00:00+00:00",
          "2019-07-08T04:00:00+00:00",
          "2019-07-09T04:00:00+00:00",
          "2019-07-10T04:00:00+00:00",
          "2019-07-11T04:00:00+00:00",
          "2019-07-12T04:00:00+00:00",
          "2019-07-15T04:00:00+00:00",
          "2019-07-16T04:00:00+00:00",
          "2019-07-17T04:00:00+00:00",
          "2019-07-18T04:00:00+00:00",
          "2019-07-19T04:00:00+00:00",
          "2019-07-22T04:00:00+00:00",
          "2019-07-23T04:00:00+00:00",
          "2019-07-24T04:00:00+00:00",
          "2019-07-25T04:00:00+00:00",
          "2019-07-26T04:00:00+00:00",
          "2019-07-29T04:00:00+00:00",
          "2019-07-30T04:00:00+00:00",
          "2019-07-31T04:00:00+00:00",
          "2019-08-01T04:00:00+00:00",
          "2019-08-02T04:00:00+00:00",
          "2019-08-05T04:00:00+00:00",
          "2019-08-06T04:00:00+00:00",
          "2019-08-07T04:00:00+00:00",
          "2019-08-08T04:00:00+00:00",
          "2019-08-09T04:00:00+00:00",
          "2019-08-12T04:00:00+00:00",
          "2019-08-13T04:00:00+00:00",
          "2019-08-14T04:00:00+00:00",
          "2019-08-15T04:00:00+00:00",
          "2019-08-16T04:00:00+00:00",
          "2019-08-19T04:00:00+00:00",
          "2019-08-20T04:00:00+00:00",
          "2019-08-21T04:00:00+00:00",
          "2019-08-22T04:00:00+00:00",
          "2019-08-23T04:00:00+00:00",
          "2019-08-26T04:00:00+00:00",
          "2019-08-27T04:00:00+00:00",
          "2019-08-28T04:00:00+00:00",
          "2019-08-29T04:00:00+00:00",
          "2019-08-30T04:00:00+00:00",
          "2019-09-03T04:00:00+00:00",
          "2019-09-04T04:00:00+00:00",
          "2019-09-05T04:00:00+00:00",
          "2019-09-06T04:00:00+00:00",
          "2019-09-09T04:00:00+00:00",
          "2019-09-10T04:00:00+00:00",
          "2019-09-11T04:00:00+00:00",
          "2019-09-12T04:00:00+00:00",
          "2019-09-13T04:00:00+00:00",
          "2019-09-16T04:00:00+00:00",
          "2019-09-17T04:00:00+00:00",
          "2019-09-18T04:00:00+00:00",
          "2019-09-19T04:00:00+00:00",
          "2019-09-20T04:00:00+00:00",
          "2019-09-23T04:00:00+00:00",
          "2019-09-24T04:00:00+00:00",
          "2019-09-25T04:00:00+00:00",
          "2019-09-26T04:00:00+00:00",
          "2019-09-27T04:00:00+00:00",
          "2019-09-30T04:00:00+00:00",
          "2019-10-01T04:00:00+00:00",
          "2019-10-02T04:00:00+00:00",
          "2019-10-03T04:00:00+00:00",
          "2019-10-04T04:00:00+00:00",
          "2019-10-07T04:00:00+00:00",
          "2019-10-08T04:00:00+00:00",
          "2019-10-09T04:00:00+00:00",
          "2019-10-10T04:00:00+00:00",
          "2019-10-11T04:00:00+00:00",
          "2019-10-14T04:00:00+00:00",
          "2019-10-15T04:00:00+00:00",
          "2019-10-16T04:00:00+00:00",
          "2019-10-17T04:00:00+00:00",
          "2019-10-18T04:00:00+00:00",
          "2019-10-21T04:00:00+00:00",
          "2019-10-22T04:00:00+00:00",
          "2019-10-23T04:00:00+00:00",
          "2019-10-24T04:00:00+00:00",
          "2019-10-25T04:00:00+00:00",
          "2019-10-28T04:00:00+00:00",
          "2019-10-29T04:00:00+00:00",
          "2019-10-30T04:00:00+00:00",
          "2019-10-31T04:00:00+00:00",
          "2019-11-01T04:00:00+00:00",
          "2019-11-04T05:00:00+00:00",
          "2019-11-05T05:00:00+00:00",
          "2019-11-06T05:00:00+00:00",
          "2019-11-07T05:00:00+00:00",
          "2019-11-08T05:00:00+00:00",
          "2019-11-11T05:00:00+00:00",
          "2019-11-12T05:00:00+00:00",
          "2019-11-13T05:00:00+00:00",
          "2019-11-14T05:00:00+00:00",
          "2019-11-15T05:00:00+00:00",
          "2019-11-18T05:00:00+00:00",
          "2019-11-19T05:00:00+00:00",
          "2019-11-20T05:00:00+00:00",
          "2019-11-21T05:00:00+00:00",
          "2019-11-22T05:00:00+00:00",
          "2019-11-25T05:00:00+00:00",
          "2019-11-26T05:00:00+00:00",
          "2019-11-27T05:00:00+00:00",
          "2019-11-29T05:00:00+00:00",
          "2019-12-02T05:00:00+00:00",
          "2019-12-03T05:00:00+00:00",
          "2019-12-04T05:00:00+00:00",
          "2019-12-05T05:00:00+00:00",
          "2019-12-06T05:00:00+00:00",
          "2019-12-09T05:00:00+00:00",
          "2019-12-10T05:00:00+00:00",
          "2019-12-11T05:00:00+00:00",
          "2019-12-12T05:00:00+00:00",
          "2019-12-13T05:00:00+00:00",
          "2019-12-16T05:00:00+00:00",
          "2019-12-17T05:00:00+00:00",
          "2019-12-18T05:00:00+00:00",
          "2019-12-19T05:00:00+00:00",
          "2019-12-20T05:00:00+00:00",
          "2019-12-23T05:00:00+00:00",
          "2019-12-24T05:00:00+00:00",
          "2019-12-26T05:00:00+00:00",
          "2019-12-27T05:00:00+00:00",
          "2019-12-30T05:00:00+00:00",
          "2019-12-31T05:00:00+00:00",
          "2020-01-02T05:00:00+00:00",
          "2020-01-03T05:00:00+00:00",
          "2020-01-06T05:00:00+00:00",
          "2020-01-07T05:00:00+00:00",
          "2020-01-08T05:00:00+00:00",
          "2020-01-09T05:00:00+00:00"
         ],
         "y": [
          0,
          0,
          1,
          1,
          1,
          1,
          1,
          1,
          1,
          1,
          1,
          1,
          1,
          1,
          1,
          1,
          1,
          1,
          1,
          1,
          -1,
          -1,
          -1,
          -1,
          -1,
          -1,
          -1,
          -1,
          -1,
          -1,
          -1,
          -1,
          -1,
          -1,
          -1,
          -1,
          -1,
          -1,
          -1,
          -1,
          -1,
          -1,
          -1,
          -1,
          -1,
          -1,
          1,
          1,
          1,
          1,
          1,
          1,
          1,
          1,
          1,
          1,
          1,
          -1,
          -1,
          -1,
          -1,
          -1,
          -1,
          -1,
          -1,
          -1,
          -1,
          -1,
          -1,
          -1,
          -1,
          -1,
          -1,
          -1,
          1,
          1,
          1,
          1,
          1,
          1,
          -1,
          -1,
          -1,
          -1,
          -1,
          -1,
          -1,
          1,
          1,
          -1,
          -1,
          -1,
          -1,
          -1,
          -1,
          -1,
          -1,
          -1,
          -1,
          -1,
          -1,
          -1,
          -1,
          -1,
          -1,
          -1,
          -1,
          -1,
          -1,
          -1,
          -1,
          -1,
          -1,
          -1,
          -1,
          -1,
          -1,
          -1,
          -1,
          -1,
          -1,
          -1,
          -1,
          -1,
          -1,
          -1,
          -1,
          -1,
          -1,
          -1,
          -1,
          -1,
          -1,
          -1,
          -1,
          -1,
          -1,
          -1,
          -1,
          -1,
          -1,
          -1,
          -1,
          1,
          1,
          1,
          1,
          1,
          1,
          1,
          -1,
          -1,
          -1,
          -1,
          -1,
          -1,
          -1,
          -1,
          -1,
          -1,
          -1,
          -1,
          -1,
          -1,
          -1,
          -1,
          -1,
          -1,
          -1,
          -1,
          -1,
          -1,
          -1,
          -1,
          -1,
          -1,
          -1,
          -1,
          -1,
          1,
          1,
          1,
          1,
          1,
          1,
          1,
          1,
          1,
          1,
          1,
          1,
          1,
          1,
          1,
          1,
          1,
          1,
          1,
          1,
          1,
          1,
          1,
          1,
          1,
          -1
         ]
        },
        {
         "marker": {
          "color": "red",
          "size": 5
         },
         "mode": "markers",
         "showlegend": false,
         "type": "scatter",
         "x": [
          "2019-04-17T04:00:00+00:00",
          "2019-05-02T04:00:00+00:00",
          "2019-05-06T04:00:00+00:00",
          "2019-05-07T04:00:00+00:00",
          "2019-06-11T04:00:00+00:00",
          "2019-06-17T04:00:00+00:00",
          "2019-06-18T04:00:00+00:00",
          "2019-07-15T04:00:00+00:00",
          "2019-07-18T04:00:00+00:00",
          "2019-07-23T04:00:00+00:00",
          "2019-07-26T04:00:00+00:00",
          "2019-07-29T04:00:00+00:00",
          "2019-08-02T04:00:00+00:00",
          "2019-08-13T04:00:00+00:00",
          "2019-08-29T04:00:00+00:00",
          "2019-09-06T04:00:00+00:00",
          "2019-10-22T04:00:00+00:00",
          "2019-10-24T04:00:00+00:00",
          "2019-11-21T05:00:00+00:00",
          "2019-11-27T05:00:00+00:00"
         ],
         "y": [
          -1,
          -1,
          -1,
          -1,
          -1,
          -1,
          -1,
          -1,
          -1,
          -1,
          -1,
          -1,
          -1,
          -1,
          -1,
          -1,
          -1,
          -1,
          -1,
          -1
         ]
        },
        {
         "marker": {
          "color": "black",
          "size": 5
         },
         "mode": "markers",
         "showlegend": false,
         "type": "scatter",
         "x": [],
         "y": []
        },
        {
         "marker": {
          "color": "green",
          "size": 5
         },
         "mode": "markers",
         "showlegend": false,
         "type": "scatter",
         "x": [
          "2019-03-22T04:00:00+00:00",
          "2019-03-27T04:00:00+00:00",
          "2019-03-28T04:00:00+00:00",
          "2019-04-02T04:00:00+00:00",
          "2019-04-03T04:00:00+00:00",
          "2019-04-04T04:00:00+00:00",
          "2019-04-05T04:00:00+00:00",
          "2019-04-11T04:00:00+00:00",
          "2019-04-16T04:00:00+00:00",
          "2019-05-24T04:00:00+00:00",
          "2019-05-31T04:00:00+00:00",
          "2019-07-05T04:00:00+00:00",
          "2019-07-24T04:00:00+00:00",
          "2019-10-11T04:00:00+00:00",
          "2019-12-03T05:00:00+00:00",
          "2019-12-09T05:00:00+00:00",
          "2019-12-10T05:00:00+00:00",
          "2019-12-24T05:00:00+00:00"
         ],
         "y": [
          1,
          1,
          1,
          1,
          1,
          1,
          1,
          1,
          1,
          1,
          1,
          1,
          1,
          1,
          1,
          1,
          1,
          1
         ]
        },
        {
         "marker": {
          "color": "green",
          "size": 6
         },
         "mode": "markers",
         "name": "Notícia Positiva",
         "showlegend": true,
         "type": "scatter",
         "x": [
          null
         ],
         "y": [
          null
         ]
        },
        {
         "marker": {
          "color": "red",
          "size": 6
         },
         "mode": "markers",
         "name": "Notícia Negativa",
         "showlegend": true,
         "type": "scatter",
         "x": [
          null
         ],
         "y": [
          null
         ]
        }
       ],
       "layout": {
        "legend": {
         "orientation": "h",
         "x": 1,
         "xanchor": "right",
         "y": 1.02,
         "yanchor": "bottom"
        },
        "paper_bgcolor": "white",
        "plot_bgcolor": "white",
        "showlegend": true,
        "template": {
         "data": {
          "bar": [
           {
            "error_x": {
             "color": "#2a3f5f"
            },
            "error_y": {
             "color": "#2a3f5f"
            },
            "marker": {
             "line": {
              "color": "#E5ECF6",
              "width": 0.5
             },
             "pattern": {
              "fillmode": "overlay",
              "size": 10,
              "solidity": 0.2
             }
            },
            "type": "bar"
           }
          ],
          "barpolar": [
           {
            "marker": {
             "line": {
              "color": "#E5ECF6",
              "width": 0.5
             },
             "pattern": {
              "fillmode": "overlay",
              "size": 10,
              "solidity": 0.2
             }
            },
            "type": "barpolar"
           }
          ],
          "carpet": [
           {
            "aaxis": {
             "endlinecolor": "#2a3f5f",
             "gridcolor": "white",
             "linecolor": "white",
             "minorgridcolor": "white",
             "startlinecolor": "#2a3f5f"
            },
            "baxis": {
             "endlinecolor": "#2a3f5f",
             "gridcolor": "white",
             "linecolor": "white",
             "minorgridcolor": "white",
             "startlinecolor": "#2a3f5f"
            },
            "type": "carpet"
           }
          ],
          "choropleth": [
           {
            "colorbar": {
             "outlinewidth": 0,
             "ticks": ""
            },
            "type": "choropleth"
           }
          ],
          "contour": [
           {
            "colorbar": {
             "outlinewidth": 0,
             "ticks": ""
            },
            "colorscale": [
             [
              0,
              "#0d0887"
             ],
             [
              0.1111111111111111,
              "#46039f"
             ],
             [
              0.2222222222222222,
              "#7201a8"
             ],
             [
              0.3333333333333333,
              "#9c179e"
             ],
             [
              0.4444444444444444,
              "#bd3786"
             ],
             [
              0.5555555555555556,
              "#d8576b"
             ],
             [
              0.6666666666666666,
              "#ed7953"
             ],
             [
              0.7777777777777778,
              "#fb9f3a"
             ],
             [
              0.8888888888888888,
              "#fdca26"
             ],
             [
              1,
              "#f0f921"
             ]
            ],
            "type": "contour"
           }
          ],
          "contourcarpet": [
           {
            "colorbar": {
             "outlinewidth": 0,
             "ticks": ""
            },
            "type": "contourcarpet"
           }
          ],
          "heatmap": [
           {
            "colorbar": {
             "outlinewidth": 0,
             "ticks": ""
            },
            "colorscale": [
             [
              0,
              "#0d0887"
             ],
             [
              0.1111111111111111,
              "#46039f"
             ],
             [
              0.2222222222222222,
              "#7201a8"
             ],
             [
              0.3333333333333333,
              "#9c179e"
             ],
             [
              0.4444444444444444,
              "#bd3786"
             ],
             [
              0.5555555555555556,
              "#d8576b"
             ],
             [
              0.6666666666666666,
              "#ed7953"
             ],
             [
              0.7777777777777778,
              "#fb9f3a"
             ],
             [
              0.8888888888888888,
              "#fdca26"
             ],
             [
              1,
              "#f0f921"
             ]
            ],
            "type": "heatmap"
           }
          ],
          "heatmapgl": [
           {
            "colorbar": {
             "outlinewidth": 0,
             "ticks": ""
            },
            "colorscale": [
             [
              0,
              "#0d0887"
             ],
             [
              0.1111111111111111,
              "#46039f"
             ],
             [
              0.2222222222222222,
              "#7201a8"
             ],
             [
              0.3333333333333333,
              "#9c179e"
             ],
             [
              0.4444444444444444,
              "#bd3786"
             ],
             [
              0.5555555555555556,
              "#d8576b"
             ],
             [
              0.6666666666666666,
              "#ed7953"
             ],
             [
              0.7777777777777778,
              "#fb9f3a"
             ],
             [
              0.8888888888888888,
              "#fdca26"
             ],
             [
              1,
              "#f0f921"
             ]
            ],
            "type": "heatmapgl"
           }
          ],
          "histogram": [
           {
            "marker": {
             "pattern": {
              "fillmode": "overlay",
              "size": 10,
              "solidity": 0.2
             }
            },
            "type": "histogram"
           }
          ],
          "histogram2d": [
           {
            "colorbar": {
             "outlinewidth": 0,
             "ticks": ""
            },
            "colorscale": [
             [
              0,
              "#0d0887"
             ],
             [
              0.1111111111111111,
              "#46039f"
             ],
             [
              0.2222222222222222,
              "#7201a8"
             ],
             [
              0.3333333333333333,
              "#9c179e"
             ],
             [
              0.4444444444444444,
              "#bd3786"
             ],
             [
              0.5555555555555556,
              "#d8576b"
             ],
             [
              0.6666666666666666,
              "#ed7953"
             ],
             [
              0.7777777777777778,
              "#fb9f3a"
             ],
             [
              0.8888888888888888,
              "#fdca26"
             ],
             [
              1,
              "#f0f921"
             ]
            ],
            "type": "histogram2d"
           }
          ],
          "histogram2dcontour": [
           {
            "colorbar": {
             "outlinewidth": 0,
             "ticks": ""
            },
            "colorscale": [
             [
              0,
              "#0d0887"
             ],
             [
              0.1111111111111111,
              "#46039f"
             ],
             [
              0.2222222222222222,
              "#7201a8"
             ],
             [
              0.3333333333333333,
              "#9c179e"
             ],
             [
              0.4444444444444444,
              "#bd3786"
             ],
             [
              0.5555555555555556,
              "#d8576b"
             ],
             [
              0.6666666666666666,
              "#ed7953"
             ],
             [
              0.7777777777777778,
              "#fb9f3a"
             ],
             [
              0.8888888888888888,
              "#fdca26"
             ],
             [
              1,
              "#f0f921"
             ]
            ],
            "type": "histogram2dcontour"
           }
          ],
          "mesh3d": [
           {
            "colorbar": {
             "outlinewidth": 0,
             "ticks": ""
            },
            "type": "mesh3d"
           }
          ],
          "parcoords": [
           {
            "line": {
             "colorbar": {
              "outlinewidth": 0,
              "ticks": ""
             }
            },
            "type": "parcoords"
           }
          ],
          "pie": [
           {
            "automargin": true,
            "type": "pie"
           }
          ],
          "scatter": [
           {
            "fillpattern": {
             "fillmode": "overlay",
             "size": 10,
             "solidity": 0.2
            },
            "type": "scatter"
           }
          ],
          "scatter3d": [
           {
            "line": {
             "colorbar": {
              "outlinewidth": 0,
              "ticks": ""
             }
            },
            "marker": {
             "colorbar": {
              "outlinewidth": 0,
              "ticks": ""
             }
            },
            "type": "scatter3d"
           }
          ],
          "scattercarpet": [
           {
            "marker": {
             "colorbar": {
              "outlinewidth": 0,
              "ticks": ""
             }
            },
            "type": "scattercarpet"
           }
          ],
          "scattergeo": [
           {
            "marker": {
             "colorbar": {
              "outlinewidth": 0,
              "ticks": ""
             }
            },
            "type": "scattergeo"
           }
          ],
          "scattergl": [
           {
            "marker": {
             "colorbar": {
              "outlinewidth": 0,
              "ticks": ""
             }
            },
            "type": "scattergl"
           }
          ],
          "scattermapbox": [
           {
            "marker": {
             "colorbar": {
              "outlinewidth": 0,
              "ticks": ""
             }
            },
            "type": "scattermapbox"
           }
          ],
          "scatterpolar": [
           {
            "marker": {
             "colorbar": {
              "outlinewidth": 0,
              "ticks": ""
             }
            },
            "type": "scatterpolar"
           }
          ],
          "scatterpolargl": [
           {
            "marker": {
             "colorbar": {
              "outlinewidth": 0,
              "ticks": ""
             }
            },
            "type": "scatterpolargl"
           }
          ],
          "scatterternary": [
           {
            "marker": {
             "colorbar": {
              "outlinewidth": 0,
              "ticks": ""
             }
            },
            "type": "scatterternary"
           }
          ],
          "surface": [
           {
            "colorbar": {
             "outlinewidth": 0,
             "ticks": ""
            },
            "colorscale": [
             [
              0,
              "#0d0887"
             ],
             [
              0.1111111111111111,
              "#46039f"
             ],
             [
              0.2222222222222222,
              "#7201a8"
             ],
             [
              0.3333333333333333,
              "#9c179e"
             ],
             [
              0.4444444444444444,
              "#bd3786"
             ],
             [
              0.5555555555555556,
              "#d8576b"
             ],
             [
              0.6666666666666666,
              "#ed7953"
             ],
             [
              0.7777777777777778,
              "#fb9f3a"
             ],
             [
              0.8888888888888888,
              "#fdca26"
             ],
             [
              1,
              "#f0f921"
             ]
            ],
            "type": "surface"
           }
          ],
          "table": [
           {
            "cells": {
             "fill": {
              "color": "#EBF0F8"
             },
             "line": {
              "color": "white"
             }
            },
            "header": {
             "fill": {
              "color": "#C8D4E3"
             },
             "line": {
              "color": "white"
             }
            },
            "type": "table"
           }
          ]
         },
         "layout": {
          "annotationdefaults": {
           "arrowcolor": "#2a3f5f",
           "arrowhead": 0,
           "arrowwidth": 1
          },
          "autotypenumbers": "strict",
          "coloraxis": {
           "colorbar": {
            "outlinewidth": 0,
            "ticks": ""
           }
          },
          "colorscale": {
           "diverging": [
            [
             0,
             "#8e0152"
            ],
            [
             0.1,
             "#c51b7d"
            ],
            [
             0.2,
             "#de77ae"
            ],
            [
             0.3,
             "#f1b6da"
            ],
            [
             0.4,
             "#fde0ef"
            ],
            [
             0.5,
             "#f7f7f7"
            ],
            [
             0.6,
             "#e6f5d0"
            ],
            [
             0.7,
             "#b8e186"
            ],
            [
             0.8,
             "#7fbc41"
            ],
            [
             0.9,
             "#4d9221"
            ],
            [
             1,
             "#276419"
            ]
           ],
           "sequential": [
            [
             0,
             "#0d0887"
            ],
            [
             0.1111111111111111,
             "#46039f"
            ],
            [
             0.2222222222222222,
             "#7201a8"
            ],
            [
             0.3333333333333333,
             "#9c179e"
            ],
            [
             0.4444444444444444,
             "#bd3786"
            ],
            [
             0.5555555555555556,
             "#d8576b"
            ],
            [
             0.6666666666666666,
             "#ed7953"
            ],
            [
             0.7777777777777778,
             "#fb9f3a"
            ],
            [
             0.8888888888888888,
             "#fdca26"
            ],
            [
             1,
             "#f0f921"
            ]
           ],
           "sequentialminus": [
            [
             0,
             "#0d0887"
            ],
            [
             0.1111111111111111,
             "#46039f"
            ],
            [
             0.2222222222222222,
             "#7201a8"
            ],
            [
             0.3333333333333333,
             "#9c179e"
            ],
            [
             0.4444444444444444,
             "#bd3786"
            ],
            [
             0.5555555555555556,
             "#d8576b"
            ],
            [
             0.6666666666666666,
             "#ed7953"
            ],
            [
             0.7777777777777778,
             "#fb9f3a"
            ],
            [
             0.8888888888888888,
             "#fdca26"
            ],
            [
             1,
             "#f0f921"
            ]
           ]
          },
          "colorway": [
           "#636efa",
           "#EF553B",
           "#00cc96",
           "#ab63fa",
           "#FFA15A",
           "#19d3f3",
           "#FF6692",
           "#B6E880",
           "#FF97FF",
           "#FECB52"
          ],
          "font": {
           "color": "#2a3f5f"
          },
          "geo": {
           "bgcolor": "white",
           "lakecolor": "white",
           "landcolor": "#E5ECF6",
           "showlakes": true,
           "showland": true,
           "subunitcolor": "white"
          },
          "hoverlabel": {
           "align": "left"
          },
          "hovermode": "closest",
          "mapbox": {
           "style": "light"
          },
          "paper_bgcolor": "white",
          "plot_bgcolor": "#E5ECF6",
          "polar": {
           "angularaxis": {
            "gridcolor": "white",
            "linecolor": "white",
            "ticks": ""
           },
           "bgcolor": "#E5ECF6",
           "radialaxis": {
            "gridcolor": "white",
            "linecolor": "white",
            "ticks": ""
           }
          },
          "scene": {
           "xaxis": {
            "backgroundcolor": "#E5ECF6",
            "gridcolor": "white",
            "gridwidth": 2,
            "linecolor": "white",
            "showbackground": true,
            "ticks": "",
            "zerolinecolor": "white"
           },
           "yaxis": {
            "backgroundcolor": "#E5ECF6",
            "gridcolor": "white",
            "gridwidth": 2,
            "linecolor": "white",
            "showbackground": true,
            "ticks": "",
            "zerolinecolor": "white"
           },
           "zaxis": {
            "backgroundcolor": "#E5ECF6",
            "gridcolor": "white",
            "gridwidth": 2,
            "linecolor": "white",
            "showbackground": true,
            "ticks": "",
            "zerolinecolor": "white"
           }
          },
          "shapedefaults": {
           "line": {
            "color": "#2a3f5f"
           }
          },
          "ternary": {
           "aaxis": {
            "gridcolor": "white",
            "linecolor": "white",
            "ticks": ""
           },
           "baxis": {
            "gridcolor": "white",
            "linecolor": "white",
            "ticks": ""
           },
           "bgcolor": "#E5ECF6",
           "caxis": {
            "gridcolor": "white",
            "linecolor": "white",
            "ticks": ""
           }
          },
          "title": {
           "x": 0.05
          },
          "xaxis": {
           "automargin": true,
           "gridcolor": "white",
           "linecolor": "white",
           "ticks": "",
           "title": {
            "standoff": 15
           },
           "zerolinecolor": "white",
           "zerolinewidth": 2
          },
          "yaxis": {
           "automargin": true,
           "gridcolor": "white",
           "linecolor": "white",
           "ticks": "",
           "title": {
            "standoff": 15
           },
           "zerolinecolor": "white",
           "zerolinewidth": 2
          }
         }
        },
        "title": {
         "text": "Sentimento das notícias ao longo do tempo"
        },
        "xaxis": {
         "showgrid": false,
         "tickangle": -45,
         "title": {
          "text": "Data"
         }
        },
        "yaxis": {
         "showgrid": true,
         "tickmode": "linear",
         "title": {
          "text": "Sentimento da notícia"
         }
        }
       }
      }
     },
     "metadata": {},
     "output_type": "display_data"
    },
    {
     "data": {
      "application/vnd.plotly.v1+json": {
       "config": {
        "plotlyServerURL": "https://plot.ly"
       },
       "data": [
        {
         "line": {
          "color": "black",
          "width": 1.4
         },
         "mode": "lines",
         "name": "Capital ",
         "type": "scatter",
         "x": [
          "2019-03-20T04:00:00+00:00",
          "2019-03-21T04:00:00+00:00",
          "2019-03-22T04:00:00+00:00",
          "2019-03-25T04:00:00+00:00",
          "2019-03-26T04:00:00+00:00",
          "2019-03-27T04:00:00+00:00",
          "2019-03-28T04:00:00+00:00",
          "2019-03-29T04:00:00+00:00",
          "2019-04-01T04:00:00+00:00",
          "2019-04-02T04:00:00+00:00",
          "2019-04-03T04:00:00+00:00",
          "2019-04-04T04:00:00+00:00",
          "2019-04-05T04:00:00+00:00",
          "2019-04-08T04:00:00+00:00",
          "2019-04-09T04:00:00+00:00",
          "2019-04-10T04:00:00+00:00",
          "2019-04-11T04:00:00+00:00",
          "2019-04-12T04:00:00+00:00",
          "2019-04-15T04:00:00+00:00",
          "2019-04-16T04:00:00+00:00",
          "2019-04-17T04:00:00+00:00",
          "2019-04-18T04:00:00+00:00",
          "2019-04-22T04:00:00+00:00",
          "2019-04-23T04:00:00+00:00",
          "2019-04-24T04:00:00+00:00",
          "2019-04-25T04:00:00+00:00",
          "2019-04-26T04:00:00+00:00",
          "2019-04-29T04:00:00+00:00",
          "2019-04-30T04:00:00+00:00",
          "2019-05-01T04:00:00+00:00",
          "2019-05-02T04:00:00+00:00",
          "2019-05-03T04:00:00+00:00",
          "2019-05-06T04:00:00+00:00",
          "2019-05-07T04:00:00+00:00",
          "2019-05-08T04:00:00+00:00",
          "2019-05-09T04:00:00+00:00",
          "2019-05-10T04:00:00+00:00",
          "2019-05-13T04:00:00+00:00",
          "2019-05-14T04:00:00+00:00",
          "2019-05-15T04:00:00+00:00",
          "2019-05-16T04:00:00+00:00",
          "2019-05-17T04:00:00+00:00",
          "2019-05-20T04:00:00+00:00",
          "2019-05-21T04:00:00+00:00",
          "2019-05-22T04:00:00+00:00",
          "2019-05-23T04:00:00+00:00",
          "2019-05-24T04:00:00+00:00",
          "2019-05-28T04:00:00+00:00",
          "2019-05-29T04:00:00+00:00",
          "2019-05-30T04:00:00+00:00",
          "2019-05-31T04:00:00+00:00",
          "2019-06-03T04:00:00+00:00",
          "2019-06-04T04:00:00+00:00",
          "2019-06-05T04:00:00+00:00",
          "2019-06-06T04:00:00+00:00",
          "2019-06-07T04:00:00+00:00",
          "2019-06-10T04:00:00+00:00",
          "2019-06-11T04:00:00+00:00",
          "2019-06-12T04:00:00+00:00",
          "2019-06-13T04:00:00+00:00",
          "2019-06-14T04:00:00+00:00",
          "2019-06-17T04:00:00+00:00",
          "2019-06-18T04:00:00+00:00",
          "2019-06-19T04:00:00+00:00",
          "2019-06-20T04:00:00+00:00",
          "2019-06-21T04:00:00+00:00",
          "2019-06-24T04:00:00+00:00",
          "2019-06-25T04:00:00+00:00",
          "2019-06-26T04:00:00+00:00",
          "2019-06-27T04:00:00+00:00",
          "2019-06-28T04:00:00+00:00",
          "2019-07-01T04:00:00+00:00",
          "2019-07-02T04:00:00+00:00",
          "2019-07-03T04:00:00+00:00",
          "2019-07-05T04:00:00+00:00",
          "2019-07-08T04:00:00+00:00",
          "2019-07-09T04:00:00+00:00",
          "2019-07-10T04:00:00+00:00",
          "2019-07-11T04:00:00+00:00",
          "2019-07-12T04:00:00+00:00",
          "2019-07-15T04:00:00+00:00",
          "2019-07-16T04:00:00+00:00",
          "2019-07-17T04:00:00+00:00",
          "2019-07-18T04:00:00+00:00",
          "2019-07-19T04:00:00+00:00",
          "2019-07-22T04:00:00+00:00",
          "2019-07-23T04:00:00+00:00",
          "2019-07-24T04:00:00+00:00",
          "2019-07-25T04:00:00+00:00",
          "2019-07-26T04:00:00+00:00",
          "2019-07-29T04:00:00+00:00",
          "2019-07-30T04:00:00+00:00",
          "2019-07-31T04:00:00+00:00",
          "2019-08-01T04:00:00+00:00",
          "2019-08-02T04:00:00+00:00",
          "2019-08-05T04:00:00+00:00",
          "2019-08-06T04:00:00+00:00",
          "2019-08-07T04:00:00+00:00",
          "2019-08-08T04:00:00+00:00",
          "2019-08-09T04:00:00+00:00",
          "2019-08-12T04:00:00+00:00",
          "2019-08-13T04:00:00+00:00",
          "2019-08-14T04:00:00+00:00",
          "2019-08-15T04:00:00+00:00",
          "2019-08-16T04:00:00+00:00",
          "2019-08-19T04:00:00+00:00",
          "2019-08-20T04:00:00+00:00",
          "2019-08-21T04:00:00+00:00",
          "2019-08-22T04:00:00+00:00",
          "2019-08-23T04:00:00+00:00",
          "2019-08-26T04:00:00+00:00",
          "2019-08-27T04:00:00+00:00",
          "2019-08-28T04:00:00+00:00",
          "2019-08-29T04:00:00+00:00",
          "2019-08-30T04:00:00+00:00",
          "2019-09-03T04:00:00+00:00",
          "2019-09-04T04:00:00+00:00",
          "2019-09-05T04:00:00+00:00",
          "2019-09-06T04:00:00+00:00",
          "2019-09-09T04:00:00+00:00",
          "2019-09-10T04:00:00+00:00",
          "2019-09-11T04:00:00+00:00",
          "2019-09-12T04:00:00+00:00",
          "2019-09-13T04:00:00+00:00",
          "2019-09-16T04:00:00+00:00",
          "2019-09-17T04:00:00+00:00",
          "2019-09-18T04:00:00+00:00",
          "2019-09-19T04:00:00+00:00",
          "2019-09-20T04:00:00+00:00",
          "2019-09-23T04:00:00+00:00",
          "2019-09-24T04:00:00+00:00",
          "2019-09-25T04:00:00+00:00",
          "2019-09-26T04:00:00+00:00",
          "2019-09-27T04:00:00+00:00",
          "2019-09-30T04:00:00+00:00",
          "2019-10-01T04:00:00+00:00",
          "2019-10-02T04:00:00+00:00",
          "2019-10-03T04:00:00+00:00",
          "2019-10-04T04:00:00+00:00",
          "2019-10-07T04:00:00+00:00",
          "2019-10-08T04:00:00+00:00",
          "2019-10-09T04:00:00+00:00",
          "2019-10-10T04:00:00+00:00",
          "2019-10-11T04:00:00+00:00",
          "2019-10-14T04:00:00+00:00",
          "2019-10-15T04:00:00+00:00",
          "2019-10-16T04:00:00+00:00",
          "2019-10-17T04:00:00+00:00",
          "2019-10-18T04:00:00+00:00",
          "2019-10-21T04:00:00+00:00",
          "2019-10-22T04:00:00+00:00",
          "2019-10-23T04:00:00+00:00",
          "2019-10-24T04:00:00+00:00",
          "2019-10-25T04:00:00+00:00",
          "2019-10-28T04:00:00+00:00",
          "2019-10-29T04:00:00+00:00",
          "2019-10-30T04:00:00+00:00",
          "2019-10-31T04:00:00+00:00",
          "2019-11-01T04:00:00+00:00",
          "2019-11-04T05:00:00+00:00",
          "2019-11-05T05:00:00+00:00",
          "2019-11-06T05:00:00+00:00",
          "2019-11-07T05:00:00+00:00",
          "2019-11-08T05:00:00+00:00",
          "2019-11-11T05:00:00+00:00",
          "2019-11-12T05:00:00+00:00",
          "2019-11-13T05:00:00+00:00",
          "2019-11-14T05:00:00+00:00",
          "2019-11-15T05:00:00+00:00",
          "2019-11-18T05:00:00+00:00",
          "2019-11-19T05:00:00+00:00",
          "2019-11-20T05:00:00+00:00",
          "2019-11-21T05:00:00+00:00",
          "2019-11-22T05:00:00+00:00",
          "2019-11-25T05:00:00+00:00",
          "2019-11-26T05:00:00+00:00",
          "2019-11-27T05:00:00+00:00",
          "2019-11-29T05:00:00+00:00",
          "2019-12-02T05:00:00+00:00",
          "2019-12-03T05:00:00+00:00",
          "2019-12-04T05:00:00+00:00",
          "2019-12-05T05:00:00+00:00",
          "2019-12-06T05:00:00+00:00",
          "2019-12-09T05:00:00+00:00",
          "2019-12-10T05:00:00+00:00",
          "2019-12-11T05:00:00+00:00",
          "2019-12-12T05:00:00+00:00",
          "2019-12-13T05:00:00+00:00",
          "2019-12-16T05:00:00+00:00",
          "2019-12-17T05:00:00+00:00",
          "2019-12-18T05:00:00+00:00",
          "2019-12-19T05:00:00+00:00",
          "2019-12-20T05:00:00+00:00",
          "2019-12-23T05:00:00+00:00",
          "2019-12-24T05:00:00+00:00",
          "2019-12-26T05:00:00+00:00",
          "2019-12-27T05:00:00+00:00",
          "2019-12-30T05:00:00+00:00",
          "2019-12-31T05:00:00+00:00",
          "2020-01-02T05:00:00+00:00",
          "2020-01-03T05:00:00+00:00",
          "2020-01-06T05:00:00+00:00",
          "2020-01-07T05:00:00+00:00",
          "2020-01-08T05:00:00+00:00",
          "2020-01-09T05:00:00+00:00"
         ],
         "y": [
          0,
          0,
          null,
          0.011317130263035638,
          -0.006103614144538388,
          0.025588434341464076,
          0.014970105063306316,
          0.015339364197952681,
          0.03621915747241725,
          0.05140195555073731,
          0.011199998821595442,
          0.04975381926109361,
          -0.04136662351653723,
          -0.0015721977393754292,
          -0.01539832722888374,
          -0.009952048609590057,
          -0.014718812701219062,
          0.06212412220098227,
          -0.008919251078876476,
          0.012460839455097626,
          0,
          0,
          0,
          0,
          0,
          0,
          0,
          0,
          0,
          0,
          0,
          0,
          0,
          0,
          0,
          0,
          0,
          0,
          0,
          0,
          0,
          0,
          0,
          0,
          0,
          0,
          -0.15897434172391975,
          -0.013008125460358198,
          0.0030888860142940827,
          0.009581409233891253,
          -0.035279482777212406,
          0.025662921137362186,
          0.04107579368428357,
          0.008211668852076593,
          0.014302780151497146,
          0.0046998652797252535,
          0.0062379691299328495,
          0,
          0,
          0,
          0,
          0,
          0,
          0,
          0,
          0,
          0,
          0,
          0,
          0,
          0,
          0,
          0,
          0,
          -0.044749922454390474,
          -0.016021088873428978,
          -0.013396623540456122,
          -0.006684506375774987,
          0.004836941476346475,
          0.040393343839252596,
          0,
          0,
          0,
          0,
          0,
          0,
          0,
          0.06195942026842665,
          -0.038265018034094225,
          0,
          0,
          0,
          0,
          0,
          0,
          0,
          0,
          0,
          0,
          0,
          0,
          0,
          0,
          0,
          0,
          0,
          0,
          0,
          0,
          0,
          0,
          0,
          0,
          0,
          0,
          0,
          0,
          0,
          0,
          0,
          0,
          0,
          0,
          0,
          0,
          0,
          0,
          0,
          0,
          0,
          0,
          0,
          0,
          0,
          0,
          0,
          0,
          0,
          0,
          0,
          0,
          0,
          0,
          -0.05615735842960062,
          -0.006577455446849109,
          0.008116201845702529,
          -0.0016951304935660981,
          0.014643488458909422,
          0.003137634222536198,
          -0.017514830507143996,
          0,
          0,
          0,
          0,
          0,
          0,
          0,
          0,
          0,
          0,
          0,
          0,
          0,
          0,
          0,
          0,
          0,
          0,
          0,
          0,
          0,
          0,
          0,
          0,
          0,
          0,
          0,
          0,
          0,
          0.11382657340154063,
          0.008876966974748287,
          -0.0053558647956772325,
          0.02346179758444657,
          0.0009391691463749691,
          -0.0026280250341622785,
          -0.0005646054339074857,
          0.02542374463475846,
          -0.021487622414715808,
          0.016704323546947866,
          0.009045264938220183,
          -0.007500952604114053,
          0.004977182166603258,
          0.0016510866069974761,
          0.005859360818124918,
          -0.0005460136760589561,
          0.005828862516362951,
          -0.007062783589826447,
          -0.008936657371754713,
          0.0071769787201787375,
          -0.017906153086940334,
          -0.024744295848193598,
          -0.004005958539473243,
          -0.00038306792311679634,
          0.010346987395702202,
          0
         ]
        }
       ],
       "layout": {
        "legend": {
         "orientation": "h",
         "x": 1,
         "xanchor": "right",
         "y": 1.02,
         "yanchor": "bottom"
        },
        "plot_bgcolor": "white",
        "showlegend": true,
        "template": {
         "data": {
          "bar": [
           {
            "error_x": {
             "color": "#2a3f5f"
            },
            "error_y": {
             "color": "#2a3f5f"
            },
            "marker": {
             "line": {
              "color": "#E5ECF6",
              "width": 0.5
             },
             "pattern": {
              "fillmode": "overlay",
              "size": 10,
              "solidity": 0.2
             }
            },
            "type": "bar"
           }
          ],
          "barpolar": [
           {
            "marker": {
             "line": {
              "color": "#E5ECF6",
              "width": 0.5
             },
             "pattern": {
              "fillmode": "overlay",
              "size": 10,
              "solidity": 0.2
             }
            },
            "type": "barpolar"
           }
          ],
          "carpet": [
           {
            "aaxis": {
             "endlinecolor": "#2a3f5f",
             "gridcolor": "white",
             "linecolor": "white",
             "minorgridcolor": "white",
             "startlinecolor": "#2a3f5f"
            },
            "baxis": {
             "endlinecolor": "#2a3f5f",
             "gridcolor": "white",
             "linecolor": "white",
             "minorgridcolor": "white",
             "startlinecolor": "#2a3f5f"
            },
            "type": "carpet"
           }
          ],
          "choropleth": [
           {
            "colorbar": {
             "outlinewidth": 0,
             "ticks": ""
            },
            "type": "choropleth"
           }
          ],
          "contour": [
           {
            "colorbar": {
             "outlinewidth": 0,
             "ticks": ""
            },
            "colorscale": [
             [
              0,
              "#0d0887"
             ],
             [
              0.1111111111111111,
              "#46039f"
             ],
             [
              0.2222222222222222,
              "#7201a8"
             ],
             [
              0.3333333333333333,
              "#9c179e"
             ],
             [
              0.4444444444444444,
              "#bd3786"
             ],
             [
              0.5555555555555556,
              "#d8576b"
             ],
             [
              0.6666666666666666,
              "#ed7953"
             ],
             [
              0.7777777777777778,
              "#fb9f3a"
             ],
             [
              0.8888888888888888,
              "#fdca26"
             ],
             [
              1,
              "#f0f921"
             ]
            ],
            "type": "contour"
           }
          ],
          "contourcarpet": [
           {
            "colorbar": {
             "outlinewidth": 0,
             "ticks": ""
            },
            "type": "contourcarpet"
           }
          ],
          "heatmap": [
           {
            "colorbar": {
             "outlinewidth": 0,
             "ticks": ""
            },
            "colorscale": [
             [
              0,
              "#0d0887"
             ],
             [
              0.1111111111111111,
              "#46039f"
             ],
             [
              0.2222222222222222,
              "#7201a8"
             ],
             [
              0.3333333333333333,
              "#9c179e"
             ],
             [
              0.4444444444444444,
              "#bd3786"
             ],
             [
              0.5555555555555556,
              "#d8576b"
             ],
             [
              0.6666666666666666,
              "#ed7953"
             ],
             [
              0.7777777777777778,
              "#fb9f3a"
             ],
             [
              0.8888888888888888,
              "#fdca26"
             ],
             [
              1,
              "#f0f921"
             ]
            ],
            "type": "heatmap"
           }
          ],
          "heatmapgl": [
           {
            "colorbar": {
             "outlinewidth": 0,
             "ticks": ""
            },
            "colorscale": [
             [
              0,
              "#0d0887"
             ],
             [
              0.1111111111111111,
              "#46039f"
             ],
             [
              0.2222222222222222,
              "#7201a8"
             ],
             [
              0.3333333333333333,
              "#9c179e"
             ],
             [
              0.4444444444444444,
              "#bd3786"
             ],
             [
              0.5555555555555556,
              "#d8576b"
             ],
             [
              0.6666666666666666,
              "#ed7953"
             ],
             [
              0.7777777777777778,
              "#fb9f3a"
             ],
             [
              0.8888888888888888,
              "#fdca26"
             ],
             [
              1,
              "#f0f921"
             ]
            ],
            "type": "heatmapgl"
           }
          ],
          "histogram": [
           {
            "marker": {
             "pattern": {
              "fillmode": "overlay",
              "size": 10,
              "solidity": 0.2
             }
            },
            "type": "histogram"
           }
          ],
          "histogram2d": [
           {
            "colorbar": {
             "outlinewidth": 0,
             "ticks": ""
            },
            "colorscale": [
             [
              0,
              "#0d0887"
             ],
             [
              0.1111111111111111,
              "#46039f"
             ],
             [
              0.2222222222222222,
              "#7201a8"
             ],
             [
              0.3333333333333333,
              "#9c179e"
             ],
             [
              0.4444444444444444,
              "#bd3786"
             ],
             [
              0.5555555555555556,
              "#d8576b"
             ],
             [
              0.6666666666666666,
              "#ed7953"
             ],
             [
              0.7777777777777778,
              "#fb9f3a"
             ],
             [
              0.8888888888888888,
              "#fdca26"
             ],
             [
              1,
              "#f0f921"
             ]
            ],
            "type": "histogram2d"
           }
          ],
          "histogram2dcontour": [
           {
            "colorbar": {
             "outlinewidth": 0,
             "ticks": ""
            },
            "colorscale": [
             [
              0,
              "#0d0887"
             ],
             [
              0.1111111111111111,
              "#46039f"
             ],
             [
              0.2222222222222222,
              "#7201a8"
             ],
             [
              0.3333333333333333,
              "#9c179e"
             ],
             [
              0.4444444444444444,
              "#bd3786"
             ],
             [
              0.5555555555555556,
              "#d8576b"
             ],
             [
              0.6666666666666666,
              "#ed7953"
             ],
             [
              0.7777777777777778,
              "#fb9f3a"
             ],
             [
              0.8888888888888888,
              "#fdca26"
             ],
             [
              1,
              "#f0f921"
             ]
            ],
            "type": "histogram2dcontour"
           }
          ],
          "mesh3d": [
           {
            "colorbar": {
             "outlinewidth": 0,
             "ticks": ""
            },
            "type": "mesh3d"
           }
          ],
          "parcoords": [
           {
            "line": {
             "colorbar": {
              "outlinewidth": 0,
              "ticks": ""
             }
            },
            "type": "parcoords"
           }
          ],
          "pie": [
           {
            "automargin": true,
            "type": "pie"
           }
          ],
          "scatter": [
           {
            "fillpattern": {
             "fillmode": "overlay",
             "size": 10,
             "solidity": 0.2
            },
            "type": "scatter"
           }
          ],
          "scatter3d": [
           {
            "line": {
             "colorbar": {
              "outlinewidth": 0,
              "ticks": ""
             }
            },
            "marker": {
             "colorbar": {
              "outlinewidth": 0,
              "ticks": ""
             }
            },
            "type": "scatter3d"
           }
          ],
          "scattercarpet": [
           {
            "marker": {
             "colorbar": {
              "outlinewidth": 0,
              "ticks": ""
             }
            },
            "type": "scattercarpet"
           }
          ],
          "scattergeo": [
           {
            "marker": {
             "colorbar": {
              "outlinewidth": 0,
              "ticks": ""
             }
            },
            "type": "scattergeo"
           }
          ],
          "scattergl": [
           {
            "marker": {
             "colorbar": {
              "outlinewidth": 0,
              "ticks": ""
             }
            },
            "type": "scattergl"
           }
          ],
          "scattermapbox": [
           {
            "marker": {
             "colorbar": {
              "outlinewidth": 0,
              "ticks": ""
             }
            },
            "type": "scattermapbox"
           }
          ],
          "scatterpolar": [
           {
            "marker": {
             "colorbar": {
              "outlinewidth": 0,
              "ticks": ""
             }
            },
            "type": "scatterpolar"
           }
          ],
          "scatterpolargl": [
           {
            "marker": {
             "colorbar": {
              "outlinewidth": 0,
              "ticks": ""
             }
            },
            "type": "scatterpolargl"
           }
          ],
          "scatterternary": [
           {
            "marker": {
             "colorbar": {
              "outlinewidth": 0,
              "ticks": ""
             }
            },
            "type": "scatterternary"
           }
          ],
          "surface": [
           {
            "colorbar": {
             "outlinewidth": 0,
             "ticks": ""
            },
            "colorscale": [
             [
              0,
              "#0d0887"
             ],
             [
              0.1111111111111111,
              "#46039f"
             ],
             [
              0.2222222222222222,
              "#7201a8"
             ],
             [
              0.3333333333333333,
              "#9c179e"
             ],
             [
              0.4444444444444444,
              "#bd3786"
             ],
             [
              0.5555555555555556,
              "#d8576b"
             ],
             [
              0.6666666666666666,
              "#ed7953"
             ],
             [
              0.7777777777777778,
              "#fb9f3a"
             ],
             [
              0.8888888888888888,
              "#fdca26"
             ],
             [
              1,
              "#f0f921"
             ]
            ],
            "type": "surface"
           }
          ],
          "table": [
           {
            "cells": {
             "fill": {
              "color": "#EBF0F8"
             },
             "line": {
              "color": "white"
             }
            },
            "header": {
             "fill": {
              "color": "#C8D4E3"
             },
             "line": {
              "color": "white"
             }
            },
            "type": "table"
           }
          ]
         },
         "layout": {
          "annotationdefaults": {
           "arrowcolor": "#2a3f5f",
           "arrowhead": 0,
           "arrowwidth": 1
          },
          "autotypenumbers": "strict",
          "coloraxis": {
           "colorbar": {
            "outlinewidth": 0,
            "ticks": ""
           }
          },
          "colorscale": {
           "diverging": [
            [
             0,
             "#8e0152"
            ],
            [
             0.1,
             "#c51b7d"
            ],
            [
             0.2,
             "#de77ae"
            ],
            [
             0.3,
             "#f1b6da"
            ],
            [
             0.4,
             "#fde0ef"
            ],
            [
             0.5,
             "#f7f7f7"
            ],
            [
             0.6,
             "#e6f5d0"
            ],
            [
             0.7,
             "#b8e186"
            ],
            [
             0.8,
             "#7fbc41"
            ],
            [
             0.9,
             "#4d9221"
            ],
            [
             1,
             "#276419"
            ]
           ],
           "sequential": [
            [
             0,
             "#0d0887"
            ],
            [
             0.1111111111111111,
             "#46039f"
            ],
            [
             0.2222222222222222,
             "#7201a8"
            ],
            [
             0.3333333333333333,
             "#9c179e"
            ],
            [
             0.4444444444444444,
             "#bd3786"
            ],
            [
             0.5555555555555556,
             "#d8576b"
            ],
            [
             0.6666666666666666,
             "#ed7953"
            ],
            [
             0.7777777777777778,
             "#fb9f3a"
            ],
            [
             0.8888888888888888,
             "#fdca26"
            ],
            [
             1,
             "#f0f921"
            ]
           ],
           "sequentialminus": [
            [
             0,
             "#0d0887"
            ],
            [
             0.1111111111111111,
             "#46039f"
            ],
            [
             0.2222222222222222,
             "#7201a8"
            ],
            [
             0.3333333333333333,
             "#9c179e"
            ],
            [
             0.4444444444444444,
             "#bd3786"
            ],
            [
             0.5555555555555556,
             "#d8576b"
            ],
            [
             0.6666666666666666,
             "#ed7953"
            ],
            [
             0.7777777777777778,
             "#fb9f3a"
            ],
            [
             0.8888888888888888,
             "#fdca26"
            ],
            [
             1,
             "#f0f921"
            ]
           ]
          },
          "colorway": [
           "#636efa",
           "#EF553B",
           "#00cc96",
           "#ab63fa",
           "#FFA15A",
           "#19d3f3",
           "#FF6692",
           "#B6E880",
           "#FF97FF",
           "#FECB52"
          ],
          "font": {
           "color": "#2a3f5f"
          },
          "geo": {
           "bgcolor": "white",
           "lakecolor": "white",
           "landcolor": "#E5ECF6",
           "showlakes": true,
           "showland": true,
           "subunitcolor": "white"
          },
          "hoverlabel": {
           "align": "left"
          },
          "hovermode": "closest",
          "mapbox": {
           "style": "light"
          },
          "paper_bgcolor": "white",
          "plot_bgcolor": "#E5ECF6",
          "polar": {
           "angularaxis": {
            "gridcolor": "white",
            "linecolor": "white",
            "ticks": ""
           },
           "bgcolor": "#E5ECF6",
           "radialaxis": {
            "gridcolor": "white",
            "linecolor": "white",
            "ticks": ""
           }
          },
          "scene": {
           "xaxis": {
            "backgroundcolor": "#E5ECF6",
            "gridcolor": "white",
            "gridwidth": 2,
            "linecolor": "white",
            "showbackground": true,
            "ticks": "",
            "zerolinecolor": "white"
           },
           "yaxis": {
            "backgroundcolor": "#E5ECF6",
            "gridcolor": "white",
            "gridwidth": 2,
            "linecolor": "white",
            "showbackground": true,
            "ticks": "",
            "zerolinecolor": "white"
           },
           "zaxis": {
            "backgroundcolor": "#E5ECF6",
            "gridcolor": "white",
            "gridwidth": 2,
            "linecolor": "white",
            "showbackground": true,
            "ticks": "",
            "zerolinecolor": "white"
           }
          },
          "shapedefaults": {
           "line": {
            "color": "#2a3f5f"
           }
          },
          "ternary": {
           "aaxis": {
            "gridcolor": "white",
            "linecolor": "white",
            "ticks": ""
           },
           "baxis": {
            "gridcolor": "white",
            "linecolor": "white",
            "ticks": ""
           },
           "bgcolor": "#E5ECF6",
           "caxis": {
            "gridcolor": "white",
            "linecolor": "white",
            "ticks": ""
           }
          },
          "title": {
           "x": 0.05
          },
          "xaxis": {
           "automargin": true,
           "gridcolor": "white",
           "linecolor": "white",
           "ticks": "",
           "title": {
            "standoff": 15
           },
           "zerolinecolor": "white",
           "zerolinewidth": 2
          },
          "yaxis": {
           "automargin": true,
           "gridcolor": "white",
           "linecolor": "white",
           "ticks": "",
           "title": {
            "standoff": 15
           },
           "zerolinecolor": "white",
           "zerolinewidth": 2
          }
         }
        },
        "title": {
         "text": "Variação percentual do capital"
        },
        "xaxis": {
         "tickangle": -45,
         "title": {
          "text": "Data"
         }
        },
        "yaxis": {
         "gridcolor": "lightgrey",
         "showgrid": true,
         "title": {
          "text": "[Percentual]"
         }
        }
       }
      }
     },
     "metadata": {},
     "output_type": "display_data"
    }
   ],
   "source": [
    "fig = go.Figure()\n",
    "\n",
    "fig.add_trace(go.Scatter(x=noticias_precificadas['Date'], \n",
    "                         y=noticias_precificadas['Close_pct'], \n",
    "                         mode='lines', \n",
    "                         name='Buy and hold',\n",
    "                         line=dict(color='black', width=1.4)))  # Ajuste da largura da linha\n",
    "\n",
    "fig.add_trace(go.Scatter(x=noticias_precificadas['Date'], \n",
    "                         y=noticias_precificadas['ganho'], \n",
    "                         mode='lines', \n",
    "                         name='Estratégia',\n",
    "                         line=dict(color='blue', width=1.4)))  # Ajuste da cor e largura da linha\n",
    "\n",
    "fig.update_layout(\n",
    "    title='Estratégia x Variação de mercado',\n",
    "    xaxis=dict(title='', showspikes=True),  \n",
    "    yaxis=dict(title='[Percentual]', gridcolor='lightgrey', tickfont=dict(size=12)),\n",
    "    hovermode='x',\n",
    "    plot_bgcolor='white',\n",
    "    paper_bgcolor='white',\n",
    "    legend=dict(orientation=\"h\", yanchor=\"bottom\", y=1.02, xanchor=\"right\", x=1),\n",
    ")\n",
    "\n",
    "# Adicionar linha vertical para exibir os valores da data selecionada\n",
    "fig.update_layout(\n",
    "    xaxis=dict(\n",
    "        showspikes=True,\n",
    "        spikemode='across',\n",
    "        spikesnap='cursor',\n",
    "        spikethickness=1,\n",
    "        spikedash='solid',\n",
    "        spikecolor='black'\n",
    "    )\n",
    ")\n",
    "\n",
    "\n",
    "\n",
    "colors = {1: 'green', -1: 'red'}\n",
    "\n",
    "fig2 = go.Figure()\n",
    "\n",
    "# Adicionando a linha de teste_1\n",
    "fig2.add_trace(go.Scatter(x=noticias_precificadas['Date'], \n",
    "                         y=noticias_precificadas['teste_1'], \n",
    "                         mode='lines',\n",
    "                         line=dict(color='black', width=1.2),  # Linha preta com largura de 1\n",
    "                         name='Sentimento da notícia'))\n",
    "\n",
    "for val in [-1, 0, 1]:\n",
    "    subset = noticias_precificadas[noticias_precificadas['sentimento_grafico'] == val]\n",
    "    fig2.add_trace(go.Scatter(x=subset['Date'], \n",
    "                             y=subset['sentimento_grafico'], \n",
    "                             mode='markers',\n",
    "                             marker=dict(color=colors.get(val, 'black'), size=5),\n",
    "                             showlegend=False))\n",
    "\n",
    "# Adicionando a legenda explicativa\n",
    "fig2.add_trace(go.Scatter(x=[None], y=[None], mode='markers', marker=dict(color='green', size=6), showlegend=True, name='Notícia Positiva'))\n",
    "fig2.add_trace(go.Scatter(x=[None], y=[None], mode='markers', marker=dict(color='red', size=6), showlegend=True, name='Notícia Negativa'))\n",
    "\n",
    "fig2.update_layout(title='Sentimento das notícias ao longo do tempo',\n",
    "                   xaxis_title='Data',\n",
    "                   yaxis_title='Sentimento da notícia', \n",
    "                   xaxis=dict(tickangle=-45, showgrid=False),  # Removendo o grid do eixo x\n",
    "                   yaxis=dict(\n",
    "                       tickmode='linear',  # Define o modo de tick como linear\n",
    "                       showgrid=True),  # Removendo o grid do eixo y\n",
    "                   showlegend=True,\n",
    "                   plot_bgcolor='white',  # Fundo branco\n",
    "                   paper_bgcolor='white',\n",
    "                   legend=dict(orientation=\"h\", yanchor=\"bottom\", y=1.02, xanchor=\"right\", x=1))  # Fundo do papel branco\n",
    "\n",
    "\n",
    "\n",
    "fig3 = go.Figure()\n",
    "\n",
    "fig3.add_trace(go.Scatter(x=noticias_precificadas['Date'], \n",
    "                         y=noticias_precificadas['capital'], \n",
    "                         mode='lines',\n",
    "                         name='Capital ',\n",
    "                         line=dict(color='black',width=1.4)))\n",
    "\n",
    "fig3.update_layout(title='Variação percentual do capital',\n",
    "                   xaxis_title='Data',\n",
    "                   yaxis_title='[Percentual]',\n",
    "                   xaxis=dict(tickangle=-45),\n",
    "                   yaxis=dict(showgrid=True, gridcolor='lightgrey'),\n",
    "                   showlegend=True,\n",
    "                   plot_bgcolor='white',\n",
    "                   legend=dict(orientation=\"h\", yanchor=\"bottom\", y=1.02, xanchor=\"right\", x=1))\n",
    "\n",
    "fig.show()\n",
    "\n",
    "fig2.show()\n",
    "\n",
    "fig3.show()"
   ]
  },
  {
   "cell_type": "markdown",
   "metadata": {},
   "source": [
    "#### Backtesting"
   ]
  },
  {
   "cell_type": "code",
   "execution_count": 13,
   "metadata": {},
   "outputs": [
    {
     "name": "stdout",
     "output_type": "stream",
     "text": [
      "<class 'pandas.core.frame.DataFrame'>\n",
      "DatetimeIndex: 205 entries, 2019-03-20 04:00:00+00:00 to 2020-01-09 05:00:00+00:00\n",
      "Data columns (total 17 columns):\n",
      " #   Column              Non-Null Count  Dtype              \n",
      "---  ------              --------------  -----              \n",
      " 0   Open                205 non-null    float64            \n",
      " 1   High                205 non-null    float64            \n",
      " 2   Low                 205 non-null    float64            \n",
      " 3   Close               205 non-null    float64            \n",
      " 4   Volume              205 non-null    int64              \n",
      " 5   Dividends           205 non-null    float64            \n",
      " 6   Stock Splits        205 non-null    float64            \n",
      " 7   ticker              205 non-null    object             \n",
      " 8   Close_pct           205 non-null    float64            \n",
      " 9   datetime            38 non-null     datetime64[ns, UTC]\n",
      " 10  headline_same_day   38 non-null     object             \n",
      " 11  sentiment_same_day  205 non-null    int32              \n",
      " 12  sentimento_grafico  205 non-null    object             \n",
      " 13  teste_1             205 non-null    int64              \n",
      " 14  capital             204 non-null    float64            \n",
      " 15  retorno_composto    205 non-null    float64            \n",
      " 16  ganho               205 non-null    float64            \n",
      "dtypes: datetime64[ns, UTC](1), float64(10), int32(1), int64(2), object(3)\n",
      "memory usage: 28.0+ KB\n"
     ]
    }
   ],
   "source": [
    "valores = noticias_precificadas\n",
    "# Definir a coluna 'Date' como o índice do DataFrame\n",
    "valores.set_index('Date', inplace=True)\n",
    "valores.head()\n",
    "valores.info()"
   ]
  },
  {
   "cell_type": "code",
   "execution_count": 14,
   "metadata": {},
   "outputs": [
    {
     "data": {
      "text/html": [
       "<div>\n",
       "<style scoped>\n",
       "    .dataframe tbody tr th:only-of-type {\n",
       "        vertical-align: middle;\n",
       "    }\n",
       "\n",
       "    .dataframe tbody tr th {\n",
       "        vertical-align: top;\n",
       "    }\n",
       "\n",
       "    .dataframe thead th {\n",
       "        text-align: right;\n",
       "    }\n",
       "</style>\n",
       "<table border=\"1\" class=\"dataframe\">\n",
       "  <thead>\n",
       "    <tr style=\"text-align: right;\">\n",
       "      <th></th>\n",
       "      <th>Open</th>\n",
       "      <th>High</th>\n",
       "      <th>Low</th>\n",
       "      <th>Close</th>\n",
       "      <th>Volume</th>\n",
       "      <th>Dividends</th>\n",
       "      <th>Stock Splits</th>\n",
       "      <th>ticker</th>\n",
       "      <th>Close_pct</th>\n",
       "      <th>datetime</th>\n",
       "      <th>headline_same_day</th>\n",
       "      <th>sentiment_same_day</th>\n",
       "      <th>sentimento_grafico</th>\n",
       "      <th>teste_1</th>\n",
       "      <th>capital</th>\n",
       "      <th>retorno_composto</th>\n",
       "      <th>ganho</th>\n",
       "      <th>signals</th>\n",
       "    </tr>\n",
       "    <tr>\n",
       "      <th>Date</th>\n",
       "      <th></th>\n",
       "      <th></th>\n",
       "      <th></th>\n",
       "      <th></th>\n",
       "      <th></th>\n",
       "      <th></th>\n",
       "      <th></th>\n",
       "      <th></th>\n",
       "      <th></th>\n",
       "      <th></th>\n",
       "      <th></th>\n",
       "      <th></th>\n",
       "      <th></th>\n",
       "      <th></th>\n",
       "      <th></th>\n",
       "      <th></th>\n",
       "      <th></th>\n",
       "      <th></th>\n",
       "    </tr>\n",
       "  </thead>\n",
       "  <tbody>\n",
       "    <tr>\n",
       "      <th>2019-03-20 04:00:00+00:00</th>\n",
       "      <td>38.857560</td>\n",
       "      <td>39.410037</td>\n",
       "      <td>36.463492</td>\n",
       "      <td>36.684483</td>\n",
       "      <td>2350800</td>\n",
       "      <td>0.0</td>\n",
       "      <td>0.0</td>\n",
       "      <td>DOW</td>\n",
       "      <td>1.000000</td>\n",
       "      <td>NaT</td>\n",
       "      <td>NaN</td>\n",
       "      <td>0</td>\n",
       "      <td></td>\n",
       "      <td>0</td>\n",
       "      <td>0.000000</td>\n",
       "      <td>0.000000</td>\n",
       "      <td>1.000000</td>\n",
       "      <td>0</td>\n",
       "    </tr>\n",
       "    <tr>\n",
       "      <th>2019-03-21 04:00:00+00:00</th>\n",
       "      <td>36.824449</td>\n",
       "      <td>36.831814</td>\n",
       "      <td>35.505869</td>\n",
       "      <td>36.080444</td>\n",
       "      <td>1764700</td>\n",
       "      <td>0.0</td>\n",
       "      <td>0.0</td>\n",
       "      <td>DOW</td>\n",
       "      <td>0.983534</td>\n",
       "      <td>NaT</td>\n",
       "      <td>NaN</td>\n",
       "      <td>0</td>\n",
       "      <td></td>\n",
       "      <td>0</td>\n",
       "      <td>0.000000</td>\n",
       "      <td>0.000000</td>\n",
       "      <td>1.000000</td>\n",
       "      <td>0</td>\n",
       "    </tr>\n",
       "    <tr>\n",
       "      <th>2019-03-22 04:00:00+00:00</th>\n",
       "      <td>35.947834</td>\n",
       "      <td>36.794967</td>\n",
       "      <td>35.476388</td>\n",
       "      <td>35.800507</td>\n",
       "      <td>844700</td>\n",
       "      <td>0.0</td>\n",
       "      <td>0.0</td>\n",
       "      <td>DOW</td>\n",
       "      <td>0.975903</td>\n",
       "      <td>2019-03-21 12:17:00+00:00</td>\n",
       "      <td>$SPY Understanding, where we stand is key, har...</td>\n",
       "      <td>1</td>\n",
       "      <td>1</td>\n",
       "      <td>1</td>\n",
       "      <td>NaN</td>\n",
       "      <td>0.000000</td>\n",
       "      <td>1.000000</td>\n",
       "      <td>1</td>\n",
       "    </tr>\n",
       "    <tr>\n",
       "      <th>2019-03-25 04:00:00+00:00</th>\n",
       "      <td>35.800513</td>\n",
       "      <td>36.389825</td>\n",
       "      <td>35.358533</td>\n",
       "      <td>36.205666</td>\n",
       "      <td>440900</td>\n",
       "      <td>0.0</td>\n",
       "      <td>0.0</td>\n",
       "      <td>DOW</td>\n",
       "      <td>0.986948</td>\n",
       "      <td>NaT</td>\n",
       "      <td>NaN</td>\n",
       "      <td>0</td>\n",
       "      <td></td>\n",
       "      <td>1</td>\n",
       "      <td>0.011317</td>\n",
       "      <td>0.011317</td>\n",
       "      <td>1.011317</td>\n",
       "      <td>0</td>\n",
       "    </tr>\n",
       "    <tr>\n",
       "      <th>2019-03-26 04:00:00+00:00</th>\n",
       "      <td>36.095177</td>\n",
       "      <td>36.647654</td>\n",
       "      <td>35.491135</td>\n",
       "      <td>35.984680</td>\n",
       "      <td>504700</td>\n",
       "      <td>0.0</td>\n",
       "      <td>0.0</td>\n",
       "      <td>DOW</td>\n",
       "      <td>0.980924</td>\n",
       "      <td>NaT</td>\n",
       "      <td>NaN</td>\n",
       "      <td>0</td>\n",
       "      <td></td>\n",
       "      <td>1</td>\n",
       "      <td>-0.006104</td>\n",
       "      <td>0.005144</td>\n",
       "      <td>1.005144</td>\n",
       "      <td>0</td>\n",
       "    </tr>\n",
       "  </tbody>\n",
       "</table>\n",
       "</div>"
      ],
      "text/plain": [
       "                                Open       High        Low      Close  \\\n",
       "Date                                                                    \n",
       "2019-03-20 04:00:00+00:00  38.857560  39.410037  36.463492  36.684483   \n",
       "2019-03-21 04:00:00+00:00  36.824449  36.831814  35.505869  36.080444   \n",
       "2019-03-22 04:00:00+00:00  35.947834  36.794967  35.476388  35.800507   \n",
       "2019-03-25 04:00:00+00:00  35.800513  36.389825  35.358533  36.205666   \n",
       "2019-03-26 04:00:00+00:00  36.095177  36.647654  35.491135  35.984680   \n",
       "\n",
       "                            Volume  Dividends  Stock Splits ticker  Close_pct  \\\n",
       "Date                                                                            \n",
       "2019-03-20 04:00:00+00:00  2350800        0.0           0.0    DOW   1.000000   \n",
       "2019-03-21 04:00:00+00:00  1764700        0.0           0.0    DOW   0.983534   \n",
       "2019-03-22 04:00:00+00:00   844700        0.0           0.0    DOW   0.975903   \n",
       "2019-03-25 04:00:00+00:00   440900        0.0           0.0    DOW   0.986948   \n",
       "2019-03-26 04:00:00+00:00   504700        0.0           0.0    DOW   0.980924   \n",
       "\n",
       "                                           datetime  \\\n",
       "Date                                                  \n",
       "2019-03-20 04:00:00+00:00                       NaT   \n",
       "2019-03-21 04:00:00+00:00                       NaT   \n",
       "2019-03-22 04:00:00+00:00 2019-03-21 12:17:00+00:00   \n",
       "2019-03-25 04:00:00+00:00                       NaT   \n",
       "2019-03-26 04:00:00+00:00                       NaT   \n",
       "\n",
       "                                                           headline_same_day  \\\n",
       "Date                                                                           \n",
       "2019-03-20 04:00:00+00:00                                                NaN   \n",
       "2019-03-21 04:00:00+00:00                                                NaN   \n",
       "2019-03-22 04:00:00+00:00  $SPY Understanding, where we stand is key, har...   \n",
       "2019-03-25 04:00:00+00:00                                                NaN   \n",
       "2019-03-26 04:00:00+00:00                                                NaN   \n",
       "\n",
       "                           sentiment_same_day sentimento_grafico  teste_1  \\\n",
       "Date                                                                        \n",
       "2019-03-20 04:00:00+00:00                   0                           0   \n",
       "2019-03-21 04:00:00+00:00                   0                           0   \n",
       "2019-03-22 04:00:00+00:00                   1                  1        1   \n",
       "2019-03-25 04:00:00+00:00                   0                           1   \n",
       "2019-03-26 04:00:00+00:00                   0                           1   \n",
       "\n",
       "                            capital  retorno_composto     ganho  signals  \n",
       "Date                                                                      \n",
       "2019-03-20 04:00:00+00:00  0.000000          0.000000  1.000000        0  \n",
       "2019-03-21 04:00:00+00:00  0.000000          0.000000  1.000000        0  \n",
       "2019-03-22 04:00:00+00:00       NaN          0.000000  1.000000        1  \n",
       "2019-03-25 04:00:00+00:00  0.011317          0.011317  1.011317        0  \n",
       "2019-03-26 04:00:00+00:00 -0.006104          0.005144  1.005144        0  "
      ]
     },
     "execution_count": 14,
     "metadata": {},
     "output_type": "execute_result"
    }
   ],
   "source": [
    "# Criar array de sinais\n",
    "signals = np.where(valores['sentiment_same_day'] == 1, 1, np.where(valores['teste_1'] == -1, -1, 0))\n",
    "\n",
    "# Inserir o array de sinais no DataFrame\n",
    "valores['signals'] = signals\n",
    "valores.head()"
   ]
  },
  {
   "cell_type": "markdown",
   "metadata": {},
   "source": [
    "#### Utilização da biblioteca VectorBt para obtenção do backtest do sistema criado"
   ]
  },
  {
   "cell_type": "code",
   "execution_count": 15,
   "metadata": {},
   "outputs": [
    {
     "name": "stdout",
     "output_type": "stream",
     "text": [
      "Start                         2019-03-20 04:00:00+00:00\n",
      "End                           2020-01-09 05:00:00+00:00\n",
      "Period                                205 days 00:00:00\n",
      "Start Value                                       100.0\n",
      "End Value                                    123.800038\n",
      "Total Return [%]                              23.800038\n",
      "Benchmark Return [%]                           9.491155\n",
      "Max Gross Exposure [%]                            100.0\n",
      "Total Fees Paid                                     0.0\n",
      "Max Drawdown [%]                               8.072341\n",
      "Max Drawdown Duration                 117 days 00:00:00\n",
      "Total Trades                                          6\n",
      "Total Closed Trades                                   6\n",
      "Total Open Trades                                     0\n",
      "Open Trade PnL                                      0.0\n",
      "Win Rate [%]                                  66.666667\n",
      "Best Trade [%]                                20.000047\n",
      "Worst Trade [%]                               -6.971011\n",
      "Avg Winning Trade [%]                          7.828479\n",
      "Avg Losing Trade [%]                          -3.814378\n",
      "Avg Winning Trade Duration             15 days 00:00:00\n",
      "Avg Losing Trade Duration               4 days 12:00:00\n",
      "Profit Factor                                  3.359736\n",
      "Expectancy                                     3.966673\n",
      "Sharpe Ratio                                   1.815172\n",
      "Calmar Ratio                                   5.729121\n",
      "Omega Ratio                                    1.568431\n",
      "Sortino Ratio                                  3.206415\n",
      "dtype: object\n"
     ]
    }
   ],
   "source": [
    "# Criar um objeto de portfólio\n",
    "portfolio = vbt.Portfolio.from_signals(\n",
    "    close=valores['Close'],  # Preço de fechamento\n",
    "    entries=valores['signals'] == 1,  # Sinais de entrada\n",
    "    exits=valores['signals'] == -1,   # Sinais de saída\n",
    "    freq='D',\n",
    ")\n",
    "\n",
    "\n",
    "# Calcular estatísticas do backtest\n",
    "stats = portfolio.stats()\n",
    "\n",
    "# Imprimir as estatísticas\n",
    "print(stats)"
   ]
  },
  {
   "cell_type": "code",
   "execution_count": 16,
   "metadata": {},
   "outputs": [
    {
     "data": {
      "application/vnd.plotly.v1+json": {
       "config": {
        "plotlyServerURL": "https://plot.ly"
       },
       "data": [
        {
         "legendgroup": "0",
         "line": {
          "color": "#1f77b4"
         },
         "name": "Close",
         "showlegend": true,
         "type": "scatter",
         "uid": "33478555-2803-4e99-adfb-4b40ea6a654a",
         "x": [
          "2019-03-20T04:00:00+00:00",
          "2019-03-21T04:00:00+00:00",
          "2019-03-22T04:00:00+00:00",
          "2019-03-25T04:00:00+00:00",
          "2019-03-26T04:00:00+00:00",
          "2019-03-27T04:00:00+00:00",
          "2019-03-28T04:00:00+00:00",
          "2019-03-29T04:00:00+00:00",
          "2019-04-01T04:00:00+00:00",
          "2019-04-02T04:00:00+00:00",
          "2019-04-03T04:00:00+00:00",
          "2019-04-04T04:00:00+00:00",
          "2019-04-05T04:00:00+00:00",
          "2019-04-08T04:00:00+00:00",
          "2019-04-09T04:00:00+00:00",
          "2019-04-10T04:00:00+00:00",
          "2019-04-11T04:00:00+00:00",
          "2019-04-12T04:00:00+00:00",
          "2019-04-15T04:00:00+00:00",
          "2019-04-16T04:00:00+00:00",
          "2019-04-17T04:00:00+00:00",
          "2019-04-18T04:00:00+00:00",
          "2019-04-22T04:00:00+00:00",
          "2019-04-23T04:00:00+00:00",
          "2019-04-24T04:00:00+00:00",
          "2019-04-25T04:00:00+00:00",
          "2019-04-26T04:00:00+00:00",
          "2019-04-29T04:00:00+00:00",
          "2019-04-30T04:00:00+00:00",
          "2019-05-01T04:00:00+00:00",
          "2019-05-02T04:00:00+00:00",
          "2019-05-03T04:00:00+00:00",
          "2019-05-06T04:00:00+00:00",
          "2019-05-07T04:00:00+00:00",
          "2019-05-08T04:00:00+00:00",
          "2019-05-09T04:00:00+00:00",
          "2019-05-10T04:00:00+00:00",
          "2019-05-13T04:00:00+00:00",
          "2019-05-14T04:00:00+00:00",
          "2019-05-15T04:00:00+00:00",
          "2019-05-16T04:00:00+00:00",
          "2019-05-17T04:00:00+00:00",
          "2019-05-20T04:00:00+00:00",
          "2019-05-21T04:00:00+00:00",
          "2019-05-22T04:00:00+00:00",
          "2019-05-23T04:00:00+00:00",
          "2019-05-24T04:00:00+00:00",
          "2019-05-28T04:00:00+00:00",
          "2019-05-29T04:00:00+00:00",
          "2019-05-30T04:00:00+00:00",
          "2019-05-31T04:00:00+00:00",
          "2019-06-03T04:00:00+00:00",
          "2019-06-04T04:00:00+00:00",
          "2019-06-05T04:00:00+00:00",
          "2019-06-06T04:00:00+00:00",
          "2019-06-07T04:00:00+00:00",
          "2019-06-10T04:00:00+00:00",
          "2019-06-11T04:00:00+00:00",
          "2019-06-12T04:00:00+00:00",
          "2019-06-13T04:00:00+00:00",
          "2019-06-14T04:00:00+00:00",
          "2019-06-17T04:00:00+00:00",
          "2019-06-18T04:00:00+00:00",
          "2019-06-19T04:00:00+00:00",
          "2019-06-20T04:00:00+00:00",
          "2019-06-21T04:00:00+00:00",
          "2019-06-24T04:00:00+00:00",
          "2019-06-25T04:00:00+00:00",
          "2019-06-26T04:00:00+00:00",
          "2019-06-27T04:00:00+00:00",
          "2019-06-28T04:00:00+00:00",
          "2019-07-01T04:00:00+00:00",
          "2019-07-02T04:00:00+00:00",
          "2019-07-03T04:00:00+00:00",
          "2019-07-05T04:00:00+00:00",
          "2019-07-08T04:00:00+00:00",
          "2019-07-09T04:00:00+00:00",
          "2019-07-10T04:00:00+00:00",
          "2019-07-11T04:00:00+00:00",
          "2019-07-12T04:00:00+00:00",
          "2019-07-15T04:00:00+00:00",
          "2019-07-16T04:00:00+00:00",
          "2019-07-17T04:00:00+00:00",
          "2019-07-18T04:00:00+00:00",
          "2019-07-19T04:00:00+00:00",
          "2019-07-22T04:00:00+00:00",
          "2019-07-23T04:00:00+00:00",
          "2019-07-24T04:00:00+00:00",
          "2019-07-25T04:00:00+00:00",
          "2019-07-26T04:00:00+00:00",
          "2019-07-29T04:00:00+00:00",
          "2019-07-30T04:00:00+00:00",
          "2019-07-31T04:00:00+00:00",
          "2019-08-01T04:00:00+00:00",
          "2019-08-02T04:00:00+00:00",
          "2019-08-05T04:00:00+00:00",
          "2019-08-06T04:00:00+00:00",
          "2019-08-07T04:00:00+00:00",
          "2019-08-08T04:00:00+00:00",
          "2019-08-09T04:00:00+00:00",
          "2019-08-12T04:00:00+00:00",
          "2019-08-13T04:00:00+00:00",
          "2019-08-14T04:00:00+00:00",
          "2019-08-15T04:00:00+00:00",
          "2019-08-16T04:00:00+00:00",
          "2019-08-19T04:00:00+00:00",
          "2019-08-20T04:00:00+00:00",
          "2019-08-21T04:00:00+00:00",
          "2019-08-22T04:00:00+00:00",
          "2019-08-23T04:00:00+00:00",
          "2019-08-26T04:00:00+00:00",
          "2019-08-27T04:00:00+00:00",
          "2019-08-28T04:00:00+00:00",
          "2019-08-29T04:00:00+00:00",
          "2019-08-30T04:00:00+00:00",
          "2019-09-03T04:00:00+00:00",
          "2019-09-04T04:00:00+00:00",
          "2019-09-05T04:00:00+00:00",
          "2019-09-06T04:00:00+00:00",
          "2019-09-09T04:00:00+00:00",
          "2019-09-10T04:00:00+00:00",
          "2019-09-11T04:00:00+00:00",
          "2019-09-12T04:00:00+00:00",
          "2019-09-13T04:00:00+00:00",
          "2019-09-16T04:00:00+00:00",
          "2019-09-17T04:00:00+00:00",
          "2019-09-18T04:00:00+00:00",
          "2019-09-19T04:00:00+00:00",
          "2019-09-20T04:00:00+00:00",
          "2019-09-23T04:00:00+00:00",
          "2019-09-24T04:00:00+00:00",
          "2019-09-25T04:00:00+00:00",
          "2019-09-26T04:00:00+00:00",
          "2019-09-27T04:00:00+00:00",
          "2019-09-30T04:00:00+00:00",
          "2019-10-01T04:00:00+00:00",
          "2019-10-02T04:00:00+00:00",
          "2019-10-03T04:00:00+00:00",
          "2019-10-04T04:00:00+00:00",
          "2019-10-07T04:00:00+00:00",
          "2019-10-08T04:00:00+00:00",
          "2019-10-09T04:00:00+00:00",
          "2019-10-10T04:00:00+00:00",
          "2019-10-11T04:00:00+00:00",
          "2019-10-14T04:00:00+00:00",
          "2019-10-15T04:00:00+00:00",
          "2019-10-16T04:00:00+00:00",
          "2019-10-17T04:00:00+00:00",
          "2019-10-18T04:00:00+00:00",
          "2019-10-21T04:00:00+00:00",
          "2019-10-22T04:00:00+00:00",
          "2019-10-23T04:00:00+00:00",
          "2019-10-24T04:00:00+00:00",
          "2019-10-25T04:00:00+00:00",
          "2019-10-28T04:00:00+00:00",
          "2019-10-29T04:00:00+00:00",
          "2019-10-30T04:00:00+00:00",
          "2019-10-31T04:00:00+00:00",
          "2019-11-01T04:00:00+00:00",
          "2019-11-04T05:00:00+00:00",
          "2019-11-05T05:00:00+00:00",
          "2019-11-06T05:00:00+00:00",
          "2019-11-07T05:00:00+00:00",
          "2019-11-08T05:00:00+00:00",
          "2019-11-11T05:00:00+00:00",
          "2019-11-12T05:00:00+00:00",
          "2019-11-13T05:00:00+00:00",
          "2019-11-14T05:00:00+00:00",
          "2019-11-15T05:00:00+00:00",
          "2019-11-18T05:00:00+00:00",
          "2019-11-19T05:00:00+00:00",
          "2019-11-20T05:00:00+00:00",
          "2019-11-21T05:00:00+00:00",
          "2019-11-22T05:00:00+00:00",
          "2019-11-25T05:00:00+00:00",
          "2019-11-26T05:00:00+00:00",
          "2019-11-27T05:00:00+00:00",
          "2019-11-29T05:00:00+00:00",
          "2019-12-02T05:00:00+00:00",
          "2019-12-03T05:00:00+00:00",
          "2019-12-04T05:00:00+00:00",
          "2019-12-05T05:00:00+00:00",
          "2019-12-06T05:00:00+00:00",
          "2019-12-09T05:00:00+00:00",
          "2019-12-10T05:00:00+00:00",
          "2019-12-11T05:00:00+00:00",
          "2019-12-12T05:00:00+00:00",
          "2019-12-13T05:00:00+00:00",
          "2019-12-16T05:00:00+00:00",
          "2019-12-17T05:00:00+00:00",
          "2019-12-18T05:00:00+00:00",
          "2019-12-19T05:00:00+00:00",
          "2019-12-20T05:00:00+00:00",
          "2019-12-23T05:00:00+00:00",
          "2019-12-24T05:00:00+00:00",
          "2019-12-26T05:00:00+00:00",
          "2019-12-27T05:00:00+00:00",
          "2019-12-30T05:00:00+00:00",
          "2019-12-31T05:00:00+00:00",
          "2020-01-02T05:00:00+00:00",
          "2020-01-03T05:00:00+00:00",
          "2020-01-06T05:00:00+00:00",
          "2020-01-07T05:00:00+00:00",
          "2020-01-08T05:00:00+00:00",
          "2020-01-09T05:00:00+00:00"
         ],
         "xaxis": "x",
         "y": [
          36.68448257446289,
          36.0804443359375,
          35.800506591796875,
          36.205665588378906,
          35.98468017578125,
          36.90547180175781,
          37.457950592041016,
          38.03253173828125,
          39.410037994384766,
          41.435791015625,
          41.899871826171875,
          43.98455047607422,
          42.16505813598633,
          42.0987663269043,
          41.45051574707031,
          41.03799819946289,
          40.43396759033203,
          42.945892333984375,
          42.56284713745117,
          43.09321594238281,
          42.96062469482422,
          42.55548095703125,
          42.64386749267578,
          42.45970916748047,
          41.23689270019531,
          40.75809097290039,
          40.69914627075195,
          40.88331604003906,
          41.78937530517578,
          41.34739303588867,
          38.820735931396484,
          39.26271438598633,
          39.38057327270508,
          39.00489807128906,
          38.658668518066406,
          38.990150451660156,
          39.093284606933594,
          37.531620025634766,
          38.658668518066406,
          39.00489807128906,
          39.0269889831543,
          37.4211311340332,
          36.89073944091797,
          37.29589080810547,
          36.98650360107422,
          35.88154602050781,
          36.24250030517578,
          35.771053314208984,
          35.88154602050781,
          36.225341796875,
          34.947330474853516,
          35.844181060791016,
          37.31650924682617,
          37.62294006347656,
          38.16105270385742,
          38.34040451049805,
          38.57957077026367,
          38.893470764160156,
          39.22980499267578,
          39.521278381347656,
          38.22831726074219,
          36.883026123046875,
          37.07734680175781,
          36.24776077270508,
          36.56913757324219,
          36.14312744140625,
          37.054935455322266,
          37.137142181396484,
          37.70514678955078,
          38.04894256591797,
          36.8531379699707,
          37.4884033203125,
          36.92040252685547,
          36.86808776855469,
          36.8531379699707,
          36.26271057128906,
          35.776912689208984,
          35.53776168823242,
          35.70965576171875,
          37.1520881652832,
          38.063880920410156,
          39.102745056152344,
          38.56462860107422,
          38.67673873901367,
          38.504844665527344,
          38.026527404785156,
          39.32695770263672,
          39.454010009765625,
          37.94430160522461,
          36.70366668701172,
          35.91144561767578,
          36.17303466796875,
          36.202919006347656,
          35.014591217041016,
          34.08036422729492,
          33.46004867553711,
          33.20594024658203,
          33.54973602294922,
          34.96975326538086,
          34.857643127441406,
          34.14763641357422,
          35.014591217041016,
          32.944366455078125,
          32.42119598388672,
          33.265724182128906,
          34.08036422729492,
          32.256771087646484,
          32.34646224975586,
          31.427183151245117,
          30.425695419311523,
          30.507905960083008,
          30.769495010375977,
          31.778444290161133,
          32.19639205932617,
          32.39396667480469,
          31.763254165649414,
          32.32556915283203,
          32.94867706298828,
          32.857486724853516,
          33.776947021484375,
          35.19793701171875,
          35.623477935791016,
          35.69186782836914,
          36.62652587890625,
          37.24203872680664,
          36.47454833984375,
          36.102203369140625,
          36.20098876953125,
          36.634132385253906,
          36.40616226196289,
          35.410709381103516,
          36.231388092041016,
          35.88943862915039,
          35.767852783203125,
          36.20858383178711,
          34.931983947753906,
          34.14169692993164,
          34.430458068847656,
          34.453250885009766,
          34.324073791503906,
          33.32101821899414,
          33.44260025024414,
          34.13410186767578,
          35.81344985961914,
          35.57788848876953,
          35.86664581298828,
          35.80584716796875,
          36.330169677734375,
          36.44416046142578,
          35.80584716796875,
          35.57788848876953,
          35.88943862915039,
          37.591583251953125,
          38.35906982421875,
          38.91378402709961,
          39.126564025878906,
          38.777000427246094,
          38.36665344238281,
          39.74966049194336,
          41.163047790527344,
          41.18585205078125,
          41.246639251708984,
          42.401668548583984,
          42.54603576660156,
          42.409263610839844,
          41.915348052978516,
          40.775508880615234,
          40.995872497558594,
          41.687374114990234,
          41.277034759521484,
          40.57033157348633,
          40.02321243286133,
          40.94268035888672,
          41.18585205078125,
          41.945735931396484,
          42.07491683959961,
          41.77476119995117,
          41.074405670166016,
          40.91279220581055,
          39.88150405883789,
          40.235530853271484,
          40.02003479003906,
          40.95897674560547,
          40.99744415283203,
          40.88970184326172,
          40.866615295410156,
          41.90559768676758,
          41.00514602661133,
          41.69010925292969,
          42.06720733642578,
          41.75166320800781,
          41.959468841552734,
          42.02874755859375,
          42.27500915527344,
          42.25192642211914,
          42.498207092285156,
          42.19805145263672,
          41.82094192504883,
          42.121089935302734,
          41.36686325073242,
          40.34326934814453,
          40.18165588378906,
          40.166263580322266,
          40.58186340332031,
          40.166263580322266
         ],
         "yaxis": "y"
        },
        {
         "customdata": [
          [
           0,
           2.7932565631044293,
           0
          ],
          [
           2,
           3.311031133984616,
           0
          ],
          [
           4,
           3.4943426720890733,
           0
          ],
          [
           6,
           3.3712224266325332,
           0
          ],
          [
           8,
           3.4550210817421427,
           0
          ],
          [
           10,
           3.0821895430829365,
           0
          ]
         ],
         "hovertemplate": "Order Id: %{customdata[0]}<br>Timestamp: %{x}<br>Price: %{y}<br>Size: %{customdata[1]:.6f}<br>Fees: %{customdata[2]:.6f}",
         "legendgroup": "1",
         "marker": {
          "color": "#37B13F",
          "line": {
           "color": "rgb(38,123,44)",
           "width": 1
          },
          "size": 8,
          "symbol": "triangle-up"
         },
         "mode": "markers",
         "name": "Buy",
         "type": "scatter",
         "uid": "7de2d30e-05cd-498f-8689-e6a049b79c11",
         "x": [
          "2019-03-22T04:00:00+00:00",
          "2019-05-24T04:00:00+00:00",
          "2019-07-05T04:00:00+00:00",
          "2019-07-24T04:00:00+00:00",
          "2019-10-11T04:00:00+00:00",
          "2019-12-03T05:00:00+00:00"
         ],
         "xaxis": "x",
         "y": [
          35.800506591796875,
          36.24250030517578,
          36.8531379699707,
          39.454010009765625,
          35.81344985961914,
          39.88150405883789
         ],
         "yaxis": "y"
        },
        {
         "customdata": [
          [
           1,
           2.7932565631044293,
           0
          ],
          [
           3,
           3.311031133984616,
           0
          ],
          [
           5,
           3.4943426720890733,
           0
          ],
          [
           7,
           3.3712224266325332,
           0
          ],
          [
           9,
           3.4550210817421427,
           0
          ],
          [
           11,
           3.0821895430829365,
           0
          ]
         ],
         "hovertemplate": "Order Id: %{customdata[0]}<br>Timestamp: %{x}<br>Price: %{y}<br>Size: %{customdata[1]:.6f}<br>Fees: %{customdata[2]:.6f}",
         "legendgroup": "2",
         "marker": {
          "color": "#EA4335",
          "line": {
           "color": "rgb(181,31,18)",
           "width": 1
          },
          "size": 8,
          "symbol": "triangle-down"
         },
         "mode": "markers",
         "name": "Sell",
         "type": "scatter",
         "uid": "739257b0-b1a3-4d44-a3b6-837a62e547ca",
         "x": [
          "2019-04-17T04:00:00+00:00",
          "2019-06-11T04:00:00+00:00",
          "2019-07-15T04:00:00+00:00",
          "2019-07-26T04:00:00+00:00",
          "2019-10-22T04:00:00+00:00",
          "2020-01-09T05:00:00+00:00"
         ],
         "xaxis": "x",
         "y": [
          42.96062469482422,
          38.893470764160156,
          38.063880920410156,
          36.70366668701172,
          35.57788848876953,
          40.166263580322266
         ],
         "yaxis": "y"
        },
        {
         "customdata": [
          [
           0,
           0,
           20.000046883883968,
           0.20000046883883968
          ],
          [
           1,
           1,
           8.777445724970747,
           0.0731453524636044
          ],
          [
           2,
           2,
           4.2307507566516165,
           0.03285318475257151
          ],
          [
           5,
           5,
           0.877682819412442,
           0.00714013997727529
          ]
         ],
         "hovertemplate": "Exit Trade Id: %{customdata[0]}<br>Position Id: %{customdata[1]}<br>Exit Timestamp: %{x}<br>PnL: %{customdata[2]:.6f}<br>Return: %{customdata[3]:.2%}",
         "legendgroup": "3",
         "marker": {
          "color": "#37B13F",
          "line": {
           "color": "rgb(38,123,44)",
           "width": 1
          },
          "opacity": [
           0.9,
           0.801623560079055,
           0.7703768896303503,
           0.7504363631714954
          ],
          "size": [
           14,
           9.409099470355901,
           7.950921516083014,
           7.020363614669785
          ],
          "symbol": "circle"
         },
         "mode": "markers",
         "name": "Closed - Profit",
         "type": "scatter",
         "uid": "84c9d33a-496d-4d30-8734-8657aef11783",
         "x": [
          "2019-04-17T04:00:00+00:00",
          "2019-06-11T04:00:00+00:00",
          "2019-07-15T04:00:00+00:00",
          "2020-01-09T05:00:00+00:00"
         ],
         "xaxis": "x2",
         "y": [
          0.20000046883883968,
          0.0731453524636044,
          0.03285318475257151,
          0.00714013997727529
         ],
         "yaxis": "y2"
        },
        {
         "customdata": [
          [
           3,
           3,
           -9.272019090607017,
           -0.0697101086067841
          ],
          [
           4,
           4,
           -0.8138695023294815,
           -0.006577455446849126
          ]
         ],
         "hovertemplate": "Exit Trade Id: %{customdata[0]}<br>Position Id: %{customdata[1]}<br>Exit Timestamp: %{x}<br>PnL: %{customdata[2]:.6f}<br>Return: %{customdata[3]:.2%}",
         "legendgroup": "4",
         "marker": {
          "color": "#EA4335",
          "line": {
           "color": "rgb(181,31,18)",
           "width": 1
          },
          "opacity": [
           0.7989595204206574,
           0.75
          ],
          "size": [
           9.284777619630677,
           7
          ],
          "symbol": "circle"
         },
         "mode": "markers",
         "name": "Closed - Loss",
         "type": "scatter",
         "uid": "3fef2645-cda9-4bc6-9307-df60907a16db",
         "x": [
          "2019-07-26T04:00:00+00:00",
          "2019-10-22T04:00:00+00:00"
         ],
         "xaxis": "x2",
         "y": [
          -0.0697101086067841,
          -0.006577455446849126
         ],
         "yaxis": "y2"
        },
        {
         "legendgroup": "5",
         "line": {
          "color": "#7f7f7f"
         },
         "name": "Benchmark",
         "showlegend": true,
         "type": "scatter",
         "uid": "fcfe16cc-a8ba-43d7-af37-6b7c17a9c496",
         "x": [
          "2019-03-20T04:00:00+00:00",
          "2019-03-21T04:00:00+00:00",
          "2019-03-22T04:00:00+00:00",
          "2019-03-25T04:00:00+00:00",
          "2019-03-26T04:00:00+00:00",
          "2019-03-27T04:00:00+00:00",
          "2019-03-28T04:00:00+00:00",
          "2019-03-29T04:00:00+00:00",
          "2019-04-01T04:00:00+00:00",
          "2019-04-02T04:00:00+00:00",
          "2019-04-03T04:00:00+00:00",
          "2019-04-04T04:00:00+00:00",
          "2019-04-05T04:00:00+00:00",
          "2019-04-08T04:00:00+00:00",
          "2019-04-09T04:00:00+00:00",
          "2019-04-10T04:00:00+00:00",
          "2019-04-11T04:00:00+00:00",
          "2019-04-12T04:00:00+00:00",
          "2019-04-15T04:00:00+00:00",
          "2019-04-16T04:00:00+00:00",
          "2019-04-17T04:00:00+00:00",
          "2019-04-18T04:00:00+00:00",
          "2019-04-22T04:00:00+00:00",
          "2019-04-23T04:00:00+00:00",
          "2019-04-24T04:00:00+00:00",
          "2019-04-25T04:00:00+00:00",
          "2019-04-26T04:00:00+00:00",
          "2019-04-29T04:00:00+00:00",
          "2019-04-30T04:00:00+00:00",
          "2019-05-01T04:00:00+00:00",
          "2019-05-02T04:00:00+00:00",
          "2019-05-03T04:00:00+00:00",
          "2019-05-06T04:00:00+00:00",
          "2019-05-07T04:00:00+00:00",
          "2019-05-08T04:00:00+00:00",
          "2019-05-09T04:00:00+00:00",
          "2019-05-10T04:00:00+00:00",
          "2019-05-13T04:00:00+00:00",
          "2019-05-14T04:00:00+00:00",
          "2019-05-15T04:00:00+00:00",
          "2019-05-16T04:00:00+00:00",
          "2019-05-17T04:00:00+00:00",
          "2019-05-20T04:00:00+00:00",
          "2019-05-21T04:00:00+00:00",
          "2019-05-22T04:00:00+00:00",
          "2019-05-23T04:00:00+00:00",
          "2019-05-24T04:00:00+00:00",
          "2019-05-28T04:00:00+00:00",
          "2019-05-29T04:00:00+00:00",
          "2019-05-30T04:00:00+00:00",
          "2019-05-31T04:00:00+00:00",
          "2019-06-03T04:00:00+00:00",
          "2019-06-04T04:00:00+00:00",
          "2019-06-05T04:00:00+00:00",
          "2019-06-06T04:00:00+00:00",
          "2019-06-07T04:00:00+00:00",
          "2019-06-10T04:00:00+00:00",
          "2019-06-11T04:00:00+00:00",
          "2019-06-12T04:00:00+00:00",
          "2019-06-13T04:00:00+00:00",
          "2019-06-14T04:00:00+00:00",
          "2019-06-17T04:00:00+00:00",
          "2019-06-18T04:00:00+00:00",
          "2019-06-19T04:00:00+00:00",
          "2019-06-20T04:00:00+00:00",
          "2019-06-21T04:00:00+00:00",
          "2019-06-24T04:00:00+00:00",
          "2019-06-25T04:00:00+00:00",
          "2019-06-26T04:00:00+00:00",
          "2019-06-27T04:00:00+00:00",
          "2019-06-28T04:00:00+00:00",
          "2019-07-01T04:00:00+00:00",
          "2019-07-02T04:00:00+00:00",
          "2019-07-03T04:00:00+00:00",
          "2019-07-05T04:00:00+00:00",
          "2019-07-08T04:00:00+00:00",
          "2019-07-09T04:00:00+00:00",
          "2019-07-10T04:00:00+00:00",
          "2019-07-11T04:00:00+00:00",
          "2019-07-12T04:00:00+00:00",
          "2019-07-15T04:00:00+00:00",
          "2019-07-16T04:00:00+00:00",
          "2019-07-17T04:00:00+00:00",
          "2019-07-18T04:00:00+00:00",
          "2019-07-19T04:00:00+00:00",
          "2019-07-22T04:00:00+00:00",
          "2019-07-23T04:00:00+00:00",
          "2019-07-24T04:00:00+00:00",
          "2019-07-25T04:00:00+00:00",
          "2019-07-26T04:00:00+00:00",
          "2019-07-29T04:00:00+00:00",
          "2019-07-30T04:00:00+00:00",
          "2019-07-31T04:00:00+00:00",
          "2019-08-01T04:00:00+00:00",
          "2019-08-02T04:00:00+00:00",
          "2019-08-05T04:00:00+00:00",
          "2019-08-06T04:00:00+00:00",
          "2019-08-07T04:00:00+00:00",
          "2019-08-08T04:00:00+00:00",
          "2019-08-09T04:00:00+00:00",
          "2019-08-12T04:00:00+00:00",
          "2019-08-13T04:00:00+00:00",
          "2019-08-14T04:00:00+00:00",
          "2019-08-15T04:00:00+00:00",
          "2019-08-16T04:00:00+00:00",
          "2019-08-19T04:00:00+00:00",
          "2019-08-20T04:00:00+00:00",
          "2019-08-21T04:00:00+00:00",
          "2019-08-22T04:00:00+00:00",
          "2019-08-23T04:00:00+00:00",
          "2019-08-26T04:00:00+00:00",
          "2019-08-27T04:00:00+00:00",
          "2019-08-28T04:00:00+00:00",
          "2019-08-29T04:00:00+00:00",
          "2019-08-30T04:00:00+00:00",
          "2019-09-03T04:00:00+00:00",
          "2019-09-04T04:00:00+00:00",
          "2019-09-05T04:00:00+00:00",
          "2019-09-06T04:00:00+00:00",
          "2019-09-09T04:00:00+00:00",
          "2019-09-10T04:00:00+00:00",
          "2019-09-11T04:00:00+00:00",
          "2019-09-12T04:00:00+00:00",
          "2019-09-13T04:00:00+00:00",
          "2019-09-16T04:00:00+00:00",
          "2019-09-17T04:00:00+00:00",
          "2019-09-18T04:00:00+00:00",
          "2019-09-19T04:00:00+00:00",
          "2019-09-20T04:00:00+00:00",
          "2019-09-23T04:00:00+00:00",
          "2019-09-24T04:00:00+00:00",
          "2019-09-25T04:00:00+00:00",
          "2019-09-26T04:00:00+00:00",
          "2019-09-27T04:00:00+00:00",
          "2019-09-30T04:00:00+00:00",
          "2019-10-01T04:00:00+00:00",
          "2019-10-02T04:00:00+00:00",
          "2019-10-03T04:00:00+00:00",
          "2019-10-04T04:00:00+00:00",
          "2019-10-07T04:00:00+00:00",
          "2019-10-08T04:00:00+00:00",
          "2019-10-09T04:00:00+00:00",
          "2019-10-10T04:00:00+00:00",
          "2019-10-11T04:00:00+00:00",
          "2019-10-14T04:00:00+00:00",
          "2019-10-15T04:00:00+00:00",
          "2019-10-16T04:00:00+00:00",
          "2019-10-17T04:00:00+00:00",
          "2019-10-18T04:00:00+00:00",
          "2019-10-21T04:00:00+00:00",
          "2019-10-22T04:00:00+00:00",
          "2019-10-23T04:00:00+00:00",
          "2019-10-24T04:00:00+00:00",
          "2019-10-25T04:00:00+00:00",
          "2019-10-28T04:00:00+00:00",
          "2019-10-29T04:00:00+00:00",
          "2019-10-30T04:00:00+00:00",
          "2019-10-31T04:00:00+00:00",
          "2019-11-01T04:00:00+00:00",
          "2019-11-04T05:00:00+00:00",
          "2019-11-05T05:00:00+00:00",
          "2019-11-06T05:00:00+00:00",
          "2019-11-07T05:00:00+00:00",
          "2019-11-08T05:00:00+00:00",
          "2019-11-11T05:00:00+00:00",
          "2019-11-12T05:00:00+00:00",
          "2019-11-13T05:00:00+00:00",
          "2019-11-14T05:00:00+00:00",
          "2019-11-15T05:00:00+00:00",
          "2019-11-18T05:00:00+00:00",
          "2019-11-19T05:00:00+00:00",
          "2019-11-20T05:00:00+00:00",
          "2019-11-21T05:00:00+00:00",
          "2019-11-22T05:00:00+00:00",
          "2019-11-25T05:00:00+00:00",
          "2019-11-26T05:00:00+00:00",
          "2019-11-27T05:00:00+00:00",
          "2019-11-29T05:00:00+00:00",
          "2019-12-02T05:00:00+00:00",
          "2019-12-03T05:00:00+00:00",
          "2019-12-04T05:00:00+00:00",
          "2019-12-05T05:00:00+00:00",
          "2019-12-06T05:00:00+00:00",
          "2019-12-09T05:00:00+00:00",
          "2019-12-10T05:00:00+00:00",
          "2019-12-11T05:00:00+00:00",
          "2019-12-12T05:00:00+00:00",
          "2019-12-13T05:00:00+00:00",
          "2019-12-16T05:00:00+00:00",
          "2019-12-17T05:00:00+00:00",
          "2019-12-18T05:00:00+00:00",
          "2019-12-19T05:00:00+00:00",
          "2019-12-20T05:00:00+00:00",
          "2019-12-23T05:00:00+00:00",
          "2019-12-24T05:00:00+00:00",
          "2019-12-26T05:00:00+00:00",
          "2019-12-27T05:00:00+00:00",
          "2019-12-30T05:00:00+00:00",
          "2019-12-31T05:00:00+00:00",
          "2020-01-02T05:00:00+00:00",
          "2020-01-03T05:00:00+00:00",
          "2020-01-06T05:00:00+00:00",
          "2020-01-07T05:00:00+00:00",
          "2020-01-08T05:00:00+00:00",
          "2020-01-09T05:00:00+00:00"
         ],
         "xaxis": "x3",
         "y": [
          1,
          0.9835342303847601,
          0.9759032724293791,
          0.9869476968875852,
          0.9809237489649425,
          1.0060240519093147,
          1.0210843376626102,
          1.0367471221948423,
          1.0742972294726927,
          1.1295182079103285,
          1.1421688105078946,
          1.1989960710715626,
          1.149397652001738,
          1.1475905716116175,
          1.12991959646516,
          1.1186745817162105,
          1.1022090200743149,
          1.1706827879284365,
          1.1602411742091838,
          1.1746987532101985,
          1.1710843844566132,
          1.1600403759450961,
          1.1624497471408088,
          1.1574296865519345,
          1.1240963428199338,
          1.1110444556542078,
          1.1094376535948143,
          1.1144580261437054,
          1.1391567325599015,
          1.1271085247545996,
          1.0582331603723016,
          1.0702812641909314,
          1.0734940364163408,
          1.0632533249478484,
          1.053815286602347,
          1.0628513124729833,
          1.065662696143561,
          1.0230925282768357,
          1.0538152866023467,
          1.0632533249478482,
          1.0638555117667678,
          1.0200806583021866,
          1.0056224553811388,
          1.0166666718660002,
          1.0082329368009562,
          0.978112365294365,
          0.987951792194698,
          0.9751003913330436,
          0.978112365294365,
          0.9874840601429796,
          0.9526461332503937,
          0.9770938158398115,
          1.0172287198294372,
          1.025581865223498,
          1.0402505371691522,
          1.0451395745510093,
          1.0516591229535293,
          1.0602158742518288,
          1.0693841711695493,
          1.0773295848217723,
          1.0420841341606926,
          1.0054121943298768,
          1.0107092754135885,
          0.9880951898157113,
          0.9968557549915941,
          0.9852429393829449,
          1.010098353714201,
          1.0123392665008908,
          1.0278227780101876,
          1.0371944728588023,
          1.004597458752906,
          1.0219144632670716,
          1.0064310557444467,
          1.0050049825213996,
          1.0045974587529058,
          0.9885027135842048,
          0.9752601148615979,
          0.9687409824057664,
          0.9734267258434015,
          1.0127466862827121,
          1.037601684667279,
          1.065920583090706,
          1.0512518071583798,
          1.0543078714687293,
          1.0496221280310942,
          1.0365834471727426,
          1.0720325037380605,
          1.075495883843559,
          1.0343420144526911,
          1.0005229489746756,
          0.9789274128313519,
          0.9860581948932767,
          0.986872826483575,
          0.954479626255262,
          0.9290130822512738,
          0.912103601505602,
          0.9051767373079325,
          0.9145484321565471,
          0.9532573669097977,
          0.9502013025994481,
          0.930846887216159,
          0.954479626255262,
          0.8980463711926968,
          0.883785015042192,
          0.906806416435218,
          0.9290130822512737,
          0.8793028775087951,
          0.8817478121464126,
          0.856688739917582,
          0.8293887029087254,
          0.8316297196820875,
          0.8387605017440123,
          0.8662639366837629,
          0.8776569764606408,
          0.8830427581757699,
          0.8658498617549183,
          0.8811782771425749,
          0.8981638761323234,
          0.8956780747325174,
          0.9207420863282791,
          0.95947753768295,
          0.971077562930914,
          0.9729418359907644,
          0.9984201304887151,
          1.0151986920140414,
          0.9942773014668252,
          0.9841273703631949,
          0.9868202092274234,
          0.9986274799131539,
          0.9924131323936469,
          0.9652776023002679,
          0.9876488790184736,
          0.9783275137192213,
          0.9750131465150371,
          0.9870272466918457,
          0.9522277948679871,
          0.9306849799674873,
          0.9385564590957504,
          0.9391777794623616,
          0.9356564787804275,
          0.9083137032492818,
          0.9116279664667938,
          0.9304779425030651,
          0.9762560992082766,
          0.9698348182110195,
          0.9777061933526102,
          0.9760488537705099,
          0.9903416138960299,
          0.9934489436357918,
          0.97604885377051,
          0.9698348182110196,
          0.9783275137192217,
          1.0247270947777163,
          1.0456483813382607,
          1.0607696032814866,
          1.0665698758721494,
          1.0570409531751137,
          1.0458551068426665,
          1.0835551629018814,
          1.1220833688187852,
          1.1227050011454132,
          1.124362028767497,
          1.1558475293338604,
          1.159782904944639,
          1.1560545667982827,
          1.1425906844371572,
          1.111519258799638,
          1.1175262568947064,
          1.1363762329309777,
          1.125190594571875,
          1.1059262316467422,
          1.0910120471679385,
          1.1160762667370445,
          1.122705001145413,
          1.1434190422681902,
          1.1469404469367965,
          1.138758359618564,
          1.1196670305160323,
          1.1152615311600738,
          1.087149150267708,
          1.0967997373712601,
          1.0909254262699655,
          1.1165204978008374,
          1.117569099403667,
          1.1146320998330281,
          1.1140027724926547,
          1.142324894502921,
          1.1177790484949122,
          1.1364507913749706,
          1.1467302898722074,
          1.138128720318174,
          1.1437933942882408,
          1.1456818962427222,
          1.1523948598556017,
          1.1517656365019007,
          1.1584791200481415,
          1.150297032729909,
          1.1400172222726555,
          1.148199101617544,
          1.1276392727296929,
          1.0997366329552274,
          1.0953311335992688,
          1.0949115473767959,
          1.1062405833569122,
          1.0949115473767959
         ],
         "yaxis": "y3"
        },
        {
         "hoverinfo": "skip",
         "legendgroup": "6",
         "line": {
          "color": "rgba(0, 0, 0, 0)",
          "width": 0
         },
         "opacity": 0,
         "showlegend": false,
         "type": "scatter",
         "uid": "26e6b132-641c-46f5-a444-ed230b0d8de1",
         "x": [
          "2019-03-20T04:00:00+00:00",
          "2019-03-21T04:00:00+00:00",
          "2019-03-22T04:00:00+00:00",
          "2019-03-25T04:00:00+00:00",
          "2019-03-26T04:00:00+00:00",
          "2019-03-27T04:00:00+00:00",
          "2019-03-28T04:00:00+00:00",
          "2019-03-29T04:00:00+00:00",
          "2019-04-01T04:00:00+00:00",
          "2019-04-02T04:00:00+00:00",
          "2019-04-03T04:00:00+00:00",
          "2019-04-04T04:00:00+00:00",
          "2019-04-05T04:00:00+00:00",
          "2019-04-08T04:00:00+00:00",
          "2019-04-09T04:00:00+00:00",
          "2019-04-10T04:00:00+00:00",
          "2019-04-11T04:00:00+00:00",
          "2019-04-12T04:00:00+00:00",
          "2019-04-15T04:00:00+00:00",
          "2019-04-16T04:00:00+00:00",
          "2019-04-17T04:00:00+00:00",
          "2019-04-18T04:00:00+00:00",
          "2019-04-22T04:00:00+00:00",
          "2019-04-23T04:00:00+00:00",
          "2019-04-24T04:00:00+00:00",
          "2019-04-25T04:00:00+00:00",
          "2019-04-26T04:00:00+00:00",
          "2019-04-29T04:00:00+00:00",
          "2019-04-30T04:00:00+00:00",
          "2019-05-01T04:00:00+00:00",
          "2019-05-02T04:00:00+00:00",
          "2019-05-03T04:00:00+00:00",
          "2019-05-06T04:00:00+00:00",
          "2019-05-07T04:00:00+00:00",
          "2019-05-08T04:00:00+00:00",
          "2019-05-09T04:00:00+00:00",
          "2019-05-10T04:00:00+00:00",
          "2019-05-13T04:00:00+00:00",
          "2019-05-14T04:00:00+00:00",
          "2019-05-15T04:00:00+00:00",
          "2019-05-16T04:00:00+00:00",
          "2019-05-17T04:00:00+00:00",
          "2019-05-20T04:00:00+00:00",
          "2019-05-21T04:00:00+00:00",
          "2019-05-22T04:00:00+00:00",
          "2019-05-23T04:00:00+00:00",
          "2019-05-24T04:00:00+00:00",
          "2019-05-28T04:00:00+00:00",
          "2019-05-29T04:00:00+00:00",
          "2019-05-30T04:00:00+00:00",
          "2019-05-31T04:00:00+00:00",
          "2019-06-03T04:00:00+00:00",
          "2019-06-04T04:00:00+00:00",
          "2019-06-05T04:00:00+00:00",
          "2019-06-06T04:00:00+00:00",
          "2019-06-07T04:00:00+00:00",
          "2019-06-10T04:00:00+00:00",
          "2019-06-11T04:00:00+00:00",
          "2019-06-12T04:00:00+00:00",
          "2019-06-13T04:00:00+00:00",
          "2019-06-14T04:00:00+00:00",
          "2019-06-17T04:00:00+00:00",
          "2019-06-18T04:00:00+00:00",
          "2019-06-19T04:00:00+00:00",
          "2019-06-20T04:00:00+00:00",
          "2019-06-21T04:00:00+00:00",
          "2019-06-24T04:00:00+00:00",
          "2019-06-25T04:00:00+00:00",
          "2019-06-26T04:00:00+00:00",
          "2019-06-27T04:00:00+00:00",
          "2019-06-28T04:00:00+00:00",
          "2019-07-01T04:00:00+00:00",
          "2019-07-02T04:00:00+00:00",
          "2019-07-03T04:00:00+00:00",
          "2019-07-05T04:00:00+00:00",
          "2019-07-08T04:00:00+00:00",
          "2019-07-09T04:00:00+00:00",
          "2019-07-10T04:00:00+00:00",
          "2019-07-11T04:00:00+00:00",
          "2019-07-12T04:00:00+00:00",
          "2019-07-15T04:00:00+00:00",
          "2019-07-16T04:00:00+00:00",
          "2019-07-17T04:00:00+00:00",
          "2019-07-18T04:00:00+00:00",
          "2019-07-19T04:00:00+00:00",
          "2019-07-22T04:00:00+00:00",
          "2019-07-23T04:00:00+00:00",
          "2019-07-24T04:00:00+00:00",
          "2019-07-25T04:00:00+00:00",
          "2019-07-26T04:00:00+00:00",
          "2019-07-29T04:00:00+00:00",
          "2019-07-30T04:00:00+00:00",
          "2019-07-31T04:00:00+00:00",
          "2019-08-01T04:00:00+00:00",
          "2019-08-02T04:00:00+00:00",
          "2019-08-05T04:00:00+00:00",
          "2019-08-06T04:00:00+00:00",
          "2019-08-07T04:00:00+00:00",
          "2019-08-08T04:00:00+00:00",
          "2019-08-09T04:00:00+00:00",
          "2019-08-12T04:00:00+00:00",
          "2019-08-13T04:00:00+00:00",
          "2019-08-14T04:00:00+00:00",
          "2019-08-15T04:00:00+00:00",
          "2019-08-16T04:00:00+00:00",
          "2019-08-19T04:00:00+00:00",
          "2019-08-20T04:00:00+00:00",
          "2019-08-21T04:00:00+00:00",
          "2019-08-22T04:00:00+00:00",
          "2019-08-23T04:00:00+00:00",
          "2019-08-26T04:00:00+00:00",
          "2019-08-27T04:00:00+00:00",
          "2019-08-28T04:00:00+00:00",
          "2019-08-29T04:00:00+00:00",
          "2019-08-30T04:00:00+00:00",
          "2019-09-03T04:00:00+00:00",
          "2019-09-04T04:00:00+00:00",
          "2019-09-05T04:00:00+00:00",
          "2019-09-06T04:00:00+00:00",
          "2019-09-09T04:00:00+00:00",
          "2019-09-10T04:00:00+00:00",
          "2019-09-11T04:00:00+00:00",
          "2019-09-12T04:00:00+00:00",
          "2019-09-13T04:00:00+00:00",
          "2019-09-16T04:00:00+00:00",
          "2019-09-17T04:00:00+00:00",
          "2019-09-18T04:00:00+00:00",
          "2019-09-19T04:00:00+00:00",
          "2019-09-20T04:00:00+00:00",
          "2019-09-23T04:00:00+00:00",
          "2019-09-24T04:00:00+00:00",
          "2019-09-25T04:00:00+00:00",
          "2019-09-26T04:00:00+00:00",
          "2019-09-27T04:00:00+00:00",
          "2019-09-30T04:00:00+00:00",
          "2019-10-01T04:00:00+00:00",
          "2019-10-02T04:00:00+00:00",
          "2019-10-03T04:00:00+00:00",
          "2019-10-04T04:00:00+00:00",
          "2019-10-07T04:00:00+00:00",
          "2019-10-08T04:00:00+00:00",
          "2019-10-09T04:00:00+00:00",
          "2019-10-10T04:00:00+00:00",
          "2019-10-11T04:00:00+00:00",
          "2019-10-14T04:00:00+00:00",
          "2019-10-15T04:00:00+00:00",
          "2019-10-16T04:00:00+00:00",
          "2019-10-17T04:00:00+00:00",
          "2019-10-18T04:00:00+00:00",
          "2019-10-21T04:00:00+00:00",
          "2019-10-22T04:00:00+00:00",
          "2019-10-23T04:00:00+00:00",
          "2019-10-24T04:00:00+00:00",
          "2019-10-25T04:00:00+00:00",
          "2019-10-28T04:00:00+00:00",
          "2019-10-29T04:00:00+00:00",
          "2019-10-30T04:00:00+00:00",
          "2019-10-31T04:00:00+00:00",
          "2019-11-01T04:00:00+00:00",
          "2019-11-04T05:00:00+00:00",
          "2019-11-05T05:00:00+00:00",
          "2019-11-06T05:00:00+00:00",
          "2019-11-07T05:00:00+00:00",
          "2019-11-08T05:00:00+00:00",
          "2019-11-11T05:00:00+00:00",
          "2019-11-12T05:00:00+00:00",
          "2019-11-13T05:00:00+00:00",
          "2019-11-14T05:00:00+00:00",
          "2019-11-15T05:00:00+00:00",
          "2019-11-18T05:00:00+00:00",
          "2019-11-19T05:00:00+00:00",
          "2019-11-20T05:00:00+00:00",
          "2019-11-21T05:00:00+00:00",
          "2019-11-22T05:00:00+00:00",
          "2019-11-25T05:00:00+00:00",
          "2019-11-26T05:00:00+00:00",
          "2019-11-27T05:00:00+00:00",
          "2019-11-29T05:00:00+00:00",
          "2019-12-02T05:00:00+00:00",
          "2019-12-03T05:00:00+00:00",
          "2019-12-04T05:00:00+00:00",
          "2019-12-05T05:00:00+00:00",
          "2019-12-06T05:00:00+00:00",
          "2019-12-09T05:00:00+00:00",
          "2019-12-10T05:00:00+00:00",
          "2019-12-11T05:00:00+00:00",
          "2019-12-12T05:00:00+00:00",
          "2019-12-13T05:00:00+00:00",
          "2019-12-16T05:00:00+00:00",
          "2019-12-17T05:00:00+00:00",
          "2019-12-18T05:00:00+00:00",
          "2019-12-19T05:00:00+00:00",
          "2019-12-20T05:00:00+00:00",
          "2019-12-23T05:00:00+00:00",
          "2019-12-24T05:00:00+00:00",
          "2019-12-26T05:00:00+00:00",
          "2019-12-27T05:00:00+00:00",
          "2019-12-30T05:00:00+00:00",
          "2019-12-31T05:00:00+00:00",
          "2020-01-02T05:00:00+00:00",
          "2020-01-03T05:00:00+00:00",
          "2020-01-06T05:00:00+00:00",
          "2020-01-07T05:00:00+00:00",
          "2020-01-08T05:00:00+00:00",
          "2020-01-09T05:00:00+00:00"
         ],
         "xaxis": "x3",
         "y": [
          1,
          1,
          1,
          1,
          1,
          1,
          1,
          1,
          1,
          1,
          1,
          1,
          1,
          1,
          1,
          1,
          1,
          1,
          1,
          1,
          1,
          1,
          1,
          1,
          1,
          1,
          1,
          1,
          1,
          1,
          1,
          1,
          1,
          1,
          1,
          1,
          1,
          1,
          1,
          1,
          1,
          1,
          1,
          1,
          1,
          1,
          1,
          1,
          1,
          1,
          1,
          1,
          1,
          1,
          1,
          1,
          1,
          1,
          1,
          1,
          1,
          1,
          1,
          1,
          1,
          1,
          1,
          1,
          1,
          1,
          1,
          1,
          1,
          1,
          1,
          1,
          1,
          1,
          1,
          1,
          1,
          1,
          1,
          1,
          1,
          1,
          1,
          1,
          1,
          1,
          1,
          1,
          1,
          1,
          1,
          1,
          1,
          1,
          1,
          1,
          1,
          1,
          1,
          1,
          1,
          1,
          1,
          1,
          1,
          1,
          1,
          1,
          1,
          1,
          1,
          1,
          1,
          1,
          1,
          1,
          1,
          1,
          1,
          1,
          1,
          1,
          1,
          1,
          1,
          1,
          1,
          1,
          1,
          1,
          1,
          1,
          1,
          1,
          1,
          1,
          1,
          1,
          1,
          1,
          1,
          1,
          1,
          1,
          1,
          1,
          1,
          1,
          1,
          1,
          1,
          1,
          1,
          1,
          1,
          1,
          1,
          1,
          1,
          1,
          1,
          1,
          1,
          1,
          1,
          1,
          1,
          1,
          1,
          1,
          1,
          1,
          1,
          1,
          1,
          1,
          1,
          1,
          1,
          1,
          1,
          1,
          1,
          1,
          1,
          1,
          1,
          1,
          1,
          1,
          1,
          1,
          1,
          1,
          1,
          1,
          1,
          1,
          1,
          1,
          1
         ],
         "yaxis": "y3"
        },
        {
         "connectgaps": false,
         "fill": "tonexty",
         "fillcolor": "rgba(0, 128, 0, 0.3)",
         "hoverinfo": "skip",
         "legendgroup": "6",
         "line": {
          "color": "rgba(0, 0, 0, 0)",
          "width": 0
         },
         "opacity": 0,
         "showlegend": false,
         "type": "scatter",
         "uid": "ae936914-7b7d-4121-84a6-08170c61b58b",
         "x": [
          "2019-03-20T04:00:00+00:00",
          "2019-03-21T04:00:00+00:00",
          "2019-03-22T04:00:00+00:00",
          "2019-03-25T04:00:00+00:00",
          "2019-03-26T04:00:00+00:00",
          "2019-03-27T04:00:00+00:00",
          "2019-03-28T04:00:00+00:00",
          "2019-03-29T04:00:00+00:00",
          "2019-04-01T04:00:00+00:00",
          "2019-04-02T04:00:00+00:00",
          "2019-04-03T04:00:00+00:00",
          "2019-04-04T04:00:00+00:00",
          "2019-04-05T04:00:00+00:00",
          "2019-04-08T04:00:00+00:00",
          "2019-04-09T04:00:00+00:00",
          "2019-04-10T04:00:00+00:00",
          "2019-04-11T04:00:00+00:00",
          "2019-04-12T04:00:00+00:00",
          "2019-04-15T04:00:00+00:00",
          "2019-04-16T04:00:00+00:00",
          "2019-04-17T04:00:00+00:00",
          "2019-04-18T04:00:00+00:00",
          "2019-04-22T04:00:00+00:00",
          "2019-04-23T04:00:00+00:00",
          "2019-04-24T04:00:00+00:00",
          "2019-04-25T04:00:00+00:00",
          "2019-04-26T04:00:00+00:00",
          "2019-04-29T04:00:00+00:00",
          "2019-04-30T04:00:00+00:00",
          "2019-05-01T04:00:00+00:00",
          "2019-05-02T04:00:00+00:00",
          "2019-05-03T04:00:00+00:00",
          "2019-05-06T04:00:00+00:00",
          "2019-05-07T04:00:00+00:00",
          "2019-05-08T04:00:00+00:00",
          "2019-05-09T04:00:00+00:00",
          "2019-05-10T04:00:00+00:00",
          "2019-05-13T04:00:00+00:00",
          "2019-05-14T04:00:00+00:00",
          "2019-05-15T04:00:00+00:00",
          "2019-05-16T04:00:00+00:00",
          "2019-05-17T04:00:00+00:00",
          "2019-05-20T04:00:00+00:00",
          "2019-05-21T04:00:00+00:00",
          "2019-05-22T04:00:00+00:00",
          "2019-05-23T04:00:00+00:00",
          "2019-05-24T04:00:00+00:00",
          "2019-05-28T04:00:00+00:00",
          "2019-05-29T04:00:00+00:00",
          "2019-05-30T04:00:00+00:00",
          "2019-05-31T04:00:00+00:00",
          "2019-06-03T04:00:00+00:00",
          "2019-06-04T04:00:00+00:00",
          "2019-06-05T04:00:00+00:00",
          "2019-06-06T04:00:00+00:00",
          "2019-06-07T04:00:00+00:00",
          "2019-06-10T04:00:00+00:00",
          "2019-06-11T04:00:00+00:00",
          "2019-06-12T04:00:00+00:00",
          "2019-06-13T04:00:00+00:00",
          "2019-06-14T04:00:00+00:00",
          "2019-06-17T04:00:00+00:00",
          "2019-06-18T04:00:00+00:00",
          "2019-06-19T04:00:00+00:00",
          "2019-06-20T04:00:00+00:00",
          "2019-06-21T04:00:00+00:00",
          "2019-06-24T04:00:00+00:00",
          "2019-06-25T04:00:00+00:00",
          "2019-06-26T04:00:00+00:00",
          "2019-06-27T04:00:00+00:00",
          "2019-06-28T04:00:00+00:00",
          "2019-07-01T04:00:00+00:00",
          "2019-07-02T04:00:00+00:00",
          "2019-07-03T04:00:00+00:00",
          "2019-07-05T04:00:00+00:00",
          "2019-07-08T04:00:00+00:00",
          "2019-07-09T04:00:00+00:00",
          "2019-07-10T04:00:00+00:00",
          "2019-07-11T04:00:00+00:00",
          "2019-07-12T04:00:00+00:00",
          "2019-07-15T04:00:00+00:00",
          "2019-07-16T04:00:00+00:00",
          "2019-07-17T04:00:00+00:00",
          "2019-07-18T04:00:00+00:00",
          "2019-07-19T04:00:00+00:00",
          "2019-07-22T04:00:00+00:00",
          "2019-07-23T04:00:00+00:00",
          "2019-07-24T04:00:00+00:00",
          "2019-07-25T04:00:00+00:00",
          "2019-07-26T04:00:00+00:00",
          "2019-07-29T04:00:00+00:00",
          "2019-07-30T04:00:00+00:00",
          "2019-07-31T04:00:00+00:00",
          "2019-08-01T04:00:00+00:00",
          "2019-08-02T04:00:00+00:00",
          "2019-08-05T04:00:00+00:00",
          "2019-08-06T04:00:00+00:00",
          "2019-08-07T04:00:00+00:00",
          "2019-08-08T04:00:00+00:00",
          "2019-08-09T04:00:00+00:00",
          "2019-08-12T04:00:00+00:00",
          "2019-08-13T04:00:00+00:00",
          "2019-08-14T04:00:00+00:00",
          "2019-08-15T04:00:00+00:00",
          "2019-08-16T04:00:00+00:00",
          "2019-08-19T04:00:00+00:00",
          "2019-08-20T04:00:00+00:00",
          "2019-08-21T04:00:00+00:00",
          "2019-08-22T04:00:00+00:00",
          "2019-08-23T04:00:00+00:00",
          "2019-08-26T04:00:00+00:00",
          "2019-08-27T04:00:00+00:00",
          "2019-08-28T04:00:00+00:00",
          "2019-08-29T04:00:00+00:00",
          "2019-08-30T04:00:00+00:00",
          "2019-09-03T04:00:00+00:00",
          "2019-09-04T04:00:00+00:00",
          "2019-09-05T04:00:00+00:00",
          "2019-09-06T04:00:00+00:00",
          "2019-09-09T04:00:00+00:00",
          "2019-09-10T04:00:00+00:00",
          "2019-09-11T04:00:00+00:00",
          "2019-09-12T04:00:00+00:00",
          "2019-09-13T04:00:00+00:00",
          "2019-09-16T04:00:00+00:00",
          "2019-09-17T04:00:00+00:00",
          "2019-09-18T04:00:00+00:00",
          "2019-09-19T04:00:00+00:00",
          "2019-09-20T04:00:00+00:00",
          "2019-09-23T04:00:00+00:00",
          "2019-09-24T04:00:00+00:00",
          "2019-09-25T04:00:00+00:00",
          "2019-09-26T04:00:00+00:00",
          "2019-09-27T04:00:00+00:00",
          "2019-09-30T04:00:00+00:00",
          "2019-10-01T04:00:00+00:00",
          "2019-10-02T04:00:00+00:00",
          "2019-10-03T04:00:00+00:00",
          "2019-10-04T04:00:00+00:00",
          "2019-10-07T04:00:00+00:00",
          "2019-10-08T04:00:00+00:00",
          "2019-10-09T04:00:00+00:00",
          "2019-10-10T04:00:00+00:00",
          "2019-10-11T04:00:00+00:00",
          "2019-10-14T04:00:00+00:00",
          "2019-10-15T04:00:00+00:00",
          "2019-10-16T04:00:00+00:00",
          "2019-10-17T04:00:00+00:00",
          "2019-10-18T04:00:00+00:00",
          "2019-10-21T04:00:00+00:00",
          "2019-10-22T04:00:00+00:00",
          "2019-10-23T04:00:00+00:00",
          "2019-10-24T04:00:00+00:00",
          "2019-10-25T04:00:00+00:00",
          "2019-10-28T04:00:00+00:00",
          "2019-10-29T04:00:00+00:00",
          "2019-10-30T04:00:00+00:00",
          "2019-10-31T04:00:00+00:00",
          "2019-11-01T04:00:00+00:00",
          "2019-11-04T05:00:00+00:00",
          "2019-11-05T05:00:00+00:00",
          "2019-11-06T05:00:00+00:00",
          "2019-11-07T05:00:00+00:00",
          "2019-11-08T05:00:00+00:00",
          "2019-11-11T05:00:00+00:00",
          "2019-11-12T05:00:00+00:00",
          "2019-11-13T05:00:00+00:00",
          "2019-11-14T05:00:00+00:00",
          "2019-11-15T05:00:00+00:00",
          "2019-11-18T05:00:00+00:00",
          "2019-11-19T05:00:00+00:00",
          "2019-11-20T05:00:00+00:00",
          "2019-11-21T05:00:00+00:00",
          "2019-11-22T05:00:00+00:00",
          "2019-11-25T05:00:00+00:00",
          "2019-11-26T05:00:00+00:00",
          "2019-11-27T05:00:00+00:00",
          "2019-11-29T05:00:00+00:00",
          "2019-12-02T05:00:00+00:00",
          "2019-12-03T05:00:00+00:00",
          "2019-12-04T05:00:00+00:00",
          "2019-12-05T05:00:00+00:00",
          "2019-12-06T05:00:00+00:00",
          "2019-12-09T05:00:00+00:00",
          "2019-12-10T05:00:00+00:00",
          "2019-12-11T05:00:00+00:00",
          "2019-12-12T05:00:00+00:00",
          "2019-12-13T05:00:00+00:00",
          "2019-12-16T05:00:00+00:00",
          "2019-12-17T05:00:00+00:00",
          "2019-12-18T05:00:00+00:00",
          "2019-12-19T05:00:00+00:00",
          "2019-12-20T05:00:00+00:00",
          "2019-12-23T05:00:00+00:00",
          "2019-12-24T05:00:00+00:00",
          "2019-12-26T05:00:00+00:00",
          "2019-12-27T05:00:00+00:00",
          "2019-12-30T05:00:00+00:00",
          "2019-12-31T05:00:00+00:00",
          "2020-01-02T05:00:00+00:00",
          "2020-01-03T05:00:00+00:00",
          "2020-01-06T05:00:00+00:00",
          "2020-01-07T05:00:00+00:00",
          "2020-01-08T05:00:00+00:00",
          "2020-01-09T05:00:00+00:00"
         ],
         "xaxis": "x3",
         "y": [
          1,
          1,
          1,
          1.0113171302630357,
          1.0051444407221481,
          1.0308645132472545,
          1.0462966633166,
          1.062346188894316,
          1.1008234728001016,
          1.1574079520181806,
          1.1703709197168894,
          1.2286013429249234,
          1.1777782537202361,
          1.1759265534122516,
          1.1578192515456764,
          1.1462965780731746,
          1.1294244534404672,
          1.1995889562027804,
          1.1888895211109605,
          1.203704082563372,
          1.2000004688388397,
          1.2000004688388397,
          1.2000004688388397,
          1.2000004688388397,
          1.2000004688388397,
          1.2000004688388397,
          1.2000004688388397,
          1.2000004688388397,
          1.2000004688388397,
          1.2000004688388397,
          1.2000004688388397,
          1.2000004688388397,
          1.2000004688388397,
          1.2000004688388397,
          1.2000004688388397,
          1.2000004688388397,
          1.2000004688388397,
          1.2000004688388397,
          1.2000004688388397,
          1.2000004688388397,
          1.2000004688388397,
          1.2000004688388397,
          1.2000004688388397,
          1.2000004688388397,
          1.2000004688388397,
          1.2000004688388397,
          1.2000004688388397,
          1.1843907121876953,
          1.1880491600940315,
          1.1994323452868731,
          1.1571169925188936,
          1.1868119946446076,
          1.2355612392786626,
          1.2457072590220803,
          1.2635243360809973,
          1.2694627302382322,
          1.2773815995610585,
          1.287774926088547,
          1.287774926088547,
          1.287774926088547,
          1.287774926088547,
          1.287774926088547,
          1.287774926088547,
          1.287774926088547,
          1.287774926088547,
          1.287774926088547,
          1.287774926088547,
          1.287774926088547,
          1.287774926088547,
          1.287774926088547,
          1.287774926088547,
          1.287774926088547,
          1.287774926088547,
          1.287774926088547,
          1.287774926088547,
          1.267143369548709,
          1.2501679268550798,
          1.2418111713772275,
          1.2478177393378524,
          1.2982212703316451,
          1.330082433655063,
          1.330082433655063,
          1.330082433655063,
          1.330082433655063,
          1.330082433655063,
          1.330082433655063,
          1.330082433655063,
          1.330082433655063,
          1.27918680534442,
          1.2373622427489928,
          1.2373622427489928,
          1.2373622427489928,
          1.2373622427489928,
          1.2373622427489928,
          1.2373622427489928,
          1.2373622427489928,
          1.2373622427489928,
          1.2373622427489928,
          1.2373622427489928,
          1.2373622427489928,
          1.2373622427489928,
          1.2373622427489928,
          1.2373622427489928,
          1.2373622427489928,
          1.2373622427489928,
          1.2373622427489928,
          1.2373622427489928,
          1.2373622427489928,
          1.2373622427489928,
          1.2373622427489928,
          1.2373622427489928,
          1.2373622427489928,
          1.2373622427489928,
          1.2373622427489928,
          1.2373622427489928,
          1.2373622427489928,
          1.2373622427489928,
          1.2373622427489928,
          1.2373622427489928,
          1.2373622427489928,
          1.2373622427489928,
          1.2373622427489928,
          1.2373622427489928,
          1.2373622427489928,
          1.2373622427489928,
          1.2373622427489928,
          1.2373622427489928,
          1.2373622427489928,
          1.2373622427489928,
          1.2373622427489928,
          1.2373622427489928,
          1.2373622427489928,
          1.2373622427489928,
          1.2373622427489928,
          1.2373622427489928,
          1.2373622427489928,
          1.2373622427489928,
          1.2373622427489928,
          1.2373622427489928,
          1.2373622427489928,
          1.2373622427489928,
          1.2373622427489928,
          1.2373622427489928,
          1.2373622427489928,
          1.2292235477256979,
          1.2392001741525303,
          1.237099568149692,
          1.255215021398414,
          1.259153427006195,
          1.2370995681496921,
          1.229223547725698,
          1.229223547725698,
          1.229223547725698,
          1.229223547725698,
          1.229223547725698,
          1.229223547725698,
          1.229223547725698,
          1.229223547725698,
          1.229223547725698,
          1.229223547725698,
          1.229223547725698,
          1.229223547725698,
          1.229223547725698,
          1.229223547725698,
          1.229223547725698,
          1.229223547725698,
          1.229223547725698,
          1.229223547725698,
          1.229223547725698,
          1.229223547725698,
          1.229223547725698,
          1.229223547725698,
          1.229223547725698,
          1.229223547725698,
          1.229223547725698,
          1.229223547725698,
          1.229223547725698,
          1.229223547725698,
          1.229223547725698,
          1.229223547725698,
          1.2401353245634419,
          1.2334933274367368,
          1.2624332982068232,
          1.2636189366098554,
          1.2602981144108032,
          1.2595865432470634,
          1.291609949867955,
          1.2638563229581024,
          1.2849681878936505,
          1.2965910655903334,
          1.286865397460423,
          1.2932703609674818,
          1.2954056623397017,
          1.3029959115211924,
          1.3022844579336528,
          1.3098752949961443,
          1.3006239292579265,
          1.2890006988326432,
          1.2982518294184606,
          1.2750051334154933,
          1.2434560291862948,
          1.2384747958877165,
          1.2380003759198233,
          1.2508099502053402,
          1.2380003759198233
         ],
         "yaxis": "y3"
        },
        {
         "legendgroup": "7",
         "line": {
          "color": "#9467bd"
         },
         "name": "Value",
         "showlegend": true,
         "type": "scatter",
         "uid": "a80e46ba-f6a6-4218-8c55-baea52a27da2",
         "x": [
          "2019-03-20T04:00:00+00:00",
          "2019-03-21T04:00:00+00:00",
          "2019-03-22T04:00:00+00:00",
          "2019-03-25T04:00:00+00:00",
          "2019-03-26T04:00:00+00:00",
          "2019-03-27T04:00:00+00:00",
          "2019-03-28T04:00:00+00:00",
          "2019-03-29T04:00:00+00:00",
          "2019-04-01T04:00:00+00:00",
          "2019-04-02T04:00:00+00:00",
          "2019-04-03T04:00:00+00:00",
          "2019-04-04T04:00:00+00:00",
          "2019-04-05T04:00:00+00:00",
          "2019-04-08T04:00:00+00:00",
          "2019-04-09T04:00:00+00:00",
          "2019-04-10T04:00:00+00:00",
          "2019-04-11T04:00:00+00:00",
          "2019-04-12T04:00:00+00:00",
          "2019-04-15T04:00:00+00:00",
          "2019-04-16T04:00:00+00:00",
          "2019-04-17T04:00:00+00:00",
          "2019-04-18T04:00:00+00:00",
          "2019-04-22T04:00:00+00:00",
          "2019-04-23T04:00:00+00:00",
          "2019-04-24T04:00:00+00:00",
          "2019-04-25T04:00:00+00:00",
          "2019-04-26T04:00:00+00:00",
          "2019-04-29T04:00:00+00:00",
          "2019-04-30T04:00:00+00:00",
          "2019-05-01T04:00:00+00:00",
          "2019-05-02T04:00:00+00:00",
          "2019-05-03T04:00:00+00:00",
          "2019-05-06T04:00:00+00:00",
          "2019-05-07T04:00:00+00:00",
          "2019-05-08T04:00:00+00:00",
          "2019-05-09T04:00:00+00:00",
          "2019-05-10T04:00:00+00:00",
          "2019-05-13T04:00:00+00:00",
          "2019-05-14T04:00:00+00:00",
          "2019-05-15T04:00:00+00:00",
          "2019-05-16T04:00:00+00:00",
          "2019-05-17T04:00:00+00:00",
          "2019-05-20T04:00:00+00:00",
          "2019-05-21T04:00:00+00:00",
          "2019-05-22T04:00:00+00:00",
          "2019-05-23T04:00:00+00:00",
          "2019-05-24T04:00:00+00:00",
          "2019-05-28T04:00:00+00:00",
          "2019-05-29T04:00:00+00:00",
          "2019-05-30T04:00:00+00:00",
          "2019-05-31T04:00:00+00:00",
          "2019-06-03T04:00:00+00:00",
          "2019-06-04T04:00:00+00:00",
          "2019-06-05T04:00:00+00:00",
          "2019-06-06T04:00:00+00:00",
          "2019-06-07T04:00:00+00:00",
          "2019-06-10T04:00:00+00:00",
          "2019-06-11T04:00:00+00:00",
          "2019-06-12T04:00:00+00:00",
          "2019-06-13T04:00:00+00:00",
          "2019-06-14T04:00:00+00:00",
          "2019-06-17T04:00:00+00:00",
          "2019-06-18T04:00:00+00:00",
          "2019-06-19T04:00:00+00:00",
          "2019-06-20T04:00:00+00:00",
          "2019-06-21T04:00:00+00:00",
          "2019-06-24T04:00:00+00:00",
          "2019-06-25T04:00:00+00:00",
          "2019-06-26T04:00:00+00:00",
          "2019-06-27T04:00:00+00:00",
          "2019-06-28T04:00:00+00:00",
          "2019-07-01T04:00:00+00:00",
          "2019-07-02T04:00:00+00:00",
          "2019-07-03T04:00:00+00:00",
          "2019-07-05T04:00:00+00:00",
          "2019-07-08T04:00:00+00:00",
          "2019-07-09T04:00:00+00:00",
          "2019-07-10T04:00:00+00:00",
          "2019-07-11T04:00:00+00:00",
          "2019-07-12T04:00:00+00:00",
          "2019-07-15T04:00:00+00:00",
          "2019-07-16T04:00:00+00:00",
          "2019-07-17T04:00:00+00:00",
          "2019-07-18T04:00:00+00:00",
          "2019-07-19T04:00:00+00:00",
          "2019-07-22T04:00:00+00:00",
          "2019-07-23T04:00:00+00:00",
          "2019-07-24T04:00:00+00:00",
          "2019-07-25T04:00:00+00:00",
          "2019-07-26T04:00:00+00:00",
          "2019-07-29T04:00:00+00:00",
          "2019-07-30T04:00:00+00:00",
          "2019-07-31T04:00:00+00:00",
          "2019-08-01T04:00:00+00:00",
          "2019-08-02T04:00:00+00:00",
          "2019-08-05T04:00:00+00:00",
          "2019-08-06T04:00:00+00:00",
          "2019-08-07T04:00:00+00:00",
          "2019-08-08T04:00:00+00:00",
          "2019-08-09T04:00:00+00:00",
          "2019-08-12T04:00:00+00:00",
          "2019-08-13T04:00:00+00:00",
          "2019-08-14T04:00:00+00:00",
          "2019-08-15T04:00:00+00:00",
          "2019-08-16T04:00:00+00:00",
          "2019-08-19T04:00:00+00:00",
          "2019-08-20T04:00:00+00:00",
          "2019-08-21T04:00:00+00:00",
          "2019-08-22T04:00:00+00:00",
          "2019-08-23T04:00:00+00:00",
          "2019-08-26T04:00:00+00:00",
          "2019-08-27T04:00:00+00:00",
          "2019-08-28T04:00:00+00:00",
          "2019-08-29T04:00:00+00:00",
          "2019-08-30T04:00:00+00:00",
          "2019-09-03T04:00:00+00:00",
          "2019-09-04T04:00:00+00:00",
          "2019-09-05T04:00:00+00:00",
          "2019-09-06T04:00:00+00:00",
          "2019-09-09T04:00:00+00:00",
          "2019-09-10T04:00:00+00:00",
          "2019-09-11T04:00:00+00:00",
          "2019-09-12T04:00:00+00:00",
          "2019-09-13T04:00:00+00:00",
          "2019-09-16T04:00:00+00:00",
          "2019-09-17T04:00:00+00:00",
          "2019-09-18T04:00:00+00:00",
          "2019-09-19T04:00:00+00:00",
          "2019-09-20T04:00:00+00:00",
          "2019-09-23T04:00:00+00:00",
          "2019-09-24T04:00:00+00:00",
          "2019-09-25T04:00:00+00:00",
          "2019-09-26T04:00:00+00:00",
          "2019-09-27T04:00:00+00:00",
          "2019-09-30T04:00:00+00:00",
          "2019-10-01T04:00:00+00:00",
          "2019-10-02T04:00:00+00:00",
          "2019-10-03T04:00:00+00:00",
          "2019-10-04T04:00:00+00:00",
          "2019-10-07T04:00:00+00:00",
          "2019-10-08T04:00:00+00:00",
          "2019-10-09T04:00:00+00:00",
          "2019-10-10T04:00:00+00:00",
          "2019-10-11T04:00:00+00:00",
          "2019-10-14T04:00:00+00:00",
          "2019-10-15T04:00:00+00:00",
          "2019-10-16T04:00:00+00:00",
          "2019-10-17T04:00:00+00:00",
          "2019-10-18T04:00:00+00:00",
          "2019-10-21T04:00:00+00:00",
          "2019-10-22T04:00:00+00:00",
          "2019-10-23T04:00:00+00:00",
          "2019-10-24T04:00:00+00:00",
          "2019-10-25T04:00:00+00:00",
          "2019-10-28T04:00:00+00:00",
          "2019-10-29T04:00:00+00:00",
          "2019-10-30T04:00:00+00:00",
          "2019-10-31T04:00:00+00:00",
          "2019-11-01T04:00:00+00:00",
          "2019-11-04T05:00:00+00:00",
          "2019-11-05T05:00:00+00:00",
          "2019-11-06T05:00:00+00:00",
          "2019-11-07T05:00:00+00:00",
          "2019-11-08T05:00:00+00:00",
          "2019-11-11T05:00:00+00:00",
          "2019-11-12T05:00:00+00:00",
          "2019-11-13T05:00:00+00:00",
          "2019-11-14T05:00:00+00:00",
          "2019-11-15T05:00:00+00:00",
          "2019-11-18T05:00:00+00:00",
          "2019-11-19T05:00:00+00:00",
          "2019-11-20T05:00:00+00:00",
          "2019-11-21T05:00:00+00:00",
          "2019-11-22T05:00:00+00:00",
          "2019-11-25T05:00:00+00:00",
          "2019-11-26T05:00:00+00:00",
          "2019-11-27T05:00:00+00:00",
          "2019-11-29T05:00:00+00:00",
          "2019-12-02T05:00:00+00:00",
          "2019-12-03T05:00:00+00:00",
          "2019-12-04T05:00:00+00:00",
          "2019-12-05T05:00:00+00:00",
          "2019-12-06T05:00:00+00:00",
          "2019-12-09T05:00:00+00:00",
          "2019-12-10T05:00:00+00:00",
          "2019-12-11T05:00:00+00:00",
          "2019-12-12T05:00:00+00:00",
          "2019-12-13T05:00:00+00:00",
          "2019-12-16T05:00:00+00:00",
          "2019-12-17T05:00:00+00:00",
          "2019-12-18T05:00:00+00:00",
          "2019-12-19T05:00:00+00:00",
          "2019-12-20T05:00:00+00:00",
          "2019-12-23T05:00:00+00:00",
          "2019-12-24T05:00:00+00:00",
          "2019-12-26T05:00:00+00:00",
          "2019-12-27T05:00:00+00:00",
          "2019-12-30T05:00:00+00:00",
          "2019-12-31T05:00:00+00:00",
          "2020-01-02T05:00:00+00:00",
          "2020-01-03T05:00:00+00:00",
          "2020-01-06T05:00:00+00:00",
          "2020-01-07T05:00:00+00:00",
          "2020-01-08T05:00:00+00:00",
          "2020-01-09T05:00:00+00:00"
         ],
         "xaxis": "x3",
         "y": [
          1,
          1,
          1,
          1.0113171302630357,
          1.0051444407221481,
          1.0308645132472545,
          1.0462966633166,
          1.062346188894316,
          1.1008234728001016,
          1.1574079520181806,
          1.1703709197168894,
          1.2286013429249234,
          1.1777782537202361,
          1.1759265534122516,
          1.1578192515456764,
          1.1462965780731746,
          1.1294244534404672,
          1.1995889562027804,
          1.1888895211109605,
          1.203704082563372,
          1.2000004688388397,
          1.2000004688388397,
          1.2000004688388397,
          1.2000004688388397,
          1.2000004688388397,
          1.2000004688388397,
          1.2000004688388397,
          1.2000004688388397,
          1.2000004688388397,
          1.2000004688388397,
          1.2000004688388397,
          1.2000004688388397,
          1.2000004688388397,
          1.2000004688388397,
          1.2000004688388397,
          1.2000004688388397,
          1.2000004688388397,
          1.2000004688388397,
          1.2000004688388397,
          1.2000004688388397,
          1.2000004688388397,
          1.2000004688388397,
          1.2000004688388397,
          1.2000004688388397,
          1.2000004688388397,
          1.2000004688388397,
          1.2000004688388397,
          1.1843907121876953,
          1.1880491600940315,
          1.1994323452868731,
          1.1571169925188936,
          1.1868119946446076,
          1.2355612392786626,
          1.2457072590220803,
          1.2635243360809973,
          1.2694627302382322,
          1.2773815995610585,
          1.287774926088547,
          1.287774926088547,
          1.287774926088547,
          1.287774926088547,
          1.287774926088547,
          1.287774926088547,
          1.287774926088547,
          1.287774926088547,
          1.287774926088547,
          1.287774926088547,
          1.287774926088547,
          1.287774926088547,
          1.287774926088547,
          1.287774926088547,
          1.287774926088547,
          1.287774926088547,
          1.287774926088547,
          1.287774926088547,
          1.267143369548709,
          1.2501679268550798,
          1.2418111713772275,
          1.2478177393378524,
          1.2982212703316451,
          1.330082433655063,
          1.330082433655063,
          1.330082433655063,
          1.330082433655063,
          1.330082433655063,
          1.330082433655063,
          1.330082433655063,
          1.330082433655063,
          1.27918680534442,
          1.2373622427489928,
          1.2373622427489928,
          1.2373622427489928,
          1.2373622427489928,
          1.2373622427489928,
          1.2373622427489928,
          1.2373622427489928,
          1.2373622427489928,
          1.2373622427489928,
          1.2373622427489928,
          1.2373622427489928,
          1.2373622427489928,
          1.2373622427489928,
          1.2373622427489928,
          1.2373622427489928,
          1.2373622427489928,
          1.2373622427489928,
          1.2373622427489928,
          1.2373622427489928,
          1.2373622427489928,
          1.2373622427489928,
          1.2373622427489928,
          1.2373622427489928,
          1.2373622427489928,
          1.2373622427489928,
          1.2373622427489928,
          1.2373622427489928,
          1.2373622427489928,
          1.2373622427489928,
          1.2373622427489928,
          1.2373622427489928,
          1.2373622427489928,
          1.2373622427489928,
          1.2373622427489928,
          1.2373622427489928,
          1.2373622427489928,
          1.2373622427489928,
          1.2373622427489928,
          1.2373622427489928,
          1.2373622427489928,
          1.2373622427489928,
          1.2373622427489928,
          1.2373622427489928,
          1.2373622427489928,
          1.2373622427489928,
          1.2373622427489928,
          1.2373622427489928,
          1.2373622427489928,
          1.2373622427489928,
          1.2373622427489928,
          1.2373622427489928,
          1.2373622427489928,
          1.2373622427489928,
          1.2373622427489928,
          1.2373622427489928,
          1.2292235477256979,
          1.2392001741525303,
          1.237099568149692,
          1.255215021398414,
          1.259153427006195,
          1.2370995681496921,
          1.229223547725698,
          1.229223547725698,
          1.229223547725698,
          1.229223547725698,
          1.229223547725698,
          1.229223547725698,
          1.229223547725698,
          1.229223547725698,
          1.229223547725698,
          1.229223547725698,
          1.229223547725698,
          1.229223547725698,
          1.229223547725698,
          1.229223547725698,
          1.229223547725698,
          1.229223547725698,
          1.229223547725698,
          1.229223547725698,
          1.229223547725698,
          1.229223547725698,
          1.229223547725698,
          1.229223547725698,
          1.229223547725698,
          1.229223547725698,
          1.229223547725698,
          1.229223547725698,
          1.229223547725698,
          1.229223547725698,
          1.229223547725698,
          1.229223547725698,
          1.2401353245634419,
          1.2334933274367368,
          1.2624332982068232,
          1.2636189366098554,
          1.2602981144108032,
          1.2595865432470634,
          1.291609949867955,
          1.2638563229581024,
          1.2849681878936505,
          1.2965910655903334,
          1.286865397460423,
          1.2932703609674818,
          1.2954056623397017,
          1.3029959115211924,
          1.3022844579336528,
          1.3098752949961443,
          1.3006239292579265,
          1.2890006988326432,
          1.2982518294184606,
          1.2750051334154933,
          1.2434560291862948,
          1.2384747958877165,
          1.2380003759198233,
          1.2508099502053402,
          1.2380003759198233
         ],
         "yaxis": "y3"
        },
        {
         "hoverinfo": "skip",
         "legendgroup": "6",
         "line": {
          "color": "rgba(0, 0, 0, 0)",
          "width": 0
         },
         "opacity": 0,
         "showlegend": false,
         "type": "scatter",
         "uid": "db47beed-617a-4ffb-bee1-6c1b21503f81",
         "x": [
          "2019-03-20T04:00:00+00:00",
          "2019-03-21T04:00:00+00:00",
          "2019-03-22T04:00:00+00:00",
          "2019-03-25T04:00:00+00:00",
          "2019-03-26T04:00:00+00:00",
          "2019-03-27T04:00:00+00:00",
          "2019-03-28T04:00:00+00:00",
          "2019-03-29T04:00:00+00:00",
          "2019-04-01T04:00:00+00:00",
          "2019-04-02T04:00:00+00:00",
          "2019-04-03T04:00:00+00:00",
          "2019-04-04T04:00:00+00:00",
          "2019-04-05T04:00:00+00:00",
          "2019-04-08T04:00:00+00:00",
          "2019-04-09T04:00:00+00:00",
          "2019-04-10T04:00:00+00:00",
          "2019-04-11T04:00:00+00:00",
          "2019-04-12T04:00:00+00:00",
          "2019-04-15T04:00:00+00:00",
          "2019-04-16T04:00:00+00:00",
          "2019-04-17T04:00:00+00:00",
          "2019-04-18T04:00:00+00:00",
          "2019-04-22T04:00:00+00:00",
          "2019-04-23T04:00:00+00:00",
          "2019-04-24T04:00:00+00:00",
          "2019-04-25T04:00:00+00:00",
          "2019-04-26T04:00:00+00:00",
          "2019-04-29T04:00:00+00:00",
          "2019-04-30T04:00:00+00:00",
          "2019-05-01T04:00:00+00:00",
          "2019-05-02T04:00:00+00:00",
          "2019-05-03T04:00:00+00:00",
          "2019-05-06T04:00:00+00:00",
          "2019-05-07T04:00:00+00:00",
          "2019-05-08T04:00:00+00:00",
          "2019-05-09T04:00:00+00:00",
          "2019-05-10T04:00:00+00:00",
          "2019-05-13T04:00:00+00:00",
          "2019-05-14T04:00:00+00:00",
          "2019-05-15T04:00:00+00:00",
          "2019-05-16T04:00:00+00:00",
          "2019-05-17T04:00:00+00:00",
          "2019-05-20T04:00:00+00:00",
          "2019-05-21T04:00:00+00:00",
          "2019-05-22T04:00:00+00:00",
          "2019-05-23T04:00:00+00:00",
          "2019-05-24T04:00:00+00:00",
          "2019-05-28T04:00:00+00:00",
          "2019-05-29T04:00:00+00:00",
          "2019-05-30T04:00:00+00:00",
          "2019-05-31T04:00:00+00:00",
          "2019-06-03T04:00:00+00:00",
          "2019-06-04T04:00:00+00:00",
          "2019-06-05T04:00:00+00:00",
          "2019-06-06T04:00:00+00:00",
          "2019-06-07T04:00:00+00:00",
          "2019-06-10T04:00:00+00:00",
          "2019-06-11T04:00:00+00:00",
          "2019-06-12T04:00:00+00:00",
          "2019-06-13T04:00:00+00:00",
          "2019-06-14T04:00:00+00:00",
          "2019-06-17T04:00:00+00:00",
          "2019-06-18T04:00:00+00:00",
          "2019-06-19T04:00:00+00:00",
          "2019-06-20T04:00:00+00:00",
          "2019-06-21T04:00:00+00:00",
          "2019-06-24T04:00:00+00:00",
          "2019-06-25T04:00:00+00:00",
          "2019-06-26T04:00:00+00:00",
          "2019-06-27T04:00:00+00:00",
          "2019-06-28T04:00:00+00:00",
          "2019-07-01T04:00:00+00:00",
          "2019-07-02T04:00:00+00:00",
          "2019-07-03T04:00:00+00:00",
          "2019-07-05T04:00:00+00:00",
          "2019-07-08T04:00:00+00:00",
          "2019-07-09T04:00:00+00:00",
          "2019-07-10T04:00:00+00:00",
          "2019-07-11T04:00:00+00:00",
          "2019-07-12T04:00:00+00:00",
          "2019-07-15T04:00:00+00:00",
          "2019-07-16T04:00:00+00:00",
          "2019-07-17T04:00:00+00:00",
          "2019-07-18T04:00:00+00:00",
          "2019-07-19T04:00:00+00:00",
          "2019-07-22T04:00:00+00:00",
          "2019-07-23T04:00:00+00:00",
          "2019-07-24T04:00:00+00:00",
          "2019-07-25T04:00:00+00:00",
          "2019-07-26T04:00:00+00:00",
          "2019-07-29T04:00:00+00:00",
          "2019-07-30T04:00:00+00:00",
          "2019-07-31T04:00:00+00:00",
          "2019-08-01T04:00:00+00:00",
          "2019-08-02T04:00:00+00:00",
          "2019-08-05T04:00:00+00:00",
          "2019-08-06T04:00:00+00:00",
          "2019-08-07T04:00:00+00:00",
          "2019-08-08T04:00:00+00:00",
          "2019-08-09T04:00:00+00:00",
          "2019-08-12T04:00:00+00:00",
          "2019-08-13T04:00:00+00:00",
          "2019-08-14T04:00:00+00:00",
          "2019-08-15T04:00:00+00:00",
          "2019-08-16T04:00:00+00:00",
          "2019-08-19T04:00:00+00:00",
          "2019-08-20T04:00:00+00:00",
          "2019-08-21T04:00:00+00:00",
          "2019-08-22T04:00:00+00:00",
          "2019-08-23T04:00:00+00:00",
          "2019-08-26T04:00:00+00:00",
          "2019-08-27T04:00:00+00:00",
          "2019-08-28T04:00:00+00:00",
          "2019-08-29T04:00:00+00:00",
          "2019-08-30T04:00:00+00:00",
          "2019-09-03T04:00:00+00:00",
          "2019-09-04T04:00:00+00:00",
          "2019-09-05T04:00:00+00:00",
          "2019-09-06T04:00:00+00:00",
          "2019-09-09T04:00:00+00:00",
          "2019-09-10T04:00:00+00:00",
          "2019-09-11T04:00:00+00:00",
          "2019-09-12T04:00:00+00:00",
          "2019-09-13T04:00:00+00:00",
          "2019-09-16T04:00:00+00:00",
          "2019-09-17T04:00:00+00:00",
          "2019-09-18T04:00:00+00:00",
          "2019-09-19T04:00:00+00:00",
          "2019-09-20T04:00:00+00:00",
          "2019-09-23T04:00:00+00:00",
          "2019-09-24T04:00:00+00:00",
          "2019-09-25T04:00:00+00:00",
          "2019-09-26T04:00:00+00:00",
          "2019-09-27T04:00:00+00:00",
          "2019-09-30T04:00:00+00:00",
          "2019-10-01T04:00:00+00:00",
          "2019-10-02T04:00:00+00:00",
          "2019-10-03T04:00:00+00:00",
          "2019-10-04T04:00:00+00:00",
          "2019-10-07T04:00:00+00:00",
          "2019-10-08T04:00:00+00:00",
          "2019-10-09T04:00:00+00:00",
          "2019-10-10T04:00:00+00:00",
          "2019-10-11T04:00:00+00:00",
          "2019-10-14T04:00:00+00:00",
          "2019-10-15T04:00:00+00:00",
          "2019-10-16T04:00:00+00:00",
          "2019-10-17T04:00:00+00:00",
          "2019-10-18T04:00:00+00:00",
          "2019-10-21T04:00:00+00:00",
          "2019-10-22T04:00:00+00:00",
          "2019-10-23T04:00:00+00:00",
          "2019-10-24T04:00:00+00:00",
          "2019-10-25T04:00:00+00:00",
          "2019-10-28T04:00:00+00:00",
          "2019-10-29T04:00:00+00:00",
          "2019-10-30T04:00:00+00:00",
          "2019-10-31T04:00:00+00:00",
          "2019-11-01T04:00:00+00:00",
          "2019-11-04T05:00:00+00:00",
          "2019-11-05T05:00:00+00:00",
          "2019-11-06T05:00:00+00:00",
          "2019-11-07T05:00:00+00:00",
          "2019-11-08T05:00:00+00:00",
          "2019-11-11T05:00:00+00:00",
          "2019-11-12T05:00:00+00:00",
          "2019-11-13T05:00:00+00:00",
          "2019-11-14T05:00:00+00:00",
          "2019-11-15T05:00:00+00:00",
          "2019-11-18T05:00:00+00:00",
          "2019-11-19T05:00:00+00:00",
          "2019-11-20T05:00:00+00:00",
          "2019-11-21T05:00:00+00:00",
          "2019-11-22T05:00:00+00:00",
          "2019-11-25T05:00:00+00:00",
          "2019-11-26T05:00:00+00:00",
          "2019-11-27T05:00:00+00:00",
          "2019-11-29T05:00:00+00:00",
          "2019-12-02T05:00:00+00:00",
          "2019-12-03T05:00:00+00:00",
          "2019-12-04T05:00:00+00:00",
          "2019-12-05T05:00:00+00:00",
          "2019-12-06T05:00:00+00:00",
          "2019-12-09T05:00:00+00:00",
          "2019-12-10T05:00:00+00:00",
          "2019-12-11T05:00:00+00:00",
          "2019-12-12T05:00:00+00:00",
          "2019-12-13T05:00:00+00:00",
          "2019-12-16T05:00:00+00:00",
          "2019-12-17T05:00:00+00:00",
          "2019-12-18T05:00:00+00:00",
          "2019-12-19T05:00:00+00:00",
          "2019-12-20T05:00:00+00:00",
          "2019-12-23T05:00:00+00:00",
          "2019-12-24T05:00:00+00:00",
          "2019-12-26T05:00:00+00:00",
          "2019-12-27T05:00:00+00:00",
          "2019-12-30T05:00:00+00:00",
          "2019-12-31T05:00:00+00:00",
          "2020-01-02T05:00:00+00:00",
          "2020-01-03T05:00:00+00:00",
          "2020-01-06T05:00:00+00:00",
          "2020-01-07T05:00:00+00:00",
          "2020-01-08T05:00:00+00:00",
          "2020-01-09T05:00:00+00:00"
         ],
         "xaxis": "x3",
         "y": [
          1,
          1,
          1,
          1,
          1,
          1,
          1,
          1,
          1,
          1,
          1,
          1,
          1,
          1,
          1,
          1,
          1,
          1,
          1,
          1,
          1,
          1,
          1,
          1,
          1,
          1,
          1,
          1,
          1,
          1,
          1,
          1,
          1,
          1,
          1,
          1,
          1,
          1,
          1,
          1,
          1,
          1,
          1,
          1,
          1,
          1,
          1,
          1,
          1,
          1,
          1,
          1,
          1,
          1,
          1,
          1,
          1,
          1,
          1,
          1,
          1,
          1,
          1,
          1,
          1,
          1,
          1,
          1,
          1,
          1,
          1,
          1,
          1,
          1,
          1,
          1,
          1,
          1,
          1,
          1,
          1,
          1,
          1,
          1,
          1,
          1,
          1,
          1,
          1,
          1,
          1,
          1,
          1,
          1,
          1,
          1,
          1,
          1,
          1,
          1,
          1,
          1,
          1,
          1,
          1,
          1,
          1,
          1,
          1,
          1,
          1,
          1,
          1,
          1,
          1,
          1,
          1,
          1,
          1,
          1,
          1,
          1,
          1,
          1,
          1,
          1,
          1,
          1,
          1,
          1,
          1,
          1,
          1,
          1,
          1,
          1,
          1,
          1,
          1,
          1,
          1,
          1,
          1,
          1,
          1,
          1,
          1,
          1,
          1,
          1,
          1,
          1,
          1,
          1,
          1,
          1,
          1,
          1,
          1,
          1,
          1,
          1,
          1,
          1,
          1,
          1,
          1,
          1,
          1,
          1,
          1,
          1,
          1,
          1,
          1,
          1,
          1,
          1,
          1,
          1,
          1,
          1,
          1,
          1,
          1,
          1,
          1,
          1,
          1,
          1,
          1,
          1,
          1,
          1,
          1,
          1,
          1,
          1,
          1,
          1,
          1,
          1,
          1,
          1,
          1
         ],
         "yaxis": "y3"
        }
       ],
       "layout": {
        "annotations": [
         {
          "font": {
           "size": 16
          },
          "showarrow": false,
          "text": "Orders",
          "x": 0.5,
          "xanchor": "center",
          "xref": "paper",
          "y": 1,
          "yanchor": "bottom",
          "yref": "paper"
         },
         {
          "font": {
           "size": 16
          },
          "showarrow": false,
          "text": "Trade PnL",
          "x": 0.5,
          "xanchor": "center",
          "xref": "paper",
          "y": 0.6527777777777777,
          "yanchor": "bottom",
          "yref": "paper"
         },
         {
          "font": {
           "size": 16
          },
          "showarrow": false,
          "text": "Cumulative Returns",
          "x": 0.5,
          "xanchor": "center",
          "xref": "paper",
          "y": 0.3055555555555555,
          "yanchor": "bottom",
          "yref": "paper"
         }
        ],
        "height": 960,
        "legend": {
         "orientation": "h",
         "traceorder": "normal",
         "x": 1,
         "xanchor": "right",
         "y": 1.0416666666666667,
         "yanchor": "bottom"
        },
        "margin": {
         "b": 30,
         "l": 30,
         "r": 30,
         "t": 30
        },
        "shapes": [
         {
          "line": {
           "color": "gray",
           "dash": "dash"
          },
          "type": "line",
          "x0": 0,
          "x1": 1,
          "xref": "paper",
          "y0": 0,
          "y1": 0,
          "yref": "y2"
         },
         {
          "line": {
           "color": "gray",
           "dash": "dash"
          },
          "type": "line",
          "x0": 0,
          "x1": 1,
          "xref": "paper",
          "y0": 1,
          "y1": 1,
          "yref": "y3"
         }
        ],
        "showlegend": true,
        "template": {
         "data": {
          "bar": [
           {
            "error_x": {
             "color": "#2a3f5f"
            },
            "error_y": {
             "color": "#2a3f5f"
            },
            "marker": {
             "line": {
              "color": "#E5ECF6",
              "width": 0.5
             }
            },
            "type": "bar"
           }
          ],
          "barpolar": [
           {
            "marker": {
             "line": {
              "color": "#E5ECF6",
              "width": 0.5
             }
            },
            "type": "barpolar"
           }
          ],
          "carpet": [
           {
            "aaxis": {
             "endlinecolor": "#2a3f5f",
             "gridcolor": "white",
             "linecolor": "white",
             "minorgridcolor": "white",
             "startlinecolor": "#2a3f5f"
            },
            "baxis": {
             "endlinecolor": "#2a3f5f",
             "gridcolor": "white",
             "linecolor": "white",
             "minorgridcolor": "white",
             "startlinecolor": "#2a3f5f"
            },
            "type": "carpet"
           }
          ],
          "choropleth": [
           {
            "colorbar": {
             "outlinewidth": 0,
             "ticks": ""
            },
            "type": "choropleth"
           }
          ],
          "contour": [
           {
            "colorbar": {
             "outlinewidth": 0,
             "ticks": ""
            },
            "colorscale": [
             [
              0,
              "#0d0887"
             ],
             [
              0.1111111111111111,
              "#46039f"
             ],
             [
              0.2222222222222222,
              "#7201a8"
             ],
             [
              0.3333333333333333,
              "#9c179e"
             ],
             [
              0.4444444444444444,
              "#bd3786"
             ],
             [
              0.5555555555555556,
              "#d8576b"
             ],
             [
              0.6666666666666666,
              "#ed7953"
             ],
             [
              0.7777777777777778,
              "#fb9f3a"
             ],
             [
              0.8888888888888888,
              "#fdca26"
             ],
             [
              1,
              "#f0f921"
             ]
            ],
            "type": "contour"
           }
          ],
          "contourcarpet": [
           {
            "colorbar": {
             "outlinewidth": 0,
             "ticks": ""
            },
            "type": "contourcarpet"
           }
          ],
          "heatmap": [
           {
            "colorbar": {
             "outlinewidth": 0,
             "ticks": ""
            },
            "colorscale": [
             [
              0,
              "#0d0887"
             ],
             [
              0.1111111111111111,
              "#46039f"
             ],
             [
              0.2222222222222222,
              "#7201a8"
             ],
             [
              0.3333333333333333,
              "#9c179e"
             ],
             [
              0.4444444444444444,
              "#bd3786"
             ],
             [
              0.5555555555555556,
              "#d8576b"
             ],
             [
              0.6666666666666666,
              "#ed7953"
             ],
             [
              0.7777777777777778,
              "#fb9f3a"
             ],
             [
              0.8888888888888888,
              "#fdca26"
             ],
             [
              1,
              "#f0f921"
             ]
            ],
            "type": "heatmap"
           }
          ],
          "heatmapgl": [
           {
            "colorbar": {
             "outlinewidth": 0,
             "ticks": ""
            },
            "colorscale": [
             [
              0,
              "#0d0887"
             ],
             [
              0.1111111111111111,
              "#46039f"
             ],
             [
              0.2222222222222222,
              "#7201a8"
             ],
             [
              0.3333333333333333,
              "#9c179e"
             ],
             [
              0.4444444444444444,
              "#bd3786"
             ],
             [
              0.5555555555555556,
              "#d8576b"
             ],
             [
              0.6666666666666666,
              "#ed7953"
             ],
             [
              0.7777777777777778,
              "#fb9f3a"
             ],
             [
              0.8888888888888888,
              "#fdca26"
             ],
             [
              1,
              "#f0f921"
             ]
            ],
            "type": "heatmapgl"
           }
          ],
          "histogram": [
           {
            "marker": {
             "colorbar": {
              "outlinewidth": 0,
              "ticks": ""
             }
            },
            "type": "histogram"
           }
          ],
          "histogram2d": [
           {
            "colorbar": {
             "outlinewidth": 0,
             "ticks": ""
            },
            "colorscale": [
             [
              0,
              "#0d0887"
             ],
             [
              0.1111111111111111,
              "#46039f"
             ],
             [
              0.2222222222222222,
              "#7201a8"
             ],
             [
              0.3333333333333333,
              "#9c179e"
             ],
             [
              0.4444444444444444,
              "#bd3786"
             ],
             [
              0.5555555555555556,
              "#d8576b"
             ],
             [
              0.6666666666666666,
              "#ed7953"
             ],
             [
              0.7777777777777778,
              "#fb9f3a"
             ],
             [
              0.8888888888888888,
              "#fdca26"
             ],
             [
              1,
              "#f0f921"
             ]
            ],
            "type": "histogram2d"
           }
          ],
          "histogram2dcontour": [
           {
            "colorbar": {
             "outlinewidth": 0,
             "ticks": ""
            },
            "colorscale": [
             [
              0,
              "#0d0887"
             ],
             [
              0.1111111111111111,
              "#46039f"
             ],
             [
              0.2222222222222222,
              "#7201a8"
             ],
             [
              0.3333333333333333,
              "#9c179e"
             ],
             [
              0.4444444444444444,
              "#bd3786"
             ],
             [
              0.5555555555555556,
              "#d8576b"
             ],
             [
              0.6666666666666666,
              "#ed7953"
             ],
             [
              0.7777777777777778,
              "#fb9f3a"
             ],
             [
              0.8888888888888888,
              "#fdca26"
             ],
             [
              1,
              "#f0f921"
             ]
            ],
            "type": "histogram2dcontour"
           }
          ],
          "mesh3d": [
           {
            "colorbar": {
             "outlinewidth": 0,
             "ticks": ""
            },
            "type": "mesh3d"
           }
          ],
          "parcoords": [
           {
            "line": {
             "colorbar": {
              "outlinewidth": 0,
              "ticks": ""
             }
            },
            "type": "parcoords"
           }
          ],
          "pie": [
           {
            "automargin": true,
            "type": "pie"
           }
          ],
          "scatter": [
           {
            "marker": {
             "colorbar": {
              "outlinewidth": 0,
              "ticks": ""
             }
            },
            "type": "scatter"
           }
          ],
          "scatter3d": [
           {
            "line": {
             "colorbar": {
              "outlinewidth": 0,
              "ticks": ""
             }
            },
            "marker": {
             "colorbar": {
              "outlinewidth": 0,
              "ticks": ""
             }
            },
            "type": "scatter3d"
           }
          ],
          "scattercarpet": [
           {
            "marker": {
             "colorbar": {
              "outlinewidth": 0,
              "ticks": ""
             }
            },
            "type": "scattercarpet"
           }
          ],
          "scattergeo": [
           {
            "marker": {
             "colorbar": {
              "outlinewidth": 0,
              "ticks": ""
             }
            },
            "type": "scattergeo"
           }
          ],
          "scattergl": [
           {
            "marker": {
             "colorbar": {
              "outlinewidth": 0,
              "ticks": ""
             }
            },
            "type": "scattergl"
           }
          ],
          "scattermapbox": [
           {
            "marker": {
             "colorbar": {
              "outlinewidth": 0,
              "ticks": ""
             }
            },
            "type": "scattermapbox"
           }
          ],
          "scatterpolar": [
           {
            "marker": {
             "colorbar": {
              "outlinewidth": 0,
              "ticks": ""
             }
            },
            "type": "scatterpolar"
           }
          ],
          "scatterpolargl": [
           {
            "marker": {
             "colorbar": {
              "outlinewidth": 0,
              "ticks": ""
             }
            },
            "type": "scatterpolargl"
           }
          ],
          "scatterternary": [
           {
            "marker": {
             "colorbar": {
              "outlinewidth": 0,
              "ticks": ""
             }
            },
            "type": "scatterternary"
           }
          ],
          "surface": [
           {
            "colorbar": {
             "outlinewidth": 0,
             "ticks": ""
            },
            "colorscale": [
             [
              0,
              "#0d0887"
             ],
             [
              0.1111111111111111,
              "#46039f"
             ],
             [
              0.2222222222222222,
              "#7201a8"
             ],
             [
              0.3333333333333333,
              "#9c179e"
             ],
             [
              0.4444444444444444,
              "#bd3786"
             ],
             [
              0.5555555555555556,
              "#d8576b"
             ],
             [
              0.6666666666666666,
              "#ed7953"
             ],
             [
              0.7777777777777778,
              "#fb9f3a"
             ],
             [
              0.8888888888888888,
              "#fdca26"
             ],
             [
              1,
              "#f0f921"
             ]
            ],
            "type": "surface"
           }
          ],
          "table": [
           {
            "cells": {
             "fill": {
              "color": "#EBF0F8"
             },
             "line": {
              "color": "white"
             }
            },
            "header": {
             "fill": {
              "color": "#C8D4E3"
             },
             "line": {
              "color": "white"
             }
            },
            "type": "table"
           }
          ]
         },
         "layout": {
          "annotationdefaults": {
           "arrowcolor": "#2a3f5f",
           "arrowhead": 0,
           "arrowwidth": 1
          },
          "coloraxis": {
           "colorbar": {
            "outlinewidth": 0,
            "ticks": ""
           }
          },
          "colorscale": {
           "diverging": [
            [
             0,
             "#8e0152"
            ],
            [
             0.1,
             "#c51b7d"
            ],
            [
             0.2,
             "#de77ae"
            ],
            [
             0.3,
             "#f1b6da"
            ],
            [
             0.4,
             "#fde0ef"
            ],
            [
             0.5,
             "#f7f7f7"
            ],
            [
             0.6,
             "#e6f5d0"
            ],
            [
             0.7,
             "#b8e186"
            ],
            [
             0.8,
             "#7fbc41"
            ],
            [
             0.9,
             "#4d9221"
            ],
            [
             1,
             "#276419"
            ]
           ],
           "sequential": [
            [
             0,
             "#0d0887"
            ],
            [
             0.1111111111111111,
             "#46039f"
            ],
            [
             0.2222222222222222,
             "#7201a8"
            ],
            [
             0.3333333333333333,
             "#9c179e"
            ],
            [
             0.4444444444444444,
             "#bd3786"
            ],
            [
             0.5555555555555556,
             "#d8576b"
            ],
            [
             0.6666666666666666,
             "#ed7953"
            ],
            [
             0.7777777777777778,
             "#fb9f3a"
            ],
            [
             0.8888888888888888,
             "#fdca26"
            ],
            [
             1,
             "#f0f921"
            ]
           ],
           "sequentialminus": [
            [
             0,
             "#0d0887"
            ],
            [
             0.1111111111111111,
             "#46039f"
            ],
            [
             0.2222222222222222,
             "#7201a8"
            ],
            [
             0.3333333333333333,
             "#9c179e"
            ],
            [
             0.4444444444444444,
             "#bd3786"
            ],
            [
             0.5555555555555556,
             "#d8576b"
            ],
            [
             0.6666666666666666,
             "#ed7953"
            ],
            [
             0.7777777777777778,
             "#fb9f3a"
            ],
            [
             0.8888888888888888,
             "#fdca26"
            ],
            [
             1,
             "#f0f921"
            ]
           ]
          },
          "colorway": [
           "#1f77b4",
           "#ff7f0e",
           "#2ca02c",
           "#dc3912",
           "#9467bd",
           "#8c564b",
           "#e377c2",
           "#7f7f7f",
           "#bcbd22",
           "#17becf"
          ],
          "font": {
           "color": "#2a3f5f"
          },
          "geo": {
           "bgcolor": "white",
           "lakecolor": "white",
           "landcolor": "#E5ECF6",
           "showlakes": true,
           "showland": true,
           "subunitcolor": "white"
          },
          "hoverlabel": {
           "align": "left"
          },
          "hovermode": "closest",
          "mapbox": {
           "style": "light"
          },
          "paper_bgcolor": "white",
          "plot_bgcolor": "#E5ECF6",
          "polar": {
           "angularaxis": {
            "gridcolor": "white",
            "linecolor": "white",
            "ticks": ""
           },
           "bgcolor": "#E5ECF6",
           "radialaxis": {
            "gridcolor": "white",
            "linecolor": "white",
            "ticks": ""
           }
          },
          "scene": {
           "xaxis": {
            "backgroundcolor": "#E5ECF6",
            "gridcolor": "white",
            "gridwidth": 2,
            "linecolor": "white",
            "showbackground": true,
            "ticks": "",
            "zerolinecolor": "white"
           },
           "yaxis": {
            "backgroundcolor": "#E5ECF6",
            "gridcolor": "white",
            "gridwidth": 2,
            "linecolor": "white",
            "showbackground": true,
            "ticks": "",
            "zerolinecolor": "white"
           },
           "zaxis": {
            "backgroundcolor": "#E5ECF6",
            "gridcolor": "white",
            "gridwidth": 2,
            "linecolor": "white",
            "showbackground": true,
            "ticks": "",
            "zerolinecolor": "white"
           }
          },
          "shapedefaults": {
           "line": {
            "color": "#2a3f5f"
           }
          },
          "ternary": {
           "aaxis": {
            "gridcolor": "white",
            "linecolor": "white",
            "ticks": ""
           },
           "baxis": {
            "gridcolor": "white",
            "linecolor": "white",
            "ticks": ""
           },
           "bgcolor": "#E5ECF6",
           "caxis": {
            "gridcolor": "white",
            "linecolor": "white",
            "ticks": ""
           }
          },
          "title": {
           "x": 0.05
          },
          "xaxis": {
           "automargin": true,
           "gridcolor": "white",
           "linecolor": "white",
           "ticks": "",
           "title": {
            "standoff": 15
           },
           "zerolinecolor": "white",
           "zerolinewidth": 2
          },
          "yaxis": {
           "automargin": true,
           "gridcolor": "white",
           "linecolor": "white",
           "ticks": "",
           "title": {
            "standoff": 15
           },
           "zerolinecolor": "white",
           "zerolinewidth": 2
          }
         }
        },
        "width": 750,
        "xaxis": {
         "anchor": "y",
         "domain": [
          0,
          1
         ],
         "matches": "x3",
         "showticklabels": false
        },
        "xaxis2": {
         "anchor": "y2",
         "domain": [
          0,
          1
         ],
         "matches": "x3",
         "showticklabels": false
        },
        "xaxis3": {
         "anchor": "y3",
         "domain": [
          0,
          1
         ],
         "title": {
          "text": "Index"
         }
        },
        "yaxis": {
         "anchor": "x",
         "domain": [
          0.6944444444444444,
          1
         ],
         "title": {
          "text": "Price"
         }
        },
        "yaxis2": {
         "anchor": "x2",
         "domain": [
          0.3472222222222222,
          0.6527777777777777
         ],
         "tickformat": ".2%",
         "title": {
          "text": "Trade PnL"
         }
        },
        "yaxis3": {
         "anchor": "x3",
         "domain": [
          0,
          0.3055555555555555
         ],
         "title": {
          "text": "Cumulative returns"
         }
        }
       }
      }
     },
     "metadata": {},
     "output_type": "display_data"
    }
   ],
   "source": [
    "portfolio.plot().show()"
   ]
  },
  {
   "cell_type": "markdown",
   "metadata": {},
   "source": [
    "#### Detalhes das entradas e saidas"
   ]
  },
  {
   "cell_type": "code",
   "execution_count": 17,
   "metadata": {},
   "outputs": [
    {
     "data": {
      "text/html": [
       "<div>\n",
       "<style scoped>\n",
       "    .dataframe tbody tr th:only-of-type {\n",
       "        vertical-align: middle;\n",
       "    }\n",
       "\n",
       "    .dataframe tbody tr th {\n",
       "        vertical-align: top;\n",
       "    }\n",
       "\n",
       "    .dataframe thead th {\n",
       "        text-align: right;\n",
       "    }\n",
       "</style>\n",
       "<table border=\"1\" class=\"dataframe\">\n",
       "  <thead>\n",
       "    <tr style=\"text-align: right;\">\n",
       "      <th></th>\n",
       "      <th>Position Id</th>\n",
       "      <th>Column</th>\n",
       "      <th>Size</th>\n",
       "      <th>Entry Timestamp</th>\n",
       "      <th>Avg Entry Price</th>\n",
       "      <th>Entry Fees</th>\n",
       "      <th>Exit Timestamp</th>\n",
       "      <th>Avg Exit Price</th>\n",
       "      <th>Exit Fees</th>\n",
       "      <th>PnL</th>\n",
       "      <th>Return</th>\n",
       "      <th>Direction</th>\n",
       "      <th>Status</th>\n",
       "    </tr>\n",
       "  </thead>\n",
       "  <tbody>\n",
       "    <tr>\n",
       "      <th>0</th>\n",
       "      <td>0</td>\n",
       "      <td>0</td>\n",
       "      <td>2.793257</td>\n",
       "      <td>2019-03-22 04:00:00+00:00</td>\n",
       "      <td>35.800507</td>\n",
       "      <td>0.0</td>\n",
       "      <td>2019-04-17 04:00:00+00:00</td>\n",
       "      <td>42.960625</td>\n",
       "      <td>0.0</td>\n",
       "      <td>20.000047</td>\n",
       "      <td>0.200000</td>\n",
       "      <td>Long</td>\n",
       "      <td>Closed</td>\n",
       "    </tr>\n",
       "    <tr>\n",
       "      <th>1</th>\n",
       "      <td>1</td>\n",
       "      <td>0</td>\n",
       "      <td>3.311031</td>\n",
       "      <td>2019-05-24 04:00:00+00:00</td>\n",
       "      <td>36.242500</td>\n",
       "      <td>0.0</td>\n",
       "      <td>2019-06-11 04:00:00+00:00</td>\n",
       "      <td>38.893471</td>\n",
       "      <td>0.0</td>\n",
       "      <td>8.777446</td>\n",
       "      <td>0.073145</td>\n",
       "      <td>Long</td>\n",
       "      <td>Closed</td>\n",
       "    </tr>\n",
       "    <tr>\n",
       "      <th>2</th>\n",
       "      <td>2</td>\n",
       "      <td>0</td>\n",
       "      <td>3.494343</td>\n",
       "      <td>2019-07-05 04:00:00+00:00</td>\n",
       "      <td>36.853138</td>\n",
       "      <td>0.0</td>\n",
       "      <td>2019-07-15 04:00:00+00:00</td>\n",
       "      <td>38.063881</td>\n",
       "      <td>0.0</td>\n",
       "      <td>4.230751</td>\n",
       "      <td>0.032853</td>\n",
       "      <td>Long</td>\n",
       "      <td>Closed</td>\n",
       "    </tr>\n",
       "    <tr>\n",
       "      <th>3</th>\n",
       "      <td>3</td>\n",
       "      <td>0</td>\n",
       "      <td>3.371222</td>\n",
       "      <td>2019-07-24 04:00:00+00:00</td>\n",
       "      <td>39.454010</td>\n",
       "      <td>0.0</td>\n",
       "      <td>2019-07-26 04:00:00+00:00</td>\n",
       "      <td>36.703667</td>\n",
       "      <td>0.0</td>\n",
       "      <td>-9.272019</td>\n",
       "      <td>-0.069710</td>\n",
       "      <td>Long</td>\n",
       "      <td>Closed</td>\n",
       "    </tr>\n",
       "    <tr>\n",
       "      <th>4</th>\n",
       "      <td>4</td>\n",
       "      <td>0</td>\n",
       "      <td>3.455021</td>\n",
       "      <td>2019-10-11 04:00:00+00:00</td>\n",
       "      <td>35.813450</td>\n",
       "      <td>0.0</td>\n",
       "      <td>2019-10-22 04:00:00+00:00</td>\n",
       "      <td>35.577888</td>\n",
       "      <td>0.0</td>\n",
       "      <td>-0.813870</td>\n",
       "      <td>-0.006577</td>\n",
       "      <td>Long</td>\n",
       "      <td>Closed</td>\n",
       "    </tr>\n",
       "    <tr>\n",
       "      <th>5</th>\n",
       "      <td>5</td>\n",
       "      <td>0</td>\n",
       "      <td>3.082190</td>\n",
       "      <td>2019-12-03 05:00:00+00:00</td>\n",
       "      <td>39.881504</td>\n",
       "      <td>0.0</td>\n",
       "      <td>2020-01-09 05:00:00+00:00</td>\n",
       "      <td>40.166264</td>\n",
       "      <td>0.0</td>\n",
       "      <td>0.877683</td>\n",
       "      <td>0.007140</td>\n",
       "      <td>Long</td>\n",
       "      <td>Closed</td>\n",
       "    </tr>\n",
       "  </tbody>\n",
       "</table>\n",
       "</div>"
      ],
      "text/plain": [
       "   Position Id  Column      Size           Entry Timestamp  Avg Entry Price  \\\n",
       "0            0       0  2.793257 2019-03-22 04:00:00+00:00        35.800507   \n",
       "1            1       0  3.311031 2019-05-24 04:00:00+00:00        36.242500   \n",
       "2            2       0  3.494343 2019-07-05 04:00:00+00:00        36.853138   \n",
       "3            3       0  3.371222 2019-07-24 04:00:00+00:00        39.454010   \n",
       "4            4       0  3.455021 2019-10-11 04:00:00+00:00        35.813450   \n",
       "5            5       0  3.082190 2019-12-03 05:00:00+00:00        39.881504   \n",
       "\n",
       "   Entry Fees            Exit Timestamp  Avg Exit Price  Exit Fees        PnL  \\\n",
       "0         0.0 2019-04-17 04:00:00+00:00       42.960625        0.0  20.000047   \n",
       "1         0.0 2019-06-11 04:00:00+00:00       38.893471        0.0   8.777446   \n",
       "2         0.0 2019-07-15 04:00:00+00:00       38.063881        0.0   4.230751   \n",
       "3         0.0 2019-07-26 04:00:00+00:00       36.703667        0.0  -9.272019   \n",
       "4         0.0 2019-10-22 04:00:00+00:00       35.577888        0.0  -0.813870   \n",
       "5         0.0 2020-01-09 05:00:00+00:00       40.166264        0.0   0.877683   \n",
       "\n",
       "     Return Direction  Status  \n",
       "0  0.200000      Long  Closed  \n",
       "1  0.073145      Long  Closed  \n",
       "2  0.032853      Long  Closed  \n",
       "3 -0.069710      Long  Closed  \n",
       "4 -0.006577      Long  Closed  \n",
       "5  0.007140      Long  Closed  "
      ]
     },
     "execution_count": 17,
     "metadata": {},
     "output_type": "execute_result"
    }
   ],
   "source": [
    "positions_df = portfolio.positions.records_readable\n",
    "\n",
    "# Salvar DataFrame em um arquivo CSV\n",
    "positions_df.to_csv('positions.csv', index=False)\n",
    "\n",
    "portfolio.positions.records_readable"
   ]
  },
  {
   "cell_type": "code",
   "execution_count": null,
   "metadata": {},
   "outputs": [],
   "source": []
  }
 ],
 "metadata": {
  "kernelspec": {
   "display_name": "Python 3",
   "language": "python",
   "name": "python3"
  },
  "language_info": {
   "codemirror_mode": {
    "name": "ipython",
    "version": 3
   },
   "file_extension": ".py",
   "mimetype": "text/x-python",
   "name": "python",
   "nbconvert_exporter": "python",
   "pygments_lexer": "ipython3",
   "version": "3.11.0"
  }
 },
 "nbformat": 4,
 "nbformat_minor": 4
}
